{
 "cells": [
  {
   "cell_type": "code",
   "execution_count": 1,
   "id": "1dc718aa",
   "metadata": {},
   "outputs": [],
   "source": [
    "import pandas as pd\n",
    "import bz2\n",
    "import json\n",
    "import seaborn as sns\n",
    "import matplotlib.pyplot as plt\n",
    "import numpy as np\n",
    "from collections import Counter"
   ]
  },
  {
   "cell_type": "code",
   "execution_count": 2,
   "id": "49c8ae39",
   "metadata": {},
   "outputs": [],
   "source": [
    "DATA_FOLDER = 'data/'\n",
    "RETURN_FILE_DATA = DATA_FOLDER+\"known_speaker_male_female.json.bz2\""
   ]
  },
  {
   "cell_type": "code",
   "execution_count": 3,
   "id": "37e2333a",
   "metadata": {},
   "outputs": [],
   "source": [
    "GENDER_DICT = DATA_FOLDER + \"dict_genders.json\"\n",
    "OCC_DICT = DATA_FOLDER + \"dict_occupations.json\"\n",
    "CAT_OCC_DICT = DATA_FOLDER + \"dict_categories_occupations.json\""
   ]
  },
  {
   "cell_type": "code",
   "execution_count": 4,
   "id": "cebfc2bb",
   "metadata": {
    "scrolled": false
   },
   "outputs": [],
   "source": [
    "with open(GENDER_DICT) as json_file:\n",
    "    gender_dict = json.load(json_file)\n",
    "with open(OCC_DICT) as json_file:\n",
    "    occ_dict = json.load(json_file)\n",
    "with open(CAT_OCC_DICT) as json_file:\n",
    "    cat_occ_dict = json.load(json_file)"
   ]
  },
  {
   "cell_type": "code",
   "execution_count": 5,
   "id": "2bcd7881",
   "metadata": {},
   "outputs": [],
   "source": [
    "df = pd.read_json(RETURN_FILE_DATA)"
   ]
  },
  {
   "cell_type": "markdown",
   "id": "d73385d6",
   "metadata": {},
   "source": [
    "Find the gender in the gender dictionnary"
   ]
  },
  {
   "cell_type": "code",
   "execution_count": 6,
   "id": "d4498ee6",
   "metadata": {
    "scrolled": true
   },
   "outputs": [],
   "source": [
    "df['gender'] = [gender_dict[x] for x in df.gender.to_list()]"
   ]
  },
  {
   "cell_type": "code",
   "execution_count": 7,
   "id": "efc12ec7",
   "metadata": {
    "scrolled": true
   },
   "outputs": [
    {
     "data": {
      "text/plain": [
       "68127"
      ]
     },
     "execution_count": 7,
     "metadata": {},
     "output_type": "execute_result"
    }
   ],
   "source": [
    "df.shape[0]"
   ]
  },
  {
   "cell_type": "markdown",
   "id": "96d1678e",
   "metadata": {},
   "source": [
    "Drop the informations that are no use for us"
   ]
  },
  {
   "cell_type": "code",
   "execution_count": 8,
   "id": "ff642fc0",
   "metadata": {},
   "outputs": [],
   "source": [
    "df.drop(columns = ['quoteID','probas','urls','phase'], inplace=True);"
   ]
  },
  {
   "cell_type": "markdown",
   "id": "ae9533ca",
   "metadata": {},
   "source": [
    "Drop the speakers with no occupation"
   ]
  },
  {
   "cell_type": "code",
   "execution_count": 9,
   "id": "577c3b77",
   "metadata": {
    "scrolled": true
   },
   "outputs": [
    {
     "data": {
      "text/plain": [
       "65950"
      ]
     },
     "execution_count": 9,
     "metadata": {},
     "output_type": "execute_result"
    }
   ],
   "source": [
    "df.dropna(axis = 0, subset = ['occupation'], inplace = True)\n",
    "df.shape[0]"
   ]
  },
  {
   "cell_type": "markdown",
   "id": "0e210ce4",
   "metadata": {},
   "source": [
    "# **CODE** si on garde que la première occupation"
   ]
  },
  {
   "cell_type": "markdown",
   "id": "59fc312c",
   "metadata": {},
   "source": [
    "Keep only the first occupation of each speaker and read it thanks to the occupation dictionnary"
   ]
  },
  {
   "cell_type": "code",
   "execution_count": 10,
   "id": "e9849866",
   "metadata": {},
   "outputs": [],
   "source": [
    "df['occupation'] = df['occupation'].apply(lambda x: x[0])"
   ]
  },
  {
   "cell_type": "code",
   "execution_count": 11,
   "id": "a4d6fd35",
   "metadata": {},
   "outputs": [],
   "source": [
    "for idx, row in df.iterrows():\n",
    "        if row['occupation'] not in occ_dict.keys():\n",
    "            df.drop(idx, inplace=True)"
   ]
  },
  {
   "cell_type": "code",
   "execution_count": 12,
   "id": "685ef495",
   "metadata": {},
   "outputs": [],
   "source": [
    "df['occupation'] = [occ_dict[x] for x in df.occupation.to_list()]"
   ]
  },
  {
   "cell_type": "markdown",
   "id": "e3098a01",
   "metadata": {},
   "source": [
    "Create a new colums which puts the occupations into categories of occupations"
   ]
  },
  {
   "cell_type": "code",
   "execution_count": 13,
   "id": "47e635b6",
   "metadata": {},
   "outputs": [],
   "source": [
    "df['categorie'] = 0"
   ]
  },
  {
   "cell_type": "code",
   "execution_count": 14,
   "id": "81f7b067",
   "metadata": {},
   "outputs": [
    {
     "name": "stderr",
     "output_type": "stream",
     "text": [
      "<ipython-input-14-e94b9c8c3ae5>:3: SettingWithCopyWarning: \n",
      "A value is trying to be set on a copy of a slice from a DataFrame\n",
      "\n",
      "See the caveats in the documentation: https://pandas.pydata.org/pandas-docs/stable/user_guide/indexing.html#returning-a-view-versus-a-copy\n",
      "  df.categorie[idx]='Autre'\n",
      "/Users/potdevinjosephine/opt/anaconda3/lib/python3.8/site-packages/pandas/core/indexing.py:1637: SettingWithCopyWarning: \n",
      "A value is trying to be set on a copy of a slice from a DataFrame\n",
      "\n",
      "See the caveats in the documentation: https://pandas.pydata.org/pandas-docs/stable/user_guide/indexing.html#returning-a-view-versus-a-copy\n",
      "  self._setitem_single_block(indexer, value, name)\n",
      "<ipython-input-14-e94b9c8c3ae5>:5: SettingWithCopyWarning: \n",
      "A value is trying to be set on a copy of a slice from a DataFrame\n",
      "\n",
      "See the caveats in the documentation: https://pandas.pydata.org/pandas-docs/stable/user_guide/indexing.html#returning-a-view-versus-a-copy\n",
      "  df.categorie[idx]=cat_occ_dict[df.occupation[idx]]\n"
     ]
    }
   ],
   "source": [
    "for idx, row in df.iterrows():\n",
    "    if row['occupation'] not in cat_occ_dict.keys():\n",
    "        df.categorie[idx]='Autre'\n",
    "    else:\n",
    "        df.categorie[idx]=cat_occ_dict[df.occupation[idx]]"
   ]
  },
  {
   "cell_type": "markdown",
   "id": "cac3dc5a",
   "metadata": {},
   "source": [
    "# **CODE** pour les années"
   ]
  },
  {
   "cell_type": "markdown",
   "id": "d5887ab7",
   "metadata": {},
   "source": [
    "Retrieve the year difference between the date of birth of the speaker and the appearence of his citation in the journals"
   ]
  },
  {
   "cell_type": "code",
   "execution_count": 15,
   "id": "88ac1155",
   "metadata": {},
   "outputs": [],
   "source": [
    "#from datetime import datetime, date, time"
   ]
  },
  {
   "cell_type": "code",
   "execution_count": 16,
   "id": "dfe41a74",
   "metadata": {
    "scrolled": false
   },
   "outputs": [],
   "source": [
    "df.dropna(axis = 0, subset = ['date_of_birth'], inplace = True)\n",
    "df['date_of_birth'] = df['date_of_birth'].apply(lambda x: x[0][1:5])"
   ]
  },
  {
   "cell_type": "code",
   "execution_count": 17,
   "id": "9e17f456",
   "metadata": {},
   "outputs": [
    {
     "name": "stderr",
     "output_type": "stream",
     "text": [
      "<ipython-input-17-0105ae3884af>:3: SettingWithCopyWarning: \n",
      "A value is trying to be set on a copy of a slice from a DataFrame\n",
      "\n",
      "See the caveats in the documentation: https://pandas.pydata.org/pandas-docs/stable/user_guide/indexing.html#returning-a-view-versus-a-copy\n",
      "  df['year_of_age'][idx]=(df.date[idx].year-int(df.date_of_birth[idx]))\n"
     ]
    }
   ],
   "source": [
    "df['year_of_age'] = 0\n",
    "for idx, row in df.iterrows():\n",
    "    df['year_of_age'][idx]=(df.date[idx].year-int(df.date_of_birth[idx]))"
   ]
  },
  {
   "cell_type": "code",
   "execution_count": 18,
   "id": "ed42dfce",
   "metadata": {
    "scrolled": true
   },
   "outputs": [],
   "source": [
    "df.drop(columns='date_of_birth', inplace=True)"
   ]
  },
  {
   "cell_type": "markdown",
   "id": "8323559d",
   "metadata": {},
   "source": [
    "As, every information needed is now in the DataFrame df, it is useful to sort it by the categories of occupation."
   ]
  },
  {
   "cell_type": "code",
   "execution_count": 67,
   "id": "ffc06a95",
   "metadata": {},
   "outputs": [
    {
     "data": {
      "text/plain": [
       "58932"
      ]
     },
     "execution_count": 67,
     "metadata": {},
     "output_type": "execute_result"
    }
   ],
   "source": [
    "df.sort_values('categorie', inplace=True)\n",
    "df.shape[0]"
   ]
  },
  {
   "cell_type": "code",
   "execution_count": 64,
   "id": "a9ce3946",
   "metadata": {},
   "outputs": [],
   "source": [
    "df_final = df.groupby(df.categorie)"
   ]
  },
  {
   "cell_type": "code",
   "execution_count": 71,
   "id": "c34bec93",
   "metadata": {},
   "outputs": [
    {
     "data": {
      "text/plain": [
       "<pandas.core.groupby.generic.DataFrameGroupBy object at 0x1428bf220>"
      ]
     },
     "execution_count": 71,
     "metadata": {},
     "output_type": "execute_result"
    }
   ],
   "source": [
    "df_final"
   ]
  },
  {
   "cell_type": "markdown",
   "id": "24d6c0e6",
   "metadata": {},
   "source": [
    "# **CODE** si on regarde toutes les occupations"
   ]
  },
  {
   "cell_type": "code",
   "execution_count": 20,
   "id": "c87ddab1",
   "metadata": {},
   "outputs": [],
   "source": [
    "#for idx, row in df.iterrows():\n",
    "#    x=0\n",
    " #   for i in range(len(row['occupation'])):\n",
    "  #      if row['occupation'][i-x] not in occ_dict.keys():\n",
    "   #         row['occupation'].remove(row['occupation'][i-x])\n",
    "    #        x+=1"
   ]
  },
  {
   "cell_type": "code",
   "execution_count": 21,
   "id": "294f7ed3",
   "metadata": {},
   "outputs": [],
   "source": [
    "#for idx, row in df.iterrows():\n",
    " #   for i in range(len(row['occupation'])):\n",
    "  #      row['occupation'][i]=occ_dict[row['occupation'][i]]"
   ]
  },
  {
   "cell_type": "code",
   "execution_count": 22,
   "id": "5dc65669",
   "metadata": {},
   "outputs": [],
   "source": [
    "#df"
   ]
  },
  {
   "cell_type": "markdown",
   "id": "7f077ede",
   "metadata": {},
   "source": [
    "# Problemes avec ce code et améliorations a faire"
   ]
  },
  {
   "cell_type": "markdown",
   "id": "4ca13aab",
   "metadata": {},
   "source": [
    "**1-** Il n'y a que des boucles for ou même des doubles boucles for. Le code marche mais (pour moi) il met du temps à run et il n'est surement pas optimisé"
   ]
  },
  {
   "cell_type": "markdown",
   "id": "c025a11f",
   "metadata": {},
   "source": [
    "**2-** Je ne sais pas exactement quoi faire à la fin: retourner un groupby; retrouner df_final qui a sort les occupations; faire un sort_values sur quelque chose d'autre de plus pertinant?"
   ]
  },
  {
   "cell_type": "markdown",
   "id": "eedba3e6",
   "metadata": {},
   "source": [
    "**3-** Il faut que je fasse la même chose pour quand on garde toutes les occupations d'un speaker. Idée: mettre dans la colonne 'catégorie' une liste des catégories pour chaque occupation et ne garder à la fin dans la cellule, la catégorie qui revient le plus."
   ]
  }
 ],
 "metadata": {
  "kernelspec": {
   "display_name": "Python 3",
   "language": "python",
   "name": "python3"
  },
  "language_info": {
   "codemirror_mode": {
    "name": "ipython",
    "version": 3
   },
   "file_extension": ".py",
   "mimetype": "text/x-python",
   "name": "python",
   "nbconvert_exporter": "python",
   "pygments_lexer": "ipython3",
   "version": "3.8.8"
  }
 },
 "nbformat": 4,
 "nbformat_minor": 5
}
