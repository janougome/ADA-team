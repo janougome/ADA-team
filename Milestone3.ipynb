{
 "cells": [
  {
   "cell_type": "markdown",
   "metadata": {},
   "source": [
    "## Imports"
   ]
  },
  {
   "cell_type": "code",
   "execution_count": 358,
   "metadata": {},
   "outputs": [],
   "source": [
    "import pandas as pd\n",
    "import bz2\n",
    "import json\n",
    "import seaborn as sns\n",
    "import matplotlib.pyplot as plt\n",
    "import numpy as np\n",
    "from utils import quotes_by_gender, unique_speaker_per_gender, get_champlex\n",
    "from collections import Counter\n",
    "import math\n",
    "from sklearn.preprocessing import MultiLabelBinarizer\n",
    "import statsmodels.api as sm\n",
    "import statsmodels.formula.api as smf\n",
    "import networkx as nx"
   ]
  },
  {
   "cell_type": "markdown",
   "metadata": {},
   "source": [
    "## Dataset\n"
   ]
  },
  {
   "cell_type": "code",
   "execution_count": 359,
   "metadata": {},
   "outputs": [],
   "source": [
    "DATA_FOLDER = 'data/'\n",
    "QUOTES_DATA = DATA_FOLDER + 'data_observational.json.bz2'"
   ]
  },
  {
   "cell_type": "markdown",
   "metadata": {},
   "source": [
    "## Dictionnaries"
   ]
  },
  {
   "cell_type": "code",
   "execution_count": 360,
   "metadata": {},
   "outputs": [],
   "source": [
    "DICTIONNARY_FOLDER = DATA_FOLDER + 'dictionnaries/'\n",
    "DICT_OCCUPATIONS = DICTIONNARY_FOLDER + 'occupations_categories.json'\n",
    "DICT_DEGREES = DICTIONNARY_FOLDER + 'degrees_categories.json'"
   ]
  },
  {
   "cell_type": "markdown",
   "metadata": {},
   "source": [
    "## Attributes"
   ]
  },
  {
   "cell_type": "code",
   "execution_count": 361,
   "metadata": {},
   "outputs": [],
   "source": [
    "SPEAKER_ATTRIBUTES_DATA = DATA_FOLDER+\"speaker_attributes.parquet\""
   ]
  },
  {
   "cell_type": "code",
   "execution_count": 362,
   "metadata": {},
   "outputs": [],
   "source": [
    "attributes = pd.read_parquet(SPEAKER_ATTRIBUTES_DATA)"
   ]
  },
  {
   "cell_type": "markdown",
   "metadata": {},
   "source": [
    "## Load the data"
   ]
  },
  {
   "cell_type": "code",
   "execution_count": 363,
   "metadata": {},
   "outputs": [],
   "source": [
    "quotes = pd.read_json(QUOTES_DATA)"
   ]
  },
  {
   "cell_type": "code",
   "execution_count": 364,
   "metadata": {},
   "outputs": [],
   "source": [
    "with open(DICT_OCCUPATIONS) as f:\n",
    "    dict_occupations = json.load(f)"
   ]
  },
  {
   "cell_type": "code",
   "execution_count": 365,
   "metadata": {},
   "outputs": [],
   "source": [
    "with open(DICT_DEGREES) as f:\n",
    "    dict_degrees = json.load(f)"
   ]
  },
  {
   "cell_type": "markdown",
   "metadata": {},
   "source": [
    "# Some preprocessing again"
   ]
  },
  {
   "cell_type": "code",
   "execution_count": 367,
   "metadata": {},
   "outputs": [],
   "source": [
    "def translate(my_list, my_dict):\n",
    "    \"\"\"Allows to transform a list of items into a list of corresponding categories. \n",
    "    The list returned contains uniques category (the duplicates are removed).\n",
    "    \n",
    "    Parameters\n",
    "    ----------\n",
    "    my_list: the list to be translated\n",
    "    my_dict: the dictionnary according which we want to translate the list\n",
    "    \n",
    "    Returns\n",
    "    --------\n",
    "    list of uniques categories\"\"\"\n",
    "    translated_list = []\n",
    "    for i in my_list:\n",
    "        if i in my_dict.keys():\n",
    "            translated_list.append(my_dict[i])\n",
    "        else:\n",
    "            translated_list.append('Others')\n",
    "    #Drop duplicates\n",
    "    return (list(set(translated_list)))\n",
    "    \n",
    "        "
   ]
  },
  {
   "cell_type": "markdown",
   "metadata": {},
   "source": [
    "Now, we replace the occupations and academic degrees by more general categories"
   ]
  },
  {
   "cell_type": "code",
   "execution_count": 368,
   "metadata": {},
   "outputs": [],
   "source": [
    "quotes['occupation'] = quotes['occupation'].apply(lambda x: translate(x, dict_occupations))"
   ]
  },
  {
   "cell_type": "code",
   "execution_count": 369,
   "metadata": {},
   "outputs": [],
   "source": [
    "quotes['academic_degree'] = quotes['academic_degree'].apply(lambda x: translate(x, dict_degrees))"
   ]
  },
  {
   "cell_type": "markdown",
   "metadata": {},
   "source": [
    "Separate the dataframe into two that we will analyze separatly: the male speakers vs the female speakers."
   ]
  },
  {
   "cell_type": "code",
   "execution_count": 370,
   "metadata": {},
   "outputs": [],
   "source": [
    "quotes_males = quotes[quotes['gender'] == 'male']\n",
    "quotes_females = quotes[quotes['gender'] == 'female']"
   ]
  },
  {
   "cell_type": "markdown",
   "metadata": {},
   "source": [
    "## Preparation of the dataframe for the propensity score calculation: on commence par les femmes"
   ]
  },
  {
   "cell_type": "markdown",
   "metadata": {},
   "source": [
    "Now, we want to calculate the propensity scores of each speaker. To do that, we need to group the quotations by speakers, and to recover some information about them."
   ]
  },
  {
   "cell_type": "code",
   "execution_count": 371,
   "metadata": {},
   "outputs": [
    {
     "name": "stdout",
     "output_type": "stream",
     "text": [
      "Our dataset contains 306229 quotes from female speakers.\n"
     ]
    }
   ],
   "source": [
    "print('Our dataset contains', quotes_females.shape[0], 'quotes from female speakers.')"
   ]
  },
  {
   "cell_type": "markdown",
   "metadata": {},
   "source": [
    "We group by qids and label: grouping by qids avoid to dintguish the same person in two because of different alisases. We group also by label because we want to separate women before and after the movement: if a woman talks before and after, we consider her as \"2 women\"."
   ]
  },
  {
   "cell_type": "code",
   "execution_count": 372,
   "metadata": {},
   "outputs": [],
   "source": [
    "grouped_females = quotes_females.groupby(['qids', 'label'])"
   ]
  },
  {
   "cell_type": "markdown",
   "metadata": {},
   "source": [
    "After having grouped the quotations per speaker, we take the attributes corresponding to the first quotation: these attributes are immutable (the academic degree, the occupation, the speaker name and the gender), thus we can recover it from the first quotation."
   ]
  },
  {
   "cell_type": "code",
   "execution_count": 374,
   "metadata": {},
   "outputs": [
    {
     "data": {
      "text/html": [
       "<div>\n",
       "<style scoped>\n",
       "    .dataframe tbody tr th:only-of-type {\n",
       "        vertical-align: middle;\n",
       "    }\n",
       "\n",
       "    .dataframe tbody tr th {\n",
       "        vertical-align: top;\n",
       "    }\n",
       "\n",
       "    .dataframe thead th {\n",
       "        text-align: right;\n",
       "    }\n",
       "</style>\n",
       "<table border=\"1\" class=\"dataframe\">\n",
       "  <thead>\n",
       "    <tr style=\"text-align: right;\">\n",
       "      <th></th>\n",
       "      <th>qids</th>\n",
       "      <th>label</th>\n",
       "      <th>speaker</th>\n",
       "      <th>gender</th>\n",
       "      <th>occupation</th>\n",
       "      <th>academic_degree</th>\n",
       "    </tr>\n",
       "  </thead>\n",
       "  <tbody>\n",
       "    <tr>\n",
       "      <th>0</th>\n",
       "      <td>Q101160</td>\n",
       "      <td>1</td>\n",
       "      <td>Gesche Joost</td>\n",
       "      <td>female</td>\n",
       "      <td>[Teaching, Government]</td>\n",
       "      <td>[doctor]</td>\n",
       "    </tr>\n",
       "    <tr>\n",
       "      <th>1</th>\n",
       "      <td>Q101496</td>\n",
       "      <td>0</td>\n",
       "      <td>Michaela Haas</td>\n",
       "      <td>female</td>\n",
       "      <td>[Entertainment, Journalism]</td>\n",
       "      <td>[doctor]</td>\n",
       "    </tr>\n",
       "    <tr>\n",
       "      <th>2</th>\n",
       "      <td>Q102430</td>\n",
       "      <td>0</td>\n",
       "      <td>Sonia Mikich</td>\n",
       "      <td>female</td>\n",
       "      <td>[Entertainment, Journalism]</td>\n",
       "      <td>[master]</td>\n",
       "    </tr>\n",
       "    <tr>\n",
       "      <th>3</th>\n",
       "      <td>Q102488</td>\n",
       "      <td>0</td>\n",
       "      <td>Juliane Wetzel</td>\n",
       "      <td>female</td>\n",
       "      <td>[Historian]</td>\n",
       "      <td>[doctor]</td>\n",
       "    </tr>\n",
       "    <tr>\n",
       "      <th>4</th>\n",
       "      <td>Q102488</td>\n",
       "      <td>1</td>\n",
       "      <td>Juliane Wetzel</td>\n",
       "      <td>female</td>\n",
       "      <td>[Historian]</td>\n",
       "      <td>[doctor]</td>\n",
       "    </tr>\n",
       "    <tr>\n",
       "      <th>...</th>\n",
       "      <td>...</td>\n",
       "      <td>...</td>\n",
       "      <td>...</td>\n",
       "      <td>...</td>\n",
       "      <td>...</td>\n",
       "      <td>...</td>\n",
       "    </tr>\n",
       "    <tr>\n",
       "      <th>1980</th>\n",
       "      <td>Q98885</td>\n",
       "      <td>1</td>\n",
       "      <td>Maike Kohl-Richter</td>\n",
       "      <td>female</td>\n",
       "      <td>[Social Sciences, Journalism, Writer]</td>\n",
       "      <td>[doctor]</td>\n",
       "    </tr>\n",
       "    <tr>\n",
       "      <th>1981</th>\n",
       "      <td>Q99306</td>\n",
       "      <td>1</td>\n",
       "      <td>Nermin Abadan Unat</td>\n",
       "      <td>female</td>\n",
       "      <td>[Social Sciences, Teaching, Law]</td>\n",
       "      <td>[doctor]</td>\n",
       "    </tr>\n",
       "    <tr>\n",
       "      <th>1982</th>\n",
       "      <td>Q99590</td>\n",
       "      <td>1</td>\n",
       "      <td>Rebekka Habermas</td>\n",
       "      <td>female</td>\n",
       "      <td>[Teaching, Historian]</td>\n",
       "      <td>[doctor]</td>\n",
       "    </tr>\n",
       "    <tr>\n",
       "      <th>1983</th>\n",
       "      <td>Q996967</td>\n",
       "      <td>0</td>\n",
       "      <td>Diane Coyle</td>\n",
       "      <td>female</td>\n",
       "      <td>[Social Sciences, Teaching, Journalism]</td>\n",
       "      <td>[doctor]</td>\n",
       "    </tr>\n",
       "    <tr>\n",
       "      <th>1984</th>\n",
       "      <td>Q996967</td>\n",
       "      <td>1</td>\n",
       "      <td>Diane Coyle</td>\n",
       "      <td>female</td>\n",
       "      <td>[Social Sciences, Teaching, Journalism]</td>\n",
       "      <td>[doctor]</td>\n",
       "    </tr>\n",
       "  </tbody>\n",
       "</table>\n",
       "<p>1985 rows × 6 columns</p>\n",
       "</div>"
      ],
      "text/plain": [
       "         qids  label             speaker  gender  \\\n",
       "0     Q101160      1        Gesche Joost  female   \n",
       "1     Q101496      0       Michaela Haas  female   \n",
       "2     Q102430      0        Sonia Mikich  female   \n",
       "3     Q102488      0      Juliane Wetzel  female   \n",
       "4     Q102488      1      Juliane Wetzel  female   \n",
       "...       ...    ...                 ...     ...   \n",
       "1980   Q98885      1  Maike Kohl-Richter  female   \n",
       "1981   Q99306      1  Nermin Abadan Unat  female   \n",
       "1982   Q99590      1    Rebekka Habermas  female   \n",
       "1983  Q996967      0         Diane Coyle  female   \n",
       "1984  Q996967      1         Diane Coyle  female   \n",
       "\n",
       "                                   occupation academic_degree  \n",
       "0                      [Teaching, Government]        [doctor]  \n",
       "1                 [Entertainment, Journalism]        [doctor]  \n",
       "2                 [Entertainment, Journalism]        [master]  \n",
       "3                                 [Historian]        [doctor]  \n",
       "4                                 [Historian]        [doctor]  \n",
       "...                                       ...             ...  \n",
       "1980    [Social Sciences, Journalism, Writer]        [doctor]  \n",
       "1981         [Social Sciences, Teaching, Law]        [doctor]  \n",
       "1982                    [Teaching, Historian]        [doctor]  \n",
       "1983  [Social Sciences, Teaching, Journalism]        [doctor]  \n",
       "1984  [Social Sciences, Teaching, Journalism]        [doctor]  \n",
       "\n",
       "[1985 rows x 6 columns]"
      ]
     },
     "execution_count": 374,
     "metadata": {},
     "output_type": "execute_result"
    }
   ],
   "source": [
    "attributes_immutable = grouped_females.first().reset_index().drop(['year', \n",
    "                                                                   'quotation', 'numOccurrences', 'age'], axis = 1)\n",
    "attributes_immutable"
   ]
  },
  {
   "cell_type": "markdown",
   "metadata": {},
   "source": [
    "Now we will calculate the number of quotes per speaker, as well as the number of occurrences per speaker. We also put the age of the speaker to the median age of all its quotations. "
   ]
  },
  {
   "cell_type": "code",
   "execution_count": 376,
   "metadata": {},
   "outputs": [],
   "source": [
    "#Get the number of unique quotes per speaker\n",
    "quotations_per_speaker = grouped_females['quotation'].count().reset_index(name='nb_quotes')\n",
    "\n",
    "#Get the number of total occurrences of the speaker\n",
    "occurrences_per_speaker = grouped_females['numOccurrences'].sum().reset_index(name='nb_occurrences')\n",
    "\n",
    "#Get the median age of the speaker if she talks many times\n",
    "age_per_speaker = grouped_females['age'].median().reset_index(name='age')"
   ]
  },
  {
   "cell_type": "code",
   "execution_count": 377,
   "metadata": {},
   "outputs": [],
   "source": [
    "attributes_mutable = pd.merge(pd.merge(quotations_per_speaker, occurrences_per_speaker, on = ['qids', 'label']), \n",
    "                              age_per_speaker, on = ['qids', 'label'])"
   ]
  },
  {
   "cell_type": "code",
   "execution_count": 378,
   "metadata": {},
   "outputs": [
    {
     "data": {
      "text/html": [
       "<div>\n",
       "<style scoped>\n",
       "    .dataframe tbody tr th:only-of-type {\n",
       "        vertical-align: middle;\n",
       "    }\n",
       "\n",
       "    .dataframe tbody tr th {\n",
       "        vertical-align: top;\n",
       "    }\n",
       "\n",
       "    .dataframe thead th {\n",
       "        text-align: right;\n",
       "    }\n",
       "</style>\n",
       "<table border=\"1\" class=\"dataframe\">\n",
       "  <thead>\n",
       "    <tr style=\"text-align: right;\">\n",
       "      <th></th>\n",
       "      <th>qids</th>\n",
       "      <th>label</th>\n",
       "      <th>nb_quotes</th>\n",
       "      <th>nb_occurrences</th>\n",
       "      <th>age</th>\n",
       "    </tr>\n",
       "  </thead>\n",
       "  <tbody>\n",
       "    <tr>\n",
       "      <th>0</th>\n",
       "      <td>Q101160</td>\n",
       "      <td>1</td>\n",
       "      <td>4</td>\n",
       "      <td>4</td>\n",
       "      <td>44.0</td>\n",
       "    </tr>\n",
       "    <tr>\n",
       "      <th>1</th>\n",
       "      <td>Q101496</td>\n",
       "      <td>0</td>\n",
       "      <td>12</td>\n",
       "      <td>25</td>\n",
       "      <td>46.0</td>\n",
       "    </tr>\n",
       "    <tr>\n",
       "      <th>2</th>\n",
       "      <td>Q102430</td>\n",
       "      <td>0</td>\n",
       "      <td>8</td>\n",
       "      <td>8</td>\n",
       "      <td>66.0</td>\n",
       "    </tr>\n",
       "    <tr>\n",
       "      <th>3</th>\n",
       "      <td>Q102488</td>\n",
       "      <td>0</td>\n",
       "      <td>1</td>\n",
       "      <td>1</td>\n",
       "      <td>60.0</td>\n",
       "    </tr>\n",
       "    <tr>\n",
       "      <th>4</th>\n",
       "      <td>Q102488</td>\n",
       "      <td>1</td>\n",
       "      <td>10</td>\n",
       "      <td>62</td>\n",
       "      <td>61.0</td>\n",
       "    </tr>\n",
       "  </tbody>\n",
       "</table>\n",
       "</div>"
      ],
      "text/plain": [
       "      qids  label  nb_quotes  nb_occurrences   age\n",
       "0  Q101160      1          4               4  44.0\n",
       "1  Q101496      0         12              25  46.0\n",
       "2  Q102430      0          8               8  66.0\n",
       "3  Q102488      0          1               1  60.0\n",
       "4  Q102488      1         10              62  61.0"
      ]
     },
     "execution_count": 378,
     "metadata": {},
     "output_type": "execute_result"
    }
   ],
   "source": [
    "attributes_mutable.head()"
   ]
  },
  {
   "cell_type": "code",
   "execution_count": 379,
   "metadata": {},
   "outputs": [],
   "source": [
    "data_per_speaker = pd.merge(attributes_immutable, attributes_mutable, on = ['qids', 'label'])"
   ]
  },
  {
   "cell_type": "code",
   "execution_count": 380,
   "metadata": {},
   "outputs": [
    {
     "data": {
      "text/html": [
       "<div>\n",
       "<style scoped>\n",
       "    .dataframe tbody tr th:only-of-type {\n",
       "        vertical-align: middle;\n",
       "    }\n",
       "\n",
       "    .dataframe tbody tr th {\n",
       "        vertical-align: top;\n",
       "    }\n",
       "\n",
       "    .dataframe thead th {\n",
       "        text-align: right;\n",
       "    }\n",
       "</style>\n",
       "<table border=\"1\" class=\"dataframe\">\n",
       "  <thead>\n",
       "    <tr style=\"text-align: right;\">\n",
       "      <th></th>\n",
       "      <th>qids</th>\n",
       "      <th>label</th>\n",
       "      <th>speaker</th>\n",
       "      <th>gender</th>\n",
       "      <th>occupation</th>\n",
       "      <th>academic_degree</th>\n",
       "      <th>nb_quotes</th>\n",
       "      <th>nb_occurrences</th>\n",
       "      <th>age</th>\n",
       "    </tr>\n",
       "  </thead>\n",
       "  <tbody>\n",
       "    <tr>\n",
       "      <th>0</th>\n",
       "      <td>Q101160</td>\n",
       "      <td>1</td>\n",
       "      <td>Gesche Joost</td>\n",
       "      <td>female</td>\n",
       "      <td>[Teaching, Government]</td>\n",
       "      <td>[doctor]</td>\n",
       "      <td>4</td>\n",
       "      <td>4</td>\n",
       "      <td>44.0</td>\n",
       "    </tr>\n",
       "    <tr>\n",
       "      <th>1</th>\n",
       "      <td>Q101496</td>\n",
       "      <td>0</td>\n",
       "      <td>Michaela Haas</td>\n",
       "      <td>female</td>\n",
       "      <td>[Entertainment, Journalism]</td>\n",
       "      <td>[doctor]</td>\n",
       "      <td>12</td>\n",
       "      <td>25</td>\n",
       "      <td>46.0</td>\n",
       "    </tr>\n",
       "    <tr>\n",
       "      <th>2</th>\n",
       "      <td>Q102430</td>\n",
       "      <td>0</td>\n",
       "      <td>Sonia Mikich</td>\n",
       "      <td>female</td>\n",
       "      <td>[Entertainment, Journalism]</td>\n",
       "      <td>[master]</td>\n",
       "      <td>8</td>\n",
       "      <td>8</td>\n",
       "      <td>66.0</td>\n",
       "    </tr>\n",
       "    <tr>\n",
       "      <th>3</th>\n",
       "      <td>Q102488</td>\n",
       "      <td>0</td>\n",
       "      <td>Juliane Wetzel</td>\n",
       "      <td>female</td>\n",
       "      <td>[Historian]</td>\n",
       "      <td>[doctor]</td>\n",
       "      <td>1</td>\n",
       "      <td>1</td>\n",
       "      <td>60.0</td>\n",
       "    </tr>\n",
       "    <tr>\n",
       "      <th>4</th>\n",
       "      <td>Q102488</td>\n",
       "      <td>1</td>\n",
       "      <td>Juliane Wetzel</td>\n",
       "      <td>female</td>\n",
       "      <td>[Historian]</td>\n",
       "      <td>[doctor]</td>\n",
       "      <td>10</td>\n",
       "      <td>62</td>\n",
       "      <td>61.0</td>\n",
       "    </tr>\n",
       "  </tbody>\n",
       "</table>\n",
       "</div>"
      ],
      "text/plain": [
       "      qids  label         speaker  gender                   occupation  \\\n",
       "0  Q101160      1    Gesche Joost  female       [Teaching, Government]   \n",
       "1  Q101496      0   Michaela Haas  female  [Entertainment, Journalism]   \n",
       "2  Q102430      0    Sonia Mikich  female  [Entertainment, Journalism]   \n",
       "3  Q102488      0  Juliane Wetzel  female                  [Historian]   \n",
       "4  Q102488      1  Juliane Wetzel  female                  [Historian]   \n",
       "\n",
       "  academic_degree  nb_quotes  nb_occurrences   age  \n",
       "0        [doctor]          4               4  44.0  \n",
       "1        [doctor]         12              25  46.0  \n",
       "2        [master]          8               8  66.0  \n",
       "3        [doctor]          1               1  60.0  \n",
       "4        [doctor]         10              62  61.0  "
      ]
     },
     "execution_count": 380,
     "metadata": {},
     "output_type": "execute_result"
    }
   ],
   "source": [
    "data_per_speaker.head()"
   ]
  },
  {
   "cell_type": "markdown",
   "metadata": {},
   "source": [
    "One-hot encoding for the logistic regression:"
   ]
  },
  {
   "cell_type": "code",
   "execution_count": 381,
   "metadata": {},
   "outputs": [
    {
     "name": "stderr",
     "output_type": "stream",
     "text": [
      "/var/folders/n_/84v0r2b53yx61w33v8clz5500000gp/T/ipykernel_1756/3314558053.py:1: FutureWarning: Using the level keyword in DataFrame and Series aggregations is deprecated and will be removed in a future version. Use groupby instead. df.sum(level=1) should use df.groupby(level=1).sum().\n",
      "  dummies_occ = pd.get_dummies(data_per_speaker['occupation'].explode()).sum(level=0)\n",
      "/var/folders/n_/84v0r2b53yx61w33v8clz5500000gp/T/ipykernel_1756/3314558053.py:2: FutureWarning: Using the level keyword in DataFrame and Series aggregations is deprecated and will be removed in a future version. Use groupby instead. df.sum(level=1) should use df.groupby(level=1).sum().\n",
      "  dummies_degree = pd.get_dummies(data_per_speaker['academic_degree'].explode()).sum(level=0)\n"
     ]
    }
   ],
   "source": [
    "dummies_occ = pd.get_dummies(data_per_speaker['occupation'].explode()).sum(level=0)\n",
    "dummies_degree = pd.get_dummies(data_per_speaker['academic_degree'].explode()).sum(level=0)"
   ]
  },
  {
   "cell_type": "code",
   "execution_count": 382,
   "metadata": {},
   "outputs": [],
   "source": [
    "##C'est sombre mais get_dummies cree une colomn 'Others' donc en attendant de comprendre pq:\n",
    "dummies_occ.drop(['Others'], axis = 1, inplace = True)\n",
    "dummies_degree.drop(['Others'], axis = 1, inplace = True)"
   ]
  },
  {
   "cell_type": "code",
   "execution_count": 383,
   "metadata": {},
   "outputs": [],
   "source": [
    "#Parce que la regression aime pas les espaces dans les noms de variables\n",
    "dummies_occ.columns = dummies_occ.columns.str.replace(\" \", \"_\")\n",
    "dummies_degree.columns = dummies_degree.columns.str.replace(\" \", \"_\")"
   ]
  },
  {
   "cell_type": "code",
   "execution_count": 384,
   "metadata": {},
   "outputs": [],
   "source": [
    "data_features = pd.merge(pd.merge(data_per_speaker, dummies_occ, left_index = True, right_index = True), dummies_degree, left_index = True, right_index = True)\n"
   ]
  },
  {
   "cell_type": "markdown",
   "metadata": {},
   "source": [
    "Before calculating the propensity scores, we should standardize the continuous features. Let's look at their distributions in order to choose an appropriate standardization. "
   ]
  },
  {
   "cell_type": "code",
   "execution_count": 385,
   "metadata": {},
   "outputs": [
    {
     "data": {
      "image/png": "[encoded data removed]",
      "text/plain": [
       "<Figure size 432x288 with 1 Axes>"
      ]
     },
     "metadata": {
      "needs_background": "light"
     },
     "output_type": "display_data"
    }
   ],
   "source": [
    "ax = sns.histplot(data_features['age'])\n",
    "ax.set_title(\"Distribution of the median age of the speakers\");"
   ]
  },
  {
   "cell_type": "markdown",
   "metadata": {},
   "source": [
    "The distribution of the age seems to follow a gaussian distribution, thus, we will standardize it."
   ]
  },
  {
   "cell_type": "code",
   "execution_count": 386,
   "metadata": {},
   "outputs": [],
   "source": [
    "data_features['age'] = (data_features['age'] - data_features['age'].mean())/data_features['age'].std()"
   ]
  },
  {
   "cell_type": "markdown",
   "metadata": {},
   "source": [
    "## Propensity scores calculation"
   ]
  },
  {
   "cell_type": "code",
   "execution_count": 387,
   "metadata": {},
   "outputs": [],
   "source": [
    "occupations_for_regression = ['C('+ str(x)+ ')' for x in dummies_occ.columns.tolist()]"
   ]
  },
  {
   "cell_type": "code",
   "execution_count": 388,
   "metadata": {},
   "outputs": [],
   "source": [
    "degrees_for_regression = ['C('+ str(x)+ ')' for x in dummies_degree.columns.tolist()]"
   ]
  },
  {
   "cell_type": "code",
   "execution_count": 389,
   "metadata": {},
   "outputs": [],
   "source": [
    "def create_formula_from_list_categories(my_list):\n",
    "    list_for_regression = ['C('+ str(x)+ ')' for x in my_list]\n",
    "    formula = ''\n",
    "    for i in list_for_regression:\n",
    "        formula += i\n",
    "        if i != list_for_regression[-1]:\n",
    "            formula += ' + '\n",
    "    return formula\n",
    "    "
   ]
  },
  {
   "cell_type": "code",
   "execution_count": 390,
   "metadata": {},
   "outputs": [],
   "source": [
    "formula_occupations = create_formula_from_list_categories(dummies_occ.columns.tolist())"
   ]
  },
  {
   "cell_type": "code",
   "execution_count": 391,
   "metadata": {},
   "outputs": [],
   "source": [
    "formula_degrees = create_formula_from_list_categories(dummies_degree.columns.tolist())"
   ]
  },
  {
   "cell_type": "code",
   "execution_count": 392,
   "metadata": {},
   "outputs": [
    {
     "name": "stdout",
     "output_type": "stream",
     "text": [
      "Warning: Maximum number of iterations has been exceeded.\n",
      "         Current function value: 0.687871\n",
      "         Iterations: 35\n",
      "                           Logit Regression Results                           \n",
      "==============================================================================\n",
      "Dep. Variable:                  label   No. Observations:                 1985\n",
      "Model:                          Logit   Df Residuals:                     1934\n",
      "Method:                           MLE   Df Model:                           50\n",
      "Date:                Mon, 29 Nov 2021   Pseudo R-squ.:                0.007547\n",
      "Time:                        19:48:54   Log-Likelihood:                -1365.4\n",
      "converged:                      False   LL-Null:                       -1375.8\n",
      "Covariance Type:            nonrobust   LLR p-value:                    0.9999\n",
      "================================================================================================\n",
      "                                   coef    std err          z      P>|z|      [0.025      0.975]\n",
      "------------------------------------------------------------------------------------------------\n",
      "Intercept                        0.0963      0.178      0.540      0.589      -0.253       0.445\n",
      "C(Activist)[T.1]                 0.0070      0.239      0.029      0.977      -0.461       0.475\n",
      "C(Administrative)[T.1]          -0.0976      0.529     -0.185      0.854      -1.134       0.939\n",
      "C(Artist)[T.1]                  -0.2100      0.230     -0.914      0.361      -0.661       0.241\n",
      "C(Business)[T.1]                 0.0763      0.219      0.349      0.727      -0.352       0.505\n",
      "C(Catering)[T.1]                 0.0421      1.419      0.030      0.976      -2.740       2.824\n",
      "C(Cinematography)[T.1]           0.1345      0.351      0.383      0.702      -0.553       0.822\n",
      "C(Communication)[T.1]           -0.1591      0.477     -0.333      0.739      -1.094       0.776\n",
      "C(Consulting)[T.1]             -14.4667   1514.740     -0.010      0.992   -2983.303    2954.369\n",
      "C(Education)[T.1]               -0.0065      0.212     -0.030      0.976      -0.422       0.409\n",
      "C(Engineer)[T.1]                -0.1359      0.316     -0.430      0.667      -0.755       0.483\n",
      "C(Entertainment)[T.1]            0.0710      0.246      0.289      0.773      -0.411       0.553\n",
      "C(Fashion)[T.1]                 -0.8364      1.369     -0.611      0.541      -3.520       1.847\n",
      "C(Finance)[T.1]                 -0.4268      0.538     -0.793      0.428      -1.482       0.628\n",
      "C(Government)[T.1]              -0.0250      0.124     -0.201      0.840      -0.268       0.218\n",
      "C(Handicraft)[T.1]              -0.1755      1.001     -0.175      0.861      -2.137       1.786\n",
      "C(Historian)[T.1]                0.0609      0.175      0.348      0.728      -0.282       0.404\n",
      "C(Informatics)[T.1]              0.3247      0.362      0.898      0.369      -0.384       1.034\n",
      "C(Journalism)[T.1]               0.0648      0.177      0.367      0.714      -0.281       0.411\n",
      "C(Law)[T.1]                      0.1585      0.189      0.838      0.402      -0.212       0.529\n",
      "C(Literature)[T.1]              -0.2083      0.233     -0.893      0.372      -0.665       0.249\n",
      "C(Managing)[T.1]                 0.1207      0.391      0.309      0.757      -0.645       0.886\n",
      "C(Medical)[T.1]                 -0.0897      0.176     -0.509      0.611      -0.435       0.255\n",
      "C(Merchant)[T.1]                -0.0027      1.429     -0.002      0.998      -2.803       2.797\n",
      "C(Military)[T.1]                 0.0932      0.728      0.128      0.898      -1.334       1.520\n",
      "C(Musician)[T.1]                -0.0519      0.366     -0.142      0.887      -0.768       0.665\n",
      "C(Order)[T.1]                    0.0995      1.024      0.097      0.923      -1.908       2.107\n",
      "C(Other)[T.1]                    0.1003      0.523      0.192      0.848      -0.924       1.125\n",
      "C(Performing_Arts)[T.1]          0.0226      0.306      0.074      0.941      -0.577       0.622\n",
      "C(Philosophy)[T.1]              -0.2336      0.281     -0.832      0.405      -0.784       0.316\n",
      "C(Psychology)[T.1]               0.1401      0.238      0.588      0.557      -0.327       0.607\n",
      "C(Public_Speaker)[T.1]           0.1977      1.043      0.190      0.850      -1.847       2.242\n",
      "C(Religion)[T.1]                -0.1153      0.447     -0.258      0.797      -0.992       0.762\n",
      "C(Scholar)[T.1]                  0.1530      0.197      0.778      0.437      -0.233       0.539\n",
      "C(Scientist)[T.1]                0.0155      0.127      0.122      0.903      -0.233       0.264\n",
      "C(Social_Sciences)[T.1]          0.0210      0.142      0.148      0.882      -0.256       0.298\n",
      "C(Sport)[T.1]                   -0.2090      0.376     -0.555      0.579      -0.947       0.529\n",
      "C(Teaching)[T.1]                -0.0892      0.110     -0.810      0.418      -0.305       0.126\n",
      "C(Worker)[T.1]                  -0.0685      0.677     -0.101      0.919      -1.396       1.259\n",
      "C(Writer)[T.1]                  -0.0847      0.131     -0.645      0.519      -0.342       0.173\n",
      "C(aggregation)[T.1]             -0.5910      0.530     -1.115      0.265      -1.630       0.448\n",
      "C(bachelor)[T.1]                 0.0266      0.155      0.172      0.864      -0.277       0.330\n",
      "C(candidate)[T.1]                0.0757      0.243      0.311      0.756      -0.401       0.553\n",
      "C(certificate)[T.1]             -0.3354      0.823     -0.408      0.684      -1.948       1.278\n",
      "C(doctor)[T.1]                  -0.0779      0.163     -0.478      0.633      -0.397       0.241\n",
      "C(high_school_diploma)[T.1]     -0.0153      1.049     -0.015      0.988      -2.072       2.042\n",
      "C(master)[T.1]                   0.0630      0.148      0.425      0.671      -0.228       0.354\n",
      "C(non_specified_degree)[T.1]    -0.0049      0.270     -0.018      0.985      -0.535       0.525\n",
      "C(not_classified)[T.1]           0.6272      1.263      0.497      0.619      -1.848       3.102\n",
      "C(professor)[T.1]               -0.0779      0.347     -0.224      0.823      -0.759       0.603\n",
      "age                              0.1379      0.049      2.808      0.005       0.042       0.234\n",
      "================================================================================================\n"
     ]
    },
    {
     "name": "stderr",
     "output_type": "stream",
     "text": [
      "/Users/lisa/opt/anaconda3/envs/ada/lib/python3.8/site-packages/statsmodels/base/model.py:566: ConvergenceWarning: Maximum Likelihood optimization failed to converge. Check mle_retvals\n",
      "  warnings.warn(\"Maximum Likelihood optimization failed to \"\n"
     ]
    }
   ],
   "source": [
    "mod = smf.logit(formula='label ~  age + ' + formula_occupations + ' + ' + formula_degrees, data=data_features)\n",
    "\n",
    "res = mod.fit()\n",
    "\n",
    "# Extract the estimated propensity scores\n",
    "data_features['Propensity_score'] = res.predict()\n",
    "\n",
    "print(res.summary())"
   ]
  },
  {
   "cell_type": "code",
   "execution_count": 393,
   "metadata": {},
   "outputs": [
    {
     "data": {
      "text/html": [
       "<div>\n",
       "<style scoped>\n",
       "    .dataframe tbody tr th:only-of-type {\n",
       "        vertical-align: middle;\n",
       "    }\n",
       "\n",
       "    .dataframe tbody tr th {\n",
       "        vertical-align: top;\n",
       "    }\n",
       "\n",
       "    .dataframe thead th {\n",
       "        text-align: right;\n",
       "    }\n",
       "</style>\n",
       "<table border=\"1\" class=\"dataframe\">\n",
       "  <thead>\n",
       "    <tr style=\"text-align: right;\">\n",
       "      <th></th>\n",
       "      <th>qids</th>\n",
       "      <th>label</th>\n",
       "      <th>speaker</th>\n",
       "      <th>gender</th>\n",
       "      <th>occupation</th>\n",
       "      <th>academic_degree</th>\n",
       "      <th>nb_quotes</th>\n",
       "      <th>nb_occurrences</th>\n",
       "      <th>age</th>\n",
       "      <th>Activist</th>\n",
       "      <th>...</th>\n",
       "      <th>bachelor</th>\n",
       "      <th>candidate</th>\n",
       "      <th>certificate</th>\n",
       "      <th>doctor</th>\n",
       "      <th>high_school_diploma</th>\n",
       "      <th>master</th>\n",
       "      <th>non_specified_degree</th>\n",
       "      <th>not_classified</th>\n",
       "      <th>professor</th>\n",
       "      <th>Propensity_score</th>\n",
       "    </tr>\n",
       "  </thead>\n",
       "  <tbody>\n",
       "    <tr>\n",
       "      <th>0</th>\n",
       "      <td>Q101160</td>\n",
       "      <td>1</td>\n",
       "      <td>Gesche Joost</td>\n",
       "      <td>female</td>\n",
       "      <td>[Teaching, Government]</td>\n",
       "      <td>[doctor]</td>\n",
       "      <td>4</td>\n",
       "      <td>4</td>\n",
       "      <td>-0.813569</td>\n",
       "      <td>0</td>\n",
       "      <td>...</td>\n",
       "      <td>0</td>\n",
       "      <td>0</td>\n",
       "      <td>0</td>\n",
       "      <td>1</td>\n",
       "      <td>0</td>\n",
       "      <td>0</td>\n",
       "      <td>0</td>\n",
       "      <td>0</td>\n",
       "      <td>0</td>\n",
       "      <td>0.448203</td>\n",
       "    </tr>\n",
       "    <tr>\n",
       "      <th>1</th>\n",
       "      <td>Q101496</td>\n",
       "      <td>0</td>\n",
       "      <td>Michaela Haas</td>\n",
       "      <td>female</td>\n",
       "      <td>[Entertainment, Journalism]</td>\n",
       "      <td>[doctor]</td>\n",
       "      <td>12</td>\n",
       "      <td>25</td>\n",
       "      <td>-0.688494</td>\n",
       "      <td>0</td>\n",
       "      <td>...</td>\n",
       "      <td>0</td>\n",
       "      <td>0</td>\n",
       "      <td>0</td>\n",
       "      <td>1</td>\n",
       "      <td>0</td>\n",
       "      <td>0</td>\n",
       "      <td>0</td>\n",
       "      <td>0</td>\n",
       "      <td>0</td>\n",
       "      <td>0.514804</td>\n",
       "    </tr>\n",
       "  </tbody>\n",
       "</table>\n",
       "<p>2 rows × 59 columns</p>\n",
       "</div>"
      ],
      "text/plain": [
       "      qids  label        speaker  gender                   occupation  \\\n",
       "0  Q101160      1   Gesche Joost  female       [Teaching, Government]   \n",
       "1  Q101496      0  Michaela Haas  female  [Entertainment, Journalism]   \n",
       "\n",
       "  academic_degree  nb_quotes  nb_occurrences       age  Activist  ...  \\\n",
       "0        [doctor]          4               4 -0.813569         0  ...   \n",
       "1        [doctor]         12              25 -0.688494         0  ...   \n",
       "\n",
       "   bachelor  candidate  certificate  doctor  high_school_diploma  master  \\\n",
       "0         0          0            0       1                    0       0   \n",
       "1         0          0            0       1                    0       0   \n",
       "\n",
       "   non_specified_degree  not_classified  professor  Propensity_score  \n",
       "0                     0               0          0          0.448203  \n",
       "1                     0               0          0          0.514804  \n",
       "\n",
       "[2 rows x 59 columns]"
      ]
     },
     "execution_count": 393,
     "metadata": {},
     "output_type": "execute_result"
    }
   ],
   "source": [
    "data_features.head(2)"
   ]
  },
  {
   "cell_type": "code",
   "execution_count": 394,
   "metadata": {},
   "outputs": [],
   "source": [
    "def get_similarity(propensity_score1, propensity_score2):\n",
    "    '''Calculate similarity for instances with given propensity scores'''\n",
    "    return 1-np.abs(propensity_score1-propensity_score2)"
   ]
  },
  {
   "cell_type": "code",
   "execution_count": 324,
   "metadata": {},
   "outputs": [],
   "source": [
    "# Separate the treatment and control groups\n",
    "treatment_df = data_features[data_features['label'] == 1]\n",
    "control_df = data_features[data_features['label'] == 0]\n",
    "\n",
    "# Create an empty undirected graph\n",
    "G = nx.Graph()\n",
    "\n",
    "# Loop through all the pairs of instances\n",
    "for control_id, control_row in control_df.iterrows():\n",
    "    for treatment_id, treatment_row in treatment_df.iterrows():\n",
    "\n",
    "        # Calculate the similarity \n",
    "        similarity = get_similarity(control_row['Propensity_score'],\n",
    "                                    treatment_row['Propensity_score'])\n",
    "\n",
    "        # Add an edge between the two instances weighted by the similarity between them\n",
    "        G.add_weighted_edges_from([(control_id, treatment_id, similarity)])\n",
    "\n",
    "# Generate and return the maximum weight matching on the generated graph\n",
    "matching = nx.max_weight_matching(G)"
   ]
  },
  {
   "cell_type": "markdown",
   "metadata": {},
   "source": [
    "Create our balanced dataset:"
   ]
  },
  {
   "cell_type": "code",
   "execution_count": 395,
   "metadata": {},
   "outputs": [],
   "source": [
    "matched = [i[0] for i in list(matching)] + [i[1] for i in list(matching)]"
   ]
  },
  {
   "cell_type": "code",
   "execution_count": 396,
   "metadata": {},
   "outputs": [],
   "source": [
    "balanced_df_females = data_features.iloc[matched]"
   ]
  },
  {
   "cell_type": "code",
   "execution_count": 397,
   "metadata": {},
   "outputs": [
    {
     "data": {
      "text/html": [
       "<div>\n",
       "<style scoped>\n",
       "    .dataframe tbody tr th:only-of-type {\n",
       "        vertical-align: middle;\n",
       "    }\n",
       "\n",
       "    .dataframe tbody tr th {\n",
       "        vertical-align: top;\n",
       "    }\n",
       "\n",
       "    .dataframe thead th {\n",
       "        text-align: right;\n",
       "    }\n",
       "</style>\n",
       "<table border=\"1\" class=\"dataframe\">\n",
       "  <thead>\n",
       "    <tr style=\"text-align: right;\">\n",
       "      <th></th>\n",
       "      <th>qids</th>\n",
       "      <th>label</th>\n",
       "      <th>speaker</th>\n",
       "      <th>gender</th>\n",
       "      <th>occupation</th>\n",
       "      <th>academic_degree</th>\n",
       "      <th>nb_quotes</th>\n",
       "      <th>nb_occurrences</th>\n",
       "      <th>age</th>\n",
       "      <th>Activist</th>\n",
       "      <th>...</th>\n",
       "      <th>bachelor</th>\n",
       "      <th>candidate</th>\n",
       "      <th>certificate</th>\n",
       "      <th>doctor</th>\n",
       "      <th>high_school_diploma</th>\n",
       "      <th>master</th>\n",
       "      <th>non_specified_degree</th>\n",
       "      <th>not_classified</th>\n",
       "      <th>professor</th>\n",
       "      <th>Propensity_score</th>\n",
       "    </tr>\n",
       "  </thead>\n",
       "  <tbody>\n",
       "    <tr>\n",
       "      <th>1592</th>\n",
       "      <td>Q5297690</td>\n",
       "      <td>1</td>\n",
       "      <td>Doreen Virtue</td>\n",
       "      <td>female</td>\n",
       "      <td>[Communication, Writer]</td>\n",
       "      <td>[doctor]</td>\n",
       "      <td>33</td>\n",
       "      <td>39</td>\n",
       "      <td>0.187029</td>\n",
       "      <td>0</td>\n",
       "      <td>...</td>\n",
       "      <td>0</td>\n",
       "      <td>0</td>\n",
       "      <td>0</td>\n",
       "      <td>1</td>\n",
       "      <td>0</td>\n",
       "      <td>0</td>\n",
       "      <td>0</td>\n",
       "      <td>0</td>\n",
       "      <td>0</td>\n",
       "      <td>0.450254</td>\n",
       "    </tr>\n",
       "    <tr>\n",
       "      <th>1736</th>\n",
       "      <td>Q6153626</td>\n",
       "      <td>1</td>\n",
       "      <td>Janet Thornton</td>\n",
       "      <td>female</td>\n",
       "      <td>[Scientist]</td>\n",
       "      <td>[doctor]</td>\n",
       "      <td>3</td>\n",
       "      <td>3</td>\n",
       "      <td>0.749866</td>\n",
       "      <td>0</td>\n",
       "      <td>...</td>\n",
       "      <td>0</td>\n",
       "      <td>0</td>\n",
       "      <td>0</td>\n",
       "      <td>1</td>\n",
       "      <td>0</td>\n",
       "      <td>0</td>\n",
       "      <td>0</td>\n",
       "      <td>0</td>\n",
       "      <td>0</td>\n",
       "      <td>0.534279</td>\n",
       "    </tr>\n",
       "    <tr>\n",
       "      <th>648</th>\n",
       "      <td>Q22341204</td>\n",
       "      <td>0</td>\n",
       "      <td>Nozipho Mxakato-Diseko</td>\n",
       "      <td>female</td>\n",
       "      <td>[Government]</td>\n",
       "      <td>[doctor]</td>\n",
       "      <td>92</td>\n",
       "      <td>869</td>\n",
       "      <td>0.124492</td>\n",
       "      <td>0</td>\n",
       "      <td>...</td>\n",
       "      <td>0</td>\n",
       "      <td>0</td>\n",
       "      <td>0</td>\n",
       "      <td>1</td>\n",
       "      <td>0</td>\n",
       "      <td>0</td>\n",
       "      <td>0</td>\n",
       "      <td>0</td>\n",
       "      <td>0</td>\n",
       "      <td>0.502655</td>\n",
       "    </tr>\n",
       "    <tr>\n",
       "      <th>344</th>\n",
       "      <td>Q16979968</td>\n",
       "      <td>0</td>\n",
       "      <td>Jenny Nelson</td>\n",
       "      <td>female</td>\n",
       "      <td>[Scientist]</td>\n",
       "      <td>[doctor]</td>\n",
       "      <td>28</td>\n",
       "      <td>32</td>\n",
       "      <td>-2.595885</td>\n",
       "      <td>0</td>\n",
       "      <td>...</td>\n",
       "      <td>0</td>\n",
       "      <td>0</td>\n",
       "      <td>0</td>\n",
       "      <td>1</td>\n",
       "      <td>0</td>\n",
       "      <td>0</td>\n",
       "      <td>0</td>\n",
       "      <td>0</td>\n",
       "      <td>0</td>\n",
       "      <td>0.419661</td>\n",
       "    </tr>\n",
       "    <tr>\n",
       "      <th>1618</th>\n",
       "      <td>Q5407905</td>\n",
       "      <td>0</td>\n",
       "      <td>Eugenia Kalnay</td>\n",
       "      <td>female</td>\n",
       "      <td>[Scientist]</td>\n",
       "      <td>[doctor]</td>\n",
       "      <td>5</td>\n",
       "      <td>10</td>\n",
       "      <td>1.000016</td>\n",
       "      <td>0</td>\n",
       "      <td>...</td>\n",
       "      <td>0</td>\n",
       "      <td>0</td>\n",
       "      <td>0</td>\n",
       "      <td>1</td>\n",
       "      <td>0</td>\n",
       "      <td>0</td>\n",
       "      <td>0</td>\n",
       "      <td>0</td>\n",
       "      <td>0</td>\n",
       "      <td>0.542853</td>\n",
       "    </tr>\n",
       "  </tbody>\n",
       "</table>\n",
       "<p>5 rows × 59 columns</p>\n",
       "</div>"
      ],
      "text/plain": [
       "           qids  label                 speaker  gender  \\\n",
       "1592   Q5297690      1           Doreen Virtue  female   \n",
       "1736   Q6153626      1          Janet Thornton  female   \n",
       "648   Q22341204      0  Nozipho Mxakato-Diseko  female   \n",
       "344   Q16979968      0            Jenny Nelson  female   \n",
       "1618   Q5407905      0          Eugenia Kalnay  female   \n",
       "\n",
       "                   occupation academic_degree  nb_quotes  nb_occurrences  \\\n",
       "1592  [Communication, Writer]        [doctor]         33              39   \n",
       "1736              [Scientist]        [doctor]          3               3   \n",
       "648              [Government]        [doctor]         92             869   \n",
       "344               [Scientist]        [doctor]         28              32   \n",
       "1618              [Scientist]        [doctor]          5              10   \n",
       "\n",
       "           age  Activist  ...  bachelor  candidate  certificate  doctor  \\\n",
       "1592  0.187029         0  ...         0          0            0       1   \n",
       "1736  0.749866         0  ...         0          0            0       1   \n",
       "648   0.124492         0  ...         0          0            0       1   \n",
       "344  -2.595885         0  ...         0          0            0       1   \n",
       "1618  1.000016         0  ...         0          0            0       1   \n",
       "\n",
       "      high_school_diploma  master  non_specified_degree  not_classified  \\\n",
       "1592                    0       0                     0               0   \n",
       "1736                    0       0                     0               0   \n",
       "648                     0       0                     0               0   \n",
       "344                     0       0                     0               0   \n",
       "1618                    0       0                     0               0   \n",
       "\n",
       "      professor  Propensity_score  \n",
       "1592          0          0.450254  \n",
       "1736          0          0.534279  \n",
       "648           0          0.502655  \n",
       "344           0          0.419661  \n",
       "1618          0          0.542853  \n",
       "\n",
       "[5 rows x 59 columns]"
      ]
     },
     "execution_count": 397,
     "metadata": {},
     "output_type": "execute_result"
    }
   ],
   "source": [
    "balanced_df_females.head()"
   ]
  },
  {
   "cell_type": "code",
   "execution_count": 398,
   "metadata": {},
   "outputs": [],
   "source": [
    "##Pour éviter de run again le matching j'ai sauvegardé le resultat\n",
    "balanced_df_females.to_json(DATA_FOLDER + 'results/balanced_dataset_female.json.bz2')"
   ]
  },
  {
   "cell_type": "code",
   "execution_count": 406,
   "metadata": {},
   "outputs": [],
   "source": [
    "#J'ai sauvegardé aussi les paires\n",
    "textfile = open(\"matching.txt\", \"w\")\n",
    "for element in matching:\n",
    "    textfile.write(str(element) + \"\\n\")\n",
    "textfile.close()"
   ]
  },
  {
   "cell_type": "markdown",
   "metadata": {},
   "source": [
    "Let's check the size of our dataset"
   ]
  },
  {
   "cell_type": "code",
   "execution_count": 399,
   "metadata": {},
   "outputs": [
    {
     "name": "stdout",
     "output_type": "stream",
     "text": [
      "We have 983 speakers before #MeToo\n",
      "We have 59 speakers after #MeToo\n",
      "The data are balanced now!\n"
     ]
    }
   ],
   "source": [
    "print('We have', balanced_df_females[balanced_df_females['label'] == 0].shape[0], 'speakers before #MeToo')\n",
    "print('We have', balanced_df_females[balanced_df_females['label'] == 0].shape[1], 'speakers after #MeToo')\n",
    "print('The data are balanced now!')"
   ]
  },
  {
   "cell_type": "code",
   "execution_count": null,
   "metadata": {},
   "outputs": [],
   "source": []
  },
  {
   "cell_type": "code",
   "execution_count": null,
   "metadata": {},
   "outputs": [],
   "source": []
  },
  {
   "cell_type": "code",
   "execution_count": null,
   "metadata": {},
   "outputs": [],
   "source": []
  },
  {
   "cell_type": "code",
   "execution_count": null,
   "metadata": {},
   "outputs": [],
   "source": []
  },
  {
   "cell_type": "code",
   "execution_count": null,
   "metadata": {},
   "outputs": [],
   "source": []
  },
  {
   "cell_type": "code",
   "execution_count": null,
   "metadata": {},
   "outputs": [],
   "source": []
  },
  {
   "cell_type": "markdown",
   "metadata": {},
   "source": [
    "# A checker au moment d'analyser les outcomes: je crois que nb_occurences et nb_quotes sont des heavy tailed distributions! Voir comment on peut les analyser."
   ]
  },
  {
   "cell_type": "code",
   "execution_count": 203,
   "metadata": {},
   "outputs": [
    {
     "data": {
      "text/plain": [
       "count      1985.000000\n",
       "mean        904.423678\n",
       "std        9029.809671\n",
       "min           1.000000\n",
       "25%           4.000000\n",
       "50%          16.000000\n",
       "75%          87.000000\n",
       "max      274275.000000\n",
       "Name: nb_occurrences, dtype: float64"
      ]
     },
     "execution_count": 203,
     "metadata": {},
     "output_type": "execute_result"
    }
   ],
   "source": [
    "data_features['nb_occurrences'].describe()"
   ]
  },
  {
   "cell_type": "code",
   "execution_count": 240,
   "metadata": {},
   "outputs": [
    {
     "data": {
      "text/html": [
       "<div>\n",
       "<style scoped>\n",
       "    .dataframe tbody tr th:only-of-type {\n",
       "        vertical-align: middle;\n",
       "    }\n",
       "\n",
       "    .dataframe tbody tr th {\n",
       "        vertical-align: top;\n",
       "    }\n",
       "\n",
       "    .dataframe thead th {\n",
       "        text-align: right;\n",
       "    }\n",
       "</style>\n",
       "<table border=\"1\" class=\"dataframe\">\n",
       "  <thead>\n",
       "    <tr style=\"text-align: right;\">\n",
       "      <th></th>\n",
       "      <th>qids</th>\n",
       "      <th>label</th>\n",
       "      <th>speaker</th>\n",
       "      <th>gender</th>\n",
       "      <th>occupation</th>\n",
       "      <th>academic_degree</th>\n",
       "      <th>nb_quotes</th>\n",
       "      <th>nb_occurrences</th>\n",
       "      <th>age</th>\n",
       "      <th>Activist</th>\n",
       "      <th>...</th>\n",
       "      <th>aggregation</th>\n",
       "      <th>bachelor</th>\n",
       "      <th>candidate</th>\n",
       "      <th>certificate</th>\n",
       "      <th>doctor</th>\n",
       "      <th>high school diploma</th>\n",
       "      <th>master</th>\n",
       "      <th>non specified degree</th>\n",
       "      <th>not classified</th>\n",
       "      <th>professor</th>\n",
       "    </tr>\n",
       "  </thead>\n",
       "  <tbody>\n",
       "    <tr>\n",
       "      <th>1745</th>\n",
       "      <td>Q6294</td>\n",
       "      <td>0</td>\n",
       "      <td>Hillary Clinton</td>\n",
       "      <td>female</td>\n",
       "      <td>[Government, Journalism, Writer, Law, Teaching]</td>\n",
       "      <td>[bachelor, doctor]</td>\n",
       "      <td>41261</td>\n",
       "      <td>274275</td>\n",
       "      <td>0.749866</td>\n",
       "      <td>0</td>\n",
       "      <td>...</td>\n",
       "      <td>0</td>\n",
       "      <td>1</td>\n",
       "      <td>0</td>\n",
       "      <td>0</td>\n",
       "      <td>1</td>\n",
       "      <td>0</td>\n",
       "      <td>0</td>\n",
       "      <td>0</td>\n",
       "      <td>0</td>\n",
       "      <td>0</td>\n",
       "    </tr>\n",
       "    <tr>\n",
       "      <th>1746</th>\n",
       "      <td>Q6294</td>\n",
       "      <td>1</td>\n",
       "      <td>Hillary Clinton</td>\n",
       "      <td>female</td>\n",
       "      <td>[Government, Journalism, Writer, Law, Teaching]</td>\n",
       "      <td>[bachelor, doctor]</td>\n",
       "      <td>11137</td>\n",
       "      <td>60926</td>\n",
       "      <td>0.874941</td>\n",
       "      <td>0</td>\n",
       "      <td>...</td>\n",
       "      <td>0</td>\n",
       "      <td>1</td>\n",
       "      <td>0</td>\n",
       "      <td>0</td>\n",
       "      <td>1</td>\n",
       "      <td>0</td>\n",
       "      <td>0</td>\n",
       "      <td>0</td>\n",
       "      <td>0</td>\n",
       "      <td>0</td>\n",
       "    </tr>\n",
       "  </tbody>\n",
       "</table>\n",
       "<p>2 rows × 60 columns</p>\n",
       "</div>"
      ],
      "text/plain": [
       "       qids  label          speaker  gender  \\\n",
       "1745  Q6294      0  Hillary Clinton  female   \n",
       "1746  Q6294      1  Hillary Clinton  female   \n",
       "\n",
       "                                           occupation     academic_degree  \\\n",
       "1745  [Government, Journalism, Writer, Law, Teaching]  [bachelor, doctor]   \n",
       "1746  [Government, Journalism, Writer, Law, Teaching]  [bachelor, doctor]   \n",
       "\n",
       "      nb_quotes  nb_occurrences       age  Activist  ...  aggregation  \\\n",
       "1745      41261          274275  0.749866         0  ...            0   \n",
       "1746      11137           60926  0.874941         0  ...            0   \n",
       "\n",
       "      bachelor  candidate  certificate  doctor  high school diploma  master  \\\n",
       "1745         1          0            0       1                    0       0   \n",
       "1746         1          0            0       1                    0       0   \n",
       "\n",
       "      non specified degree  not classified  professor  \n",
       "1745                     0               0          0  \n",
       "1746                     0               0          0  \n",
       "\n",
       "[2 rows x 60 columns]"
      ]
     },
     "execution_count": 240,
     "metadata": {},
     "output_type": "execute_result"
    }
   ],
   "source": [
    "data_features[data_features['qids'] == 'Q6294']"
   ]
  },
  {
   "cell_type": "markdown",
   "metadata": {},
   "source": [
    "Hillary Clinton a 274275 citations avant #MeToo. Seulement 60926 après (du aux éléctions)."
   ]
  },
  {
   "cell_type": "code",
   "execution_count": null,
   "metadata": {},
   "outputs": [],
   "source": []
  },
  {
   "cell_type": "code",
   "execution_count": null,
   "metadata": {},
   "outputs": [],
   "source": []
  },
  {
   "cell_type": "code",
   "execution_count": null,
   "metadata": {},
   "outputs": [],
   "source": []
  },
  {
   "cell_type": "code",
   "execution_count": null,
   "metadata": {},
   "outputs": [],
   "source": []
  },
  {
   "cell_type": "code",
   "execution_count": null,
   "metadata": {},
   "outputs": [],
   "source": []
  },
  {
   "cell_type": "code",
   "execution_count": null,
   "metadata": {},
   "outputs": [],
   "source": []
  },
  {
   "cell_type": "code",
   "execution_count": null,
   "metadata": {},
   "outputs": [],
   "source": []
  },
  {
   "cell_type": "code",
   "execution_count": null,
   "metadata": {},
   "outputs": [],
   "source": []
  }
 ],
 "metadata": {
  "kernelspec": {
   "display_name": "Python 3 (ipykernel)",
   "language": "python",
   "name": "python3"
  },
  "language_info": {
   "codemirror_mode": {
    "name": "ipython",
    "version": 3
   },
   "file_extension": ".py",
   "mimetype": "text/x-python",
   "name": "python",
   "nbconvert_exporter": "python",
   "pygments_lexer": "ipython3",
   "version": "3.8.11"
  }
 },
 "nbformat": 4,
 "nbformat_minor": 4
}
