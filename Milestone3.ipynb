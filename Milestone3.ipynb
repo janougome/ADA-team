{
 "cells": [
  {
   "cell_type": "markdown",
   "metadata": {},
   "source": [
    "## Imports"
   ]
  },
  {
   "cell_type": "code",
   "execution_count": 1,
   "metadata": {},
   "outputs": [],
   "source": [
    "import pandas as pd\n",
    "import bz2\n",
    "import json\n",
    "import seaborn as sns\n",
    "import matplotlib.pyplot as plt\n",
    "import numpy as np\n",
    "from utils import quotes_by_gender, unique_speaker_per_gender, get_champlex\n",
    "from collections import Counter\n",
    "import math\n",
    "from sklearn.preprocessing import MultiLabelBinarizer\n",
    "import statsmodels.api as sm\n",
    "import statsmodels.formula.api as smf\n",
    "import networkx as nx"
   ]
  },
  {
   "cell_type": "markdown",
   "metadata": {},
   "source": [
    "## Dataset\n"
   ]
  },
  {
   "cell_type": "code",
   "execution_count": 2,
   "metadata": {},
   "outputs": [],
   "source": [
    "DATA_FOLDER = 'data/'\n",
    "QUOTES_DATA = DATA_FOLDER + 'data_observational.json.bz2'"
   ]
  },
  {
   "cell_type": "markdown",
   "metadata": {},
   "source": [
    "## Dictionnaries"
   ]
  },
  {
   "cell_type": "code",
   "execution_count": 3,
   "metadata": {},
   "outputs": [],
   "source": [
    "DICTIONNARY_FOLDER = DATA_FOLDER + 'dictionnaries/'\n",
    "DICT_OCCUPATIONS = DICTIONNARY_FOLDER + 'occupations_categories.json'\n",
    "DICT_DEGREES = DICTIONNARY_FOLDER + 'degrees_categories.json'"
   ]
  },
  {
   "cell_type": "markdown",
   "metadata": {},
   "source": [
    "## Attributes"
   ]
  },
  {
   "cell_type": "code",
   "execution_count": 4,
   "metadata": {},
   "outputs": [],
   "source": [
    "SPEAKER_ATTRIBUTES_DATA = DATA_FOLDER+\"speaker_attributes.parquet\""
   ]
  },
  {
   "cell_type": "code",
   "execution_count": 5,
   "metadata": {},
   "outputs": [],
   "source": [
    "attributes = pd.read_parquet(SPEAKER_ATTRIBUTES_DATA)"
   ]
  },
  {
   "cell_type": "markdown",
   "metadata": {},
   "source": [
    "## Load the data"
   ]
  },
  {
   "cell_type": "code",
   "execution_count": 6,
   "metadata": {},
   "outputs": [],
   "source": [
    "quotes = pd.read_json(QUOTES_DATA)"
   ]
  },
  {
   "cell_type": "code",
   "execution_count": 7,
   "metadata": {},
   "outputs": [],
   "source": [
    "with open(DICT_OCCUPATIONS) as f:\n",
    "    dict_occupations = json.load(f)"
   ]
  },
  {
   "cell_type": "code",
   "execution_count": 8,
   "metadata": {},
   "outputs": [],
   "source": [
    "with open(DICT_DEGREES) as f:\n",
    "    dict_degrees = json.load(f)"
   ]
  },
  {
   "cell_type": "markdown",
   "metadata": {},
   "source": [
    "# Some preprocessing again"
   ]
  },
  {
   "cell_type": "code",
   "execution_count": 9,
   "metadata": {},
   "outputs": [],
   "source": [
    "def translate(my_list, my_dict):\n",
    "    \"\"\"Allows to transform a list of items into a list of corresponding categories. \n",
    "    The list returned contains uniques category (the duplicates are removed).\n",
    "    \n",
    "    Parameters\n",
    "    ----------\n",
    "    my_list: the list to be translated\n",
    "    my_dict: the dictionnary according which we want to translate the list\n",
    "    \n",
    "    Returns\n",
    "    --------\n",
    "    list of uniques categories\"\"\"\n",
    "    translated_list = []\n",
    "    for i in my_list:\n",
    "        if i in my_dict.keys():\n",
    "            translated_list.append(my_dict[i])\n",
    "        else:\n",
    "            translated_list.append('Others')\n",
    "    #Drop duplicates\n",
    "    return (list(set(translated_list)))\n",
    "    \n",
    "        "
   ]
  },
  {
   "cell_type": "markdown",
   "metadata": {},
   "source": [
    "Now, we replace the occupations and academic degrees by more general categories"
   ]
  },
  {
   "cell_type": "code",
   "execution_count": 10,
   "metadata": {},
   "outputs": [],
   "source": [
    "quotes['occupation'] = quotes['occupation'].apply(lambda x: translate(x, dict_occupations))"
   ]
  },
  {
   "cell_type": "code",
   "execution_count": 11,
   "metadata": {},
   "outputs": [],
   "source": [
    "quotes['academic_degree'] = quotes['academic_degree'].apply(lambda x: translate(x, dict_degrees))"
   ]
  },
  {
   "cell_type": "markdown",
   "metadata": {},
   "source": [
    "Prepare the dataset for propensity scores calculations:"
   ]
  },
  {
   "cell_type": "code",
   "execution_count": 12,
   "metadata": {},
   "outputs": [
    {
     "name": "stdout",
     "output_type": "stream",
     "text": [
      "Our dataset contains 1761820 quotes from female speakers.\n"
     ]
    }
   ],
   "source": [
    "print('Our dataset contains', quotes.shape[0], 'quotes from female speakers.')"
   ]
  },
  {
   "cell_type": "markdown",
   "metadata": {},
   "source": [
    "Now, we want to calculate the propensity scores of each speaker. To do that, we need to group the quotations by speakers, and to recover some information about them."
   ]
  },
  {
   "cell_type": "code",
   "execution_count": 13,
   "metadata": {},
   "outputs": [],
   "source": [
    "grouped_speakers = quotes.groupby(['qids', 'label'])"
   ]
  },
  {
   "cell_type": "markdown",
   "metadata": {},
   "source": [
    "After having grouped the quotations per speaker, we take the attributes corresponding to the first quotation: these attributes are immutable (the academic degree, the occupation, the speaker name and the gender), thus we can recover it from the first quotation."
   ]
  },
  {
   "cell_type": "code",
   "execution_count": 14,
   "metadata": {},
   "outputs": [
    {
     "data": {
      "text/html": [
       "<div>\n",
       "<style scoped>\n",
       "    .dataframe tbody tr th:only-of-type {\n",
       "        vertical-align: middle;\n",
       "    }\n",
       "\n",
       "    .dataframe tbody tr th {\n",
       "        vertical-align: top;\n",
       "    }\n",
       "\n",
       "    .dataframe thead th {\n",
       "        text-align: right;\n",
       "    }\n",
       "</style>\n",
       "<table border=\"1\" class=\"dataframe\">\n",
       "  <thead>\n",
       "    <tr style=\"text-align: right;\">\n",
       "      <th></th>\n",
       "      <th>qids</th>\n",
       "      <th>label</th>\n",
       "      <th>speaker</th>\n",
       "      <th>gender</th>\n",
       "      <th>occupation</th>\n",
       "      <th>academic_degree</th>\n",
       "    </tr>\n",
       "  </thead>\n",
       "  <tbody>\n",
       "    <tr>\n",
       "      <th>0</th>\n",
       "      <td>Q1000727</td>\n",
       "      <td>0</td>\n",
       "      <td>Ruslan Galitsky</td>\n",
       "      <td>male</td>\n",
       "      <td>[Military]</td>\n",
       "      <td>[candidate]</td>\n",
       "    </tr>\n",
       "    <tr>\n",
       "      <th>1</th>\n",
       "      <td>Q100230</td>\n",
       "      <td>0</td>\n",
       "      <td>Ludger Kühnhardt</td>\n",
       "      <td>male</td>\n",
       "      <td>[Teaching]</td>\n",
       "      <td>[doctor]</td>\n",
       "    </tr>\n",
       "    <tr>\n",
       "      <th>2</th>\n",
       "      <td>Q100308</td>\n",
       "      <td>1</td>\n",
       "      <td>Joachim Weimann</td>\n",
       "      <td>male</td>\n",
       "      <td>[Teaching, Social Sciences, Writer]</td>\n",
       "      <td>[doctor]</td>\n",
       "    </tr>\n",
       "    <tr>\n",
       "      <th>3</th>\n",
       "      <td>Q1006191</td>\n",
       "      <td>1</td>\n",
       "      <td>F. Földényi</td>\n",
       "      <td>male</td>\n",
       "      <td>[Journalism, Teaching, Fashion, Literature, Ar...</td>\n",
       "      <td>[Others]</td>\n",
       "    </tr>\n",
       "    <tr>\n",
       "      <th>4</th>\n",
       "      <td>Q100749</td>\n",
       "      <td>0</td>\n",
       "      <td>Clemens Fuest</td>\n",
       "      <td>male</td>\n",
       "      <td>[Teaching, Social Sciences]</td>\n",
       "      <td>[doctor]</td>\n",
       "    </tr>\n",
       "    <tr>\n",
       "      <th>...</th>\n",
       "      <td>...</td>\n",
       "      <td>...</td>\n",
       "      <td>...</td>\n",
       "      <td>...</td>\n",
       "      <td>...</td>\n",
       "      <td>...</td>\n",
       "    </tr>\n",
       "    <tr>\n",
       "      <th>9343</th>\n",
       "      <td>Q996967</td>\n",
       "      <td>1</td>\n",
       "      <td>Diane Coyle</td>\n",
       "      <td>female</td>\n",
       "      <td>[Journalism, Social Sciences, Teaching]</td>\n",
       "      <td>[doctor]</td>\n",
       "    </tr>\n",
       "    <tr>\n",
       "      <th>9344</th>\n",
       "      <td>Q99818</td>\n",
       "      <td>0</td>\n",
       "      <td>Holger Afflerbach</td>\n",
       "      <td>male</td>\n",
       "      <td>[Historian, Teaching, Writer]</td>\n",
       "      <td>[doctor]</td>\n",
       "    </tr>\n",
       "    <tr>\n",
       "      <th>9345</th>\n",
       "      <td>Q99860</td>\n",
       "      <td>0</td>\n",
       "      <td>Ottmar Edenhofer</td>\n",
       "      <td>male</td>\n",
       "      <td>[Teaching, Social Sciences]</td>\n",
       "      <td>[doctor, bachelor]</td>\n",
       "    </tr>\n",
       "    <tr>\n",
       "      <th>9346</th>\n",
       "      <td>Q99860</td>\n",
       "      <td>1</td>\n",
       "      <td>Ottmar Edenhofer</td>\n",
       "      <td>male</td>\n",
       "      <td>[Teaching, Social Sciences]</td>\n",
       "      <td>[doctor, bachelor]</td>\n",
       "    </tr>\n",
       "    <tr>\n",
       "      <th>9347</th>\n",
       "      <td>Q998648</td>\n",
       "      <td>1</td>\n",
       "      <td>Herbert Wiedemann</td>\n",
       "      <td>male</td>\n",
       "      <td>[Law]</td>\n",
       "      <td>[doctor]</td>\n",
       "    </tr>\n",
       "  </tbody>\n",
       "</table>\n",
       "<p>9348 rows × 6 columns</p>\n",
       "</div>"
      ],
      "text/plain": [
       "          qids  label            speaker  gender  \\\n",
       "0     Q1000727      0    Ruslan Galitsky    male   \n",
       "1      Q100230      0   Ludger Kühnhardt    male   \n",
       "2      Q100308      1    Joachim Weimann    male   \n",
       "3     Q1006191      1        F. Földényi    male   \n",
       "4      Q100749      0      Clemens Fuest    male   \n",
       "...        ...    ...                ...     ...   \n",
       "9343   Q996967      1        Diane Coyle  female   \n",
       "9344    Q99818      0  Holger Afflerbach    male   \n",
       "9345    Q99860      0   Ottmar Edenhofer    male   \n",
       "9346    Q99860      1   Ottmar Edenhofer    male   \n",
       "9347   Q998648      1  Herbert Wiedemann    male   \n",
       "\n",
       "                                             occupation     academic_degree  \n",
       "0                                            [Military]         [candidate]  \n",
       "1                                            [Teaching]            [doctor]  \n",
       "2                   [Teaching, Social Sciences, Writer]            [doctor]  \n",
       "3     [Journalism, Teaching, Fashion, Literature, Ar...            [Others]  \n",
       "4                           [Teaching, Social Sciences]            [doctor]  \n",
       "...                                                 ...                 ...  \n",
       "9343            [Journalism, Social Sciences, Teaching]            [doctor]  \n",
       "9344                      [Historian, Teaching, Writer]            [doctor]  \n",
       "9345                        [Teaching, Social Sciences]  [doctor, bachelor]  \n",
       "9346                        [Teaching, Social Sciences]  [doctor, bachelor]  \n",
       "9347                                              [Law]            [doctor]  \n",
       "\n",
       "[9348 rows x 6 columns]"
      ]
     },
     "execution_count": 14,
     "metadata": {},
     "output_type": "execute_result"
    }
   ],
   "source": [
    "attributes_immutable = grouped_speakers.first().reset_index().drop(['year', \n",
    "                                                                   'quotation', 'numOccurrences', 'age'], axis = 1)\n",
    "attributes_immutable"
   ]
  },
  {
   "cell_type": "markdown",
   "metadata": {},
   "source": [
    "Now we will calculate the number of quotes per speaker, as well as the number of occurrences per speaker. We also put the age of the speaker to the median age of all its quotations. "
   ]
  },
  {
   "cell_type": "code",
   "execution_count": 15,
   "metadata": {},
   "outputs": [],
   "source": [
    "#Get the number of unique quotes per speaker\n",
    "quotations_per_speaker = grouped_speakers['quotation'].count().reset_index(name='nb_quotes')\n",
    "\n",
    "#Get the number of total occurrences of the speaker\n",
    "occurrences_per_speaker = grouped_speakers['numOccurrences'].sum().reset_index(name='nb_occurrences')\n",
    "\n",
    "#Get the median age of the speaker if she talks many times\n",
    "age_per_speaker = grouped_speakers['age'].median().reset_index(name='age')"
   ]
  },
  {
   "cell_type": "code",
   "execution_count": 16,
   "metadata": {},
   "outputs": [
    {
     "data": {
      "text/html": [
       "<div>\n",
       "<style scoped>\n",
       "    .dataframe tbody tr th:only-of-type {\n",
       "        vertical-align: middle;\n",
       "    }\n",
       "\n",
       "    .dataframe tbody tr th {\n",
       "        vertical-align: top;\n",
       "    }\n",
       "\n",
       "    .dataframe thead th {\n",
       "        text-align: right;\n",
       "    }\n",
       "</style>\n",
       "<table border=\"1\" class=\"dataframe\">\n",
       "  <thead>\n",
       "    <tr style=\"text-align: right;\">\n",
       "      <th></th>\n",
       "      <th>qids</th>\n",
       "      <th>label</th>\n",
       "      <th>nb_quotes</th>\n",
       "      <th>nb_occurrences</th>\n",
       "      <th>age</th>\n",
       "    </tr>\n",
       "  </thead>\n",
       "  <tbody>\n",
       "    <tr>\n",
       "      <th>0</th>\n",
       "      <td>Q1000727</td>\n",
       "      <td>0</td>\n",
       "      <td>1</td>\n",
       "      <td>2</td>\n",
       "      <td>44.0</td>\n",
       "    </tr>\n",
       "    <tr>\n",
       "      <th>1</th>\n",
       "      <td>Q100230</td>\n",
       "      <td>0</td>\n",
       "      <td>1</td>\n",
       "      <td>1</td>\n",
       "      <td>59.0</td>\n",
       "    </tr>\n",
       "    <tr>\n",
       "      <th>2</th>\n",
       "      <td>Q100308</td>\n",
       "      <td>1</td>\n",
       "      <td>1</td>\n",
       "      <td>1</td>\n",
       "      <td>63.0</td>\n",
       "    </tr>\n",
       "    <tr>\n",
       "      <th>3</th>\n",
       "      <td>Q1006191</td>\n",
       "      <td>1</td>\n",
       "      <td>1</td>\n",
       "      <td>1</td>\n",
       "      <td>67.0</td>\n",
       "    </tr>\n",
       "    <tr>\n",
       "      <th>4</th>\n",
       "      <td>Q100749</td>\n",
       "      <td>0</td>\n",
       "      <td>300</td>\n",
       "      <td>1654</td>\n",
       "      <td>48.0</td>\n",
       "    </tr>\n",
       "  </tbody>\n",
       "</table>\n",
       "</div>"
      ],
      "text/plain": [
       "       qids  label  nb_quotes  nb_occurrences   age\n",
       "0  Q1000727      0          1               2  44.0\n",
       "1   Q100230      0          1               1  59.0\n",
       "2   Q100308      1          1               1  63.0\n",
       "3  Q1006191      1          1               1  67.0\n",
       "4   Q100749      0        300            1654  48.0"
      ]
     },
     "execution_count": 16,
     "metadata": {},
     "output_type": "execute_result"
    }
   ],
   "source": [
    "attributes_mutable = pd.merge(pd.merge(quotations_per_speaker, occurrences_per_speaker, on = ['qids', 'label']), \n",
    "                              age_per_speaker, on = ['qids', 'label'])\n",
    "attributes_mutable.head()"
   ]
  },
  {
   "cell_type": "code",
   "execution_count": 17,
   "metadata": {},
   "outputs": [],
   "source": [
    "data_per_speaker = pd.merge(attributes_immutable, attributes_mutable, on = ['qids', 'label'])"
   ]
  },
  {
   "cell_type": "markdown",
   "metadata": {},
   "source": [
    "Hot one encoding"
   ]
  },
  {
   "cell_type": "code",
   "execution_count": 18,
   "metadata": {},
   "outputs": [
    {
     "name": "stderr",
     "output_type": "stream",
     "text": [
      "/var/folders/n_/84v0r2b53yx61w33v8clz5500000gp/T/ipykernel_2538/3314558053.py:1: FutureWarning: Using the level keyword in DataFrame and Series aggregations is deprecated and will be removed in a future version. Use groupby instead. df.sum(level=1) should use df.groupby(level=1).sum().\n",
      "  dummies_occ = pd.get_dummies(data_per_speaker['occupation'].explode()).sum(level=0)\n",
      "/var/folders/n_/84v0r2b53yx61w33v8clz5500000gp/T/ipykernel_2538/3314558053.py:2: FutureWarning: Using the level keyword in DataFrame and Series aggregations is deprecated and will be removed in a future version. Use groupby instead. df.sum(level=1) should use df.groupby(level=1).sum().\n",
      "  dummies_degree = pd.get_dummies(data_per_speaker['academic_degree'].explode()).sum(level=0)\n"
     ]
    }
   ],
   "source": [
    "dummies_occ = pd.get_dummies(data_per_speaker['occupation'].explode()).sum(level=0)\n",
    "dummies_degree = pd.get_dummies(data_per_speaker['academic_degree'].explode()).sum(level=0)"
   ]
  },
  {
   "cell_type": "code",
   "execution_count": 57,
   "metadata": {},
   "outputs": [],
   "source": [
    "dummies_gender = pd.get_dummies(data_per_speaker['gender'])"
   ]
  },
  {
   "cell_type": "code",
   "execution_count": 19,
   "metadata": {},
   "outputs": [],
   "source": [
    "##C'est sombre mais get_dummies cree une colomn 'Others' donc en attendant de comprendre pq:\n",
    "dummies_occ.drop(['Others'], axis = 1, inplace = True)\n",
    "dummies_degree.drop(['Others'], axis = 1, inplace = True)"
   ]
  },
  {
   "cell_type": "code",
   "execution_count": 20,
   "metadata": {},
   "outputs": [],
   "source": [
    "#Parce que la regression aime pas les espaces dans les noms de variables\n",
    "dummies_occ.columns = dummies_occ.columns.str.replace(\" \", \"_\")\n",
    "dummies_degree.columns = dummies_degree.columns.str.replace(\" \", \"_\")"
   ]
  },
  {
   "cell_type": "code",
   "execution_count": 59,
   "metadata": {},
   "outputs": [],
   "source": [
    "data_features = pd.merge(pd.merge(data_per_speaker, dummies_occ, left_index = True, right_index = True), dummies_degree, left_index = True, right_index = True)\n",
    "data_features = pd.merge(data_features, dummies_gender, left_index = True, right_index = True)"
   ]
  },
  {
   "cell_type": "markdown",
   "metadata": {},
   "source": [
    "Before calculating the propensity scores, we should standardize the continuous features. Let's look at their distributions in order to choose an appropriate standardization. "
   ]
  },
  {
   "cell_type": "code",
   "execution_count": 61,
   "metadata": {},
   "outputs": [
    {
     "data": {
      "image/png": "[encoded data removed]",
      "text/plain": [
       "<Figure size 432x288 with 1 Axes>"
      ]
     },
     "metadata": {
      "needs_background": "light"
     },
     "output_type": "display_data"
    }
   ],
   "source": [
    "ax = sns.histplot(data_features['age'], bins = 50)\n",
    "ax.set_title(\"Distribution of the median age of the speakers\");"
   ]
  },
  {
   "cell_type": "markdown",
   "metadata": {},
   "source": [
    "The distribution of the age seems to follow a gaussian distribution, thus, we will standardize it."
   ]
  },
  {
   "cell_type": "code",
   "execution_count": 62,
   "metadata": {},
   "outputs": [
    {
     "data": {
      "text/html": [
       "<div>\n",
       "<style scoped>\n",
       "    .dataframe tbody tr th:only-of-type {\n",
       "        vertical-align: middle;\n",
       "    }\n",
       "\n",
       "    .dataframe tbody tr th {\n",
       "        vertical-align: top;\n",
       "    }\n",
       "\n",
       "    .dataframe thead th {\n",
       "        text-align: right;\n",
       "    }\n",
       "</style>\n",
       "<table border=\"1\" class=\"dataframe\">\n",
       "  <thead>\n",
       "    <tr style=\"text-align: right;\">\n",
       "      <th></th>\n",
       "      <th>qids</th>\n",
       "      <th>label</th>\n",
       "      <th>speaker</th>\n",
       "      <th>gender</th>\n",
       "      <th>occupation</th>\n",
       "      <th>academic_degree</th>\n",
       "      <th>nb_quotes</th>\n",
       "      <th>nb_occurrences</th>\n",
       "      <th>age</th>\n",
       "      <th>Activist</th>\n",
       "      <th>...</th>\n",
       "      <th>candidate</th>\n",
       "      <th>certificate</th>\n",
       "      <th>doctor</th>\n",
       "      <th>high_school_diploma</th>\n",
       "      <th>master</th>\n",
       "      <th>non_specified_degree</th>\n",
       "      <th>not_classified</th>\n",
       "      <th>professor</th>\n",
       "      <th>female</th>\n",
       "      <th>male</th>\n",
       "    </tr>\n",
       "  </thead>\n",
       "  <tbody>\n",
       "    <tr>\n",
       "      <th>0</th>\n",
       "      <td>Q1000727</td>\n",
       "      <td>0</td>\n",
       "      <td>Ruslan Galitsky</td>\n",
       "      <td>male</td>\n",
       "      <td>[Military]</td>\n",
       "      <td>[candidate]</td>\n",
       "      <td>1</td>\n",
       "      <td>2</td>\n",
       "      <td>-1.109912</td>\n",
       "      <td>0</td>\n",
       "      <td>...</td>\n",
       "      <td>1</td>\n",
       "      <td>0</td>\n",
       "      <td>0</td>\n",
       "      <td>0</td>\n",
       "      <td>0</td>\n",
       "      <td>0</td>\n",
       "      <td>0</td>\n",
       "      <td>0</td>\n",
       "      <td>0</td>\n",
       "      <td>1</td>\n",
       "    </tr>\n",
       "    <tr>\n",
       "      <th>1</th>\n",
       "      <td>Q100230</td>\n",
       "      <td>0</td>\n",
       "      <td>Ludger Kühnhardt</td>\n",
       "      <td>male</td>\n",
       "      <td>[Teaching]</td>\n",
       "      <td>[doctor]</td>\n",
       "      <td>1</td>\n",
       "      <td>1</td>\n",
       "      <td>-0.198774</td>\n",
       "      <td>0</td>\n",
       "      <td>...</td>\n",
       "      <td>0</td>\n",
       "      <td>0</td>\n",
       "      <td>1</td>\n",
       "      <td>0</td>\n",
       "      <td>0</td>\n",
       "      <td>0</td>\n",
       "      <td>0</td>\n",
       "      <td>0</td>\n",
       "      <td>0</td>\n",
       "      <td>1</td>\n",
       "    </tr>\n",
       "  </tbody>\n",
       "</table>\n",
       "<p>2 rows × 62 columns</p>\n",
       "</div>"
      ],
      "text/plain": [
       "       qids  label           speaker gender  occupation academic_degree  \\\n",
       "0  Q1000727      0   Ruslan Galitsky   male  [Military]     [candidate]   \n",
       "1   Q100230      0  Ludger Kühnhardt   male  [Teaching]        [doctor]   \n",
       "\n",
       "   nb_quotes  nb_occurrences       age  Activist  ...  candidate  certificate  \\\n",
       "0          1               2 -1.109912         0  ...          1            0   \n",
       "1          1               1 -0.198774         0  ...          0            0   \n",
       "\n",
       "   doctor  high_school_diploma  master  non_specified_degree  not_classified  \\\n",
       "0       0                    0       0                     0               0   \n",
       "1       1                    0       0                     0               0   \n",
       "\n",
       "   professor  female  male  \n",
       "0          0       0     1  \n",
       "1          0       0     1  \n",
       "\n",
       "[2 rows x 62 columns]"
      ]
     },
     "execution_count": 62,
     "metadata": {},
     "output_type": "execute_result"
    }
   ],
   "source": [
    "data_features['age'] = (data_features['age'] - data_features['age'].mean())/data_features['age'].std()\n",
    "data_features.head(2)"
   ]
  },
  {
   "cell_type": "markdown",
   "metadata": {},
   "source": [
    "Now the dataset is ready for the propensity scores calculation and matching (petit rappel de la théorie ici serait good!)"
   ]
  },
  {
   "cell_type": "markdown",
   "metadata": {},
   "source": [
    "# Create a balanced dataset to reduce bias"
   ]
  },
  {
   "cell_type": "markdown",
   "metadata": {},
   "source": [
    "Now the dataset is ready for the observational study: pair identical people, propensity scores calculation and matching (petit rappel de la théorie ici!)"
   ]
  },
  {
   "cell_type": "markdown",
   "metadata": {},
   "source": [
    "First, we know that some speakers might appear before and after the #MeToo movement. We decide to pair them up, because the goal is to match 2 identical person in terms of their observal covariates, but here, we already know that they are the same person! With just a few years more. But we assume that the difference in age in minor compared to the fact that all other covariates are exaclty the same, and not only the observable ones, since it is the same person!\n",
    "Thus, we first pair the identical speakers that appear in both groups (control and treated). Then, for the others (i.e, the speakers who speak ONLY before the movement or ONLY after), we will use the method of propensity scores calculation based on the observable covariates = `age`, `occupation`, `academic_degree`."
   ]
  },
  {
   "cell_type": "markdown",
   "metadata": {},
   "source": [
    "## Pair up identical speakers"
   ]
  },
  {
   "cell_type": "code",
   "execution_count": 63,
   "metadata": {},
   "outputs": [
    {
     "name": "stdout",
     "output_type": "stream",
     "text": [
      "Number of speakers speaking both before and after 3363\n"
     ]
    }
   ],
   "source": [
    "print(\"Number of speakers speaking both before and after\",\n",
    "      data_features[data_features['qids'].duplicated(keep = 'first') == True].shape[0])"
   ]
  },
  {
   "cell_type": "code",
   "execution_count": 64,
   "metadata": {},
   "outputs": [],
   "source": [
    "data_features.drop(['academic_degree', 'occupation'], axis = 1, inplace = True)"
   ]
  },
  {
   "cell_type": "code",
   "execution_count": 65,
   "metadata": {},
   "outputs": [],
   "source": [
    "speakers_twice = data_features[data_features['qids'].duplicated(keep = False) == True]"
   ]
  },
  {
   "cell_type": "markdown",
   "metadata": {},
   "source": [
    "## Pair up non-identical speakers"
   ]
  },
  {
   "cell_type": "code",
   "execution_count": 66,
   "metadata": {},
   "outputs": [],
   "source": [
    "speakers_once = pd.concat([data_features,speakers_twice])"
   ]
  },
  {
   "cell_type": "code",
   "execution_count": 67,
   "metadata": {},
   "outputs": [],
   "source": [
    "speakers_once.drop_duplicates(keep = False, inplace = True)"
   ]
  },
  {
   "cell_type": "code",
   "execution_count": 68,
   "metadata": {},
   "outputs": [
    {
     "name": "stdout",
     "output_type": "stream",
     "text": [
      "Now, we will try to pair up the other speakers, they are: 2622\n"
     ]
    }
   ],
   "source": [
    "print('Now, we will try to pair up the other speakers, they are:', speakers_once.shape[0])"
   ]
  },
  {
   "cell_type": "markdown",
   "metadata": {},
   "source": [
    "### Propensity scores calculation"
   ]
  },
  {
   "cell_type": "code",
   "execution_count": 69,
   "metadata": {},
   "outputs": [],
   "source": [
    "occupations_for_regression = ['C('+ str(x)+ ')' for x in dummies_occ.columns.tolist()]"
   ]
  },
  {
   "cell_type": "code",
   "execution_count": 70,
   "metadata": {},
   "outputs": [],
   "source": [
    "degrees_for_regression = ['C('+ str(x)+ ')' for x in dummies_degree.columns.tolist()]"
   ]
  },
  {
   "cell_type": "code",
   "execution_count": 71,
   "metadata": {},
   "outputs": [],
   "source": [
    "def create_formula_from_list_categories(my_list):\n",
    "    list_for_regression = ['C('+ str(x)+ ')' for x in my_list]\n",
    "    formula = ''\n",
    "    for i in list_for_regression:\n",
    "        formula += i\n",
    "        if i != list_for_regression[-1]:\n",
    "            formula += ' + '\n",
    "    return formula\n",
    "    "
   ]
  },
  {
   "cell_type": "code",
   "execution_count": 72,
   "metadata": {},
   "outputs": [],
   "source": [
    "formula_occupations = create_formula_from_list_categories(dummies_occ.columns.tolist())"
   ]
  },
  {
   "cell_type": "code",
   "execution_count": 73,
   "metadata": {},
   "outputs": [],
   "source": [
    "formula_degrees = create_formula_from_list_categories(dummies_degree.columns.tolist())"
   ]
  },
  {
   "cell_type": "code",
   "execution_count": 77,
   "metadata": {},
   "outputs": [
    {
     "name": "stdout",
     "output_type": "stream",
     "text": [
      "Warning: Maximum number of iterations has been exceeded.\n",
      "         Current function value: 0.679217\n",
      "         Iterations: 100\n",
      "                           Logit Regression Results                           \n",
      "==============================================================================\n",
      "Dep. Variable:                  label   No. Observations:                 2622\n",
      "Model:                          Logit   Df Residuals:                     2570\n",
      "Method:                           MLE   Df Model:                           51\n",
      "Date:                Wed, 01 Dec 2021   Pseudo R-squ.:                 0.01898\n",
      "Time:                        13:04:51   Log-Likelihood:                -1780.9\n",
      "converged:                      False   LL-Null:                       -1815.4\n",
      "Covariance Type:            nonrobust   LLR p-value:                   0.04792\n",
      "================================================================================================\n",
      "                                   coef    std err          z      P>|z|      [0.025      0.975]\n",
      "------------------------------------------------------------------------------------------------\n",
      "Intercept                       -0.0608      0.177     -0.343      0.732      -0.408       0.286\n",
      "C(Activist)[T.1]                 0.3128      0.381      0.821      0.412      -0.434       1.060\n",
      "C(Administrative)[T.1]           0.1327      0.682      0.195      0.846      -1.204       1.470\n",
      "C(Artist)[T.1]                  -0.0182      0.206     -0.088      0.930      -0.423       0.386\n",
      "C(Business)[T.1]                 0.2410      0.238      1.012      0.311      -0.226       0.708\n",
      "C(Cinematography)[T.1]          -0.6155      0.430     -1.430      0.153      -1.459       0.228\n",
      "C(Communication)[T.1]           -0.8995      0.860     -1.046      0.296      -2.585       0.786\n",
      "C(Consulting)[T.1]             -16.7569   4896.219     -0.003      0.997   -9613.169    9579.655\n",
      "C(Education)[T.1]                0.2678      0.226      1.183      0.237      -0.176       0.712\n",
      "C(Engineer)[T.1]                -0.6077      0.237     -2.563      0.010      -1.072      -0.143\n",
      "C(Entertainment)[T.1]           -0.0349      0.305     -0.114      0.909      -0.633       0.563\n",
      "C(Fashion)[T.1]                  0.2038      1.040      0.196      0.845      -1.835       2.243\n",
      "C(Finance)[T.1]                 -0.2678      0.419     -0.639      0.523      -1.089       0.554\n",
      "C(Government)[T.1]              -0.0432      0.112     -0.385      0.701      -0.264       0.177\n",
      "C(Handicraft)[T.1]              -0.6802      0.876     -0.776      0.438      -2.398       1.037\n",
      "C(Historian)[T.1]                0.1811      0.126      1.432      0.152      -0.067       0.429\n",
      "C(Informatics)[T.1]              0.1267      0.276      0.460      0.646      -0.413       0.667\n",
      "C(Journalism)[T.1]              -0.1550      0.182     -0.853      0.394      -0.511       0.201\n",
      "C(Law)[T.1]                      0.1742      0.163      1.066      0.287      -0.146       0.495\n",
      "C(Literature)[T.1]              -0.2275      0.198     -1.148      0.251      -0.616       0.161\n",
      "C(Managing)[T.1]                -0.0033      0.449     -0.007      0.994      -0.883       0.877\n",
      "C(Marketing)[T.1]               17.0115   5722.877      0.003      0.998   -1.12e+04    1.12e+04\n",
      "C(Medical)[T.1]                  0.1296      0.191      0.677      0.498      -0.246       0.505\n",
      "C(Merchant)[T.1]                19.6913   2.66e+04      0.001      0.999   -5.21e+04    5.21e+04\n",
      "C(Military)[T.1]                -0.4300      0.473     -0.909      0.363      -1.357       0.497\n",
      "C(Musician)[T.1]                -0.0507      0.433     -0.117      0.907      -0.899       0.798\n",
      "C(Order)[T.1]                   -0.5635      0.930     -0.606      0.544      -2.386       1.259\n",
      "C(Other)[T.1]                    0.1344      0.419      0.321      0.749      -0.687       0.956\n",
      "C(Performing_Arts)[T.1]          0.8581      0.431      1.991      0.047       0.013       1.703\n",
      "C(Philosophy)[T.1]               0.1394      0.209      0.667      0.505      -0.270       0.549\n",
      "C(Psychology)[T.1]               0.2358      0.234      1.007      0.314      -0.223       0.695\n",
      "C(Public_Speaker)[T.1]           0.7444      0.875      0.851      0.395      -0.970       2.459\n",
      "C(Religion)[T.1]                -0.0035      0.232     -0.015      0.988      -0.458       0.451\n",
      "C(Scholar)[T.1]                  0.3481      0.205      1.701      0.089      -0.053       0.749\n",
      "C(Scientist)[T.1]               -0.0592      0.109     -0.542      0.588      -0.273       0.155\n",
      "C(Social_Sciences)[T.1]         -0.0520      0.112     -0.465      0.642      -0.271       0.167\n",
      "C(Sport)[T.1]                   -0.4460      0.351     -1.269      0.204      -1.135       0.243\n",
      "C(Teaching)[T.1]                -0.1883      0.089     -2.121      0.034      -0.362      -0.014\n",
      "C(Worker)[T.1]                   0.8158      0.541      1.508      0.131      -0.244       1.876\n",
      "C(Writer)[T.1]                  -0.0517      0.121     -0.426      0.670      -0.290       0.186\n",
      "C(aggregation)[T.1]             -0.2718      0.299     -0.908      0.364      -0.859       0.315\n",
      "C(bachelor)[T.1]                 0.3104      0.190      1.631      0.103      -0.063       0.683\n",
      "C(candidate)[T.1]               -0.0144      0.186     -0.077      0.938      -0.378       0.350\n",
      "C(certificate)[T.1]            -22.2264    4.4e+04     -0.001      1.000   -8.62e+04    8.62e+04\n",
      "C(doctor)[T.1]                   0.1965      0.159      1.234      0.217      -0.116       0.509\n",
      "C(high_school_diploma)[T.1]      0.2212      0.730      0.303      0.762      -1.210       1.653\n",
      "C(master)[T.1]                   0.3138      0.175      1.794      0.073      -0.029       0.657\n",
      "C(non_specified_degree)[T.1]     0.0677      0.279      0.243      0.808      -0.479       0.614\n",
      "C(not_classified)[T.1]          25.9271   1.96e+05      0.000      1.000   -3.85e+05    3.85e+05\n",
      "C(professor)[T.1]               -0.0822      0.264     -0.312      0.755      -0.599       0.435\n",
      "C(female)[T.1]                   0.0090      0.106      0.085      0.932      -0.198       0.216\n",
      "age                              0.1138      0.043      2.617      0.009       0.029       0.199\n",
      "================================================================================================\n"
     ]
    },
    {
     "name": "stderr",
     "output_type": "stream",
     "text": [
      "/Users/lisa/opt/anaconda3/envs/ada/lib/python3.8/site-packages/statsmodels/base/model.py:566: ConvergenceWarning: Maximum Likelihood optimization failed to converge. Check mle_retvals\n",
      "  warnings.warn(\"Maximum Likelihood optimization failed to \"\n"
     ]
    }
   ],
   "source": [
    "mod = smf.logit(formula='label ~  age + ' + formula_occupations + ' + ' + formula_degrees + '+ C(female)', data=speakers_once)\n",
    "\n",
    "res = mod.fit(maxiter = 100)\n",
    "\n",
    "# Extract the estimated propensity scores\n",
    "speakers_once['Propensity_score'] = res.predict()\n",
    "\n",
    "print(res.summary())"
   ]
  },
  {
   "cell_type": "markdown",
   "metadata": {},
   "source": [
    "### Matching"
   ]
  },
  {
   "cell_type": "code",
   "execution_count": 37,
   "metadata": {},
   "outputs": [],
   "source": [
    "def get_similarity(propensity_score1, propensity_score2):\n",
    "    '''Calculate similarity for instances with given propensity scores'''\n",
    "    return 1-np.abs(propensity_score1-propensity_score2)"
   ]
  },
  {
   "cell_type": "code",
   "execution_count": 38,
   "metadata": {},
   "outputs": [
    {
     "data": {
      "text/html": [
       "<div>\n",
       "<style scoped>\n",
       "    .dataframe tbody tr th:only-of-type {\n",
       "        vertical-align: middle;\n",
       "    }\n",
       "\n",
       "    .dataframe tbody tr th {\n",
       "        vertical-align: top;\n",
       "    }\n",
       "\n",
       "    .dataframe thead th {\n",
       "        text-align: right;\n",
       "    }\n",
       "</style>\n",
       "<table border=\"1\" class=\"dataframe\">\n",
       "  <thead>\n",
       "    <tr style=\"text-align: right;\">\n",
       "      <th></th>\n",
       "      <th>qids</th>\n",
       "      <th>label</th>\n",
       "      <th>speaker</th>\n",
       "      <th>gender</th>\n",
       "      <th>nb_quotes</th>\n",
       "      <th>nb_occurrences</th>\n",
       "      <th>age</th>\n",
       "      <th>Activist</th>\n",
       "      <th>Administrative</th>\n",
       "      <th>Artist</th>\n",
       "      <th>...</th>\n",
       "      <th>bachelor</th>\n",
       "      <th>candidate</th>\n",
       "      <th>certificate</th>\n",
       "      <th>doctor</th>\n",
       "      <th>high_school_diploma</th>\n",
       "      <th>master</th>\n",
       "      <th>non_specified_degree</th>\n",
       "      <th>not_classified</th>\n",
       "      <th>professor</th>\n",
       "      <th>Propensity_score</th>\n",
       "    </tr>\n",
       "  </thead>\n",
       "  <tbody>\n",
       "    <tr>\n",
       "      <th>0</th>\n",
       "      <td>Q1000727</td>\n",
       "      <td>0</td>\n",
       "      <td>Ruslan Galitsky</td>\n",
       "      <td>male</td>\n",
       "      <td>1</td>\n",
       "      <td>2</td>\n",
       "      <td>-1.109912</td>\n",
       "      <td>0</td>\n",
       "      <td>0</td>\n",
       "      <td>0</td>\n",
       "      <td>...</td>\n",
       "      <td>0</td>\n",
       "      <td>1</td>\n",
       "      <td>0</td>\n",
       "      <td>0</td>\n",
       "      <td>0</td>\n",
       "      <td>0</td>\n",
       "      <td>0</td>\n",
       "      <td>0</td>\n",
       "      <td>0</td>\n",
       "      <td>0.347381</td>\n",
       "    </tr>\n",
       "    <tr>\n",
       "      <th>1</th>\n",
       "      <td>Q100230</td>\n",
       "      <td>0</td>\n",
       "      <td>Ludger Kühnhardt</td>\n",
       "      <td>male</td>\n",
       "      <td>1</td>\n",
       "      <td>1</td>\n",
       "      <td>-0.198774</td>\n",
       "      <td>0</td>\n",
       "      <td>0</td>\n",
       "      <td>0</td>\n",
       "      <td>...</td>\n",
       "      <td>0</td>\n",
       "      <td>0</td>\n",
       "      <td>0</td>\n",
       "      <td>1</td>\n",
       "      <td>0</td>\n",
       "      <td>0</td>\n",
       "      <td>0</td>\n",
       "      <td>0</td>\n",
       "      <td>0</td>\n",
       "      <td>0.481673</td>\n",
       "    </tr>\n",
       "  </tbody>\n",
       "</table>\n",
       "<p>2 rows × 59 columns</p>\n",
       "</div>"
      ],
      "text/plain": [
       "       qids  label           speaker gender  nb_quotes  nb_occurrences  \\\n",
       "0  Q1000727      0   Ruslan Galitsky   male          1               2   \n",
       "1   Q100230      0  Ludger Kühnhardt   male          1               1   \n",
       "\n",
       "        age  Activist  Administrative  Artist  ...  bachelor  candidate  \\\n",
       "0 -1.109912         0               0       0  ...         0          1   \n",
       "1 -0.198774         0               0       0  ...         0          0   \n",
       "\n",
       "   certificate  doctor  high_school_diploma  master  non_specified_degree  \\\n",
       "0            0       0                    0       0                     0   \n",
       "1            0       1                    0       0                     0   \n",
       "\n",
       "   not_classified  professor  Propensity_score  \n",
       "0               0          0          0.347381  \n",
       "1               0          0          0.481673  \n",
       "\n",
       "[2 rows x 59 columns]"
      ]
     },
     "execution_count": 38,
     "metadata": {},
     "output_type": "execute_result"
    }
   ],
   "source": [
    "speakers_once.head(2)"
   ]
  },
  {
   "cell_type": "markdown",
   "metadata": {},
   "source": [
    "Run the following cell to get the matching for both male and females:"
   ]
  },
  {
   "cell_type": "code",
   "execution_count": null,
   "metadata": {},
   "outputs": [],
   "source": [
    "# Separate the treatment and control groups\n",
    "treatment_df = speakers_once[speakers_once['label'] == 1]\n",
    "control_df = speakers_once[speakers_once['label'] == 0]\n",
    "\n",
    "# Create an empty undirected graph\n",
    "G = nx.Graph()\n",
    "\n",
    "# Loop through all the pairs of instances\n",
    "for control_id, control_row in control_df.iterrows():\n",
    "    for treatment_id, treatment_row in treatment_df.iterrows():\n",
    "\n",
    "        # Calculate the similarity \n",
    "        # Adds an edge only if the individuals have the same gender\n",
    "        if (control_row['gender'] == treatment_row['gender']):\n",
    "            similarity = get_similarity(control_row['Propensity_score'],\n",
    "                                    treatment_row['Propensity_score'])\n",
    "\n",
    "        # Add an edge between the two instances weighted by the similarity between them\n",
    "            G.add_weighted_edges_from([(control_id, treatment_id, similarity)])\n",
    "\n",
    "# Generate and return the maximum weight matching on the generated graph\n",
    "matching = nx.max_weight_matching(G)"
   ]
  },
  {
   "cell_type": "code",
   "execution_count": null,
   "metadata": {},
   "outputs": [],
   "source": [
    "matched = [i[0] for i in list(matching)] + [i[1] for i in list(matching)]"
   ]
  },
  {
   "cell_type": "code",
   "execution_count": null,
   "metadata": {},
   "outputs": [],
   "source": [
    "balanced_speakers_once = speakers_once.loc[matched]"
   ]
  },
  {
   "cell_type": "code",
   "execution_count": null,
   "metadata": {},
   "outputs": [],
   "source": [
    "balanced_speakers = pd.concat(balanced_speakers_once, speakers_twice)"
   ]
  },
  {
   "cell_type": "code",
   "execution_count": null,
   "metadata": {},
   "outputs": [],
   "source": [
    "##Pour éviter de run again le matching \n",
    "balanced_df_by_gender.to_json(DATA_FOLDER + 'results/balanced_dataset_by_gender.json.bz2')"
   ]
  },
  {
   "cell_type": "code",
   "execution_count": null,
   "metadata": {},
   "outputs": [],
   "source": [
    "#On sauvegarde aussi les valeurs de paires\n",
    "textfile = open(\"matching_by_gender.txt\", \"w\")\n",
    "for element in matching:\n",
    "    textfile.write(str(element) + \"\\n\")\n",
    "textfile.close()"
   ]
  },
  {
   "cell_type": "markdown",
   "metadata": {},
   "source": [
    "# Results"
   ]
  },
  {
   "cell_type": "markdown",
   "metadata": {},
   "source": [
    "### Essai sur les femmes en attendant d'avoir le dataset total"
   ]
  },
  {
   "cell_type": "code",
   "execution_count": 39,
   "metadata": {},
   "outputs": [],
   "source": [
    "speakers_once_female = speakers_once[speakers_once['gender'] == 'female']"
   ]
  },
  {
   "cell_type": "code",
   "execution_count": 40,
   "metadata": {},
   "outputs": [],
   "source": [
    "# Separate the treatment and control groups\n",
    "treatment_df = speakers_once_female[speakers_once_female['label'] == 1]\n",
    "control_df = speakers_once_female[speakers_once_female['label'] == 0]\n",
    "\n",
    "# Create an empty undirected graph\n",
    "G = nx.Graph()\n",
    "\n",
    "# Loop through all the pairs of instances\n",
    "for control_id, control_row in control_df.iterrows():\n",
    "    for treatment_id, treatment_row in treatment_df.iterrows():\n",
    "\n",
    "        # Calculate the similarity \n",
    "        # Adds an edge only if the individuals have the same gender\n",
    "        if (control_row['gender'] == treatment_row['gender']):\n",
    "            similarity = get_similarity(control_row['Propensity_score'],\n",
    "                                    treatment_row['Propensity_score'])\n",
    "\n",
    "        # Add an edge between the two instances weighted by the similarity between them\n",
    "            G.add_weighted_edges_from([(control_id, treatment_id, similarity)])\n",
    "\n",
    "# Generate and return the maximum weight matching on the generated graph\n",
    "matching = nx.max_weight_matching(G)"
   ]
  },
  {
   "cell_type": "code",
   "execution_count": 41,
   "metadata": {},
   "outputs": [],
   "source": [
    "matched = [i[0] for i in list(matching)] + [i[1] for i in list(matching)]"
   ]
  },
  {
   "cell_type": "code",
   "execution_count": 42,
   "metadata": {},
   "outputs": [],
   "source": [
    "balanced_speakers_once_female = speakers_once_female.loc[matched]"
   ]
  },
  {
   "cell_type": "code",
   "execution_count": 43,
   "metadata": {},
   "outputs": [],
   "source": [
    "balanced_speakers_twice_female = speakers_twice[speakers_twice['gender'] == 'female']"
   ]
  },
  {
   "cell_type": "code",
   "execution_count": 44,
   "metadata": {},
   "outputs": [],
   "source": [
    "balanced_speakers_female = pd.concat([balanced_speakers_once_female,balanced_speakers_twice_female])"
   ]
  },
  {
   "cell_type": "code",
   "execution_count": 45,
   "metadata": {},
   "outputs": [
    {
     "name": "stdout",
     "output_type": "stream",
     "text": [
      "Mean quotes per women before #MeToo 134.00305188199388\n",
      "Mean quotes per women after #MeToo 177.3855544252289\n",
      "Median quotes per women before #MeToo 7.0\n",
      "Median quotes per women after #MeToo 11.0\n"
     ]
    }
   ],
   "source": [
    "print('Mean quotes per women before #MeToo', \n",
    "      balanced_speakers_female[balanced_speakers_female['label'] == 0]['nb_quotes'].mean())\n",
    "print('Mean quotes per women after #MeToo', \n",
    "      balanced_speakers_female[balanced_speakers_female['label'] == 1]['nb_quotes'].mean())\n",
    "print('Median quotes per women before #MeToo',\n",
    "      balanced_speakers_female[balanced_speakers_female['label'] == 0]['nb_quotes'].median())\n",
    "print('Median quotes per women after #MeToo',\n",
    "      balanced_speakers_female[balanced_speakers_female['label'] == 1]['nb_quotes'].median())"
   ]
  },
  {
   "cell_type": "code",
   "execution_count": 46,
   "metadata": {},
   "outputs": [
    {
     "data": {
      "image/png": "[encoded data removed]",
      "text/plain": [
       "<Figure size 432x288 with 1 Axes>"
      ]
     },
     "metadata": {
      "needs_background": "light"
     },
     "output_type": "display_data"
    }
   ],
   "source": [
    "ax = sns.barplot(x=\"label\", y=\"nb_quotes\", data=balanced_speakers_female.loc[balanced_speakers_female['label'].isin([0,1])])\n"
   ]
  },
  {
   "cell_type": "code",
   "execution_count": 47,
   "metadata": {},
   "outputs": [
    {
     "data": {
      "image/png": "[encoded data removed]",
      "text/plain": [
       "<Figure size 432x288 with 1 Axes>"
      ]
     },
     "metadata": {
      "needs_background": "light"
     },
     "output_type": "display_data"
    }
   ],
   "source": [
    "ax = sns.boxplot(x=\"label\", y=\"nb_quotes\", data=balanced_speakers_female.loc[balanced_speakers_female['label'].isin([0,1])])"
   ]
  },
  {
   "cell_type": "code",
   "execution_count": 48,
   "metadata": {},
   "outputs": [],
   "source": [
    "plot_see = balanced_speakers_female[balanced_speakers_female['nb_quotes'] < 100]"
   ]
  },
  {
   "cell_type": "code",
   "execution_count": 49,
   "metadata": {},
   "outputs": [
    {
     "data": {
      "image/png": "[encoded data removed]",
      "text/plain": [
       "<Figure size 432x288 with 1 Axes>"
      ]
     },
     "metadata": {
      "needs_background": "light"
     },
     "output_type": "display_data"
    }
   ],
   "source": [
    "ax = sns.boxplot(x=\"label\", y=\"nb_quotes\", data=plot_see.loc[plot_see['label'].isin([0,1])])"
   ]
  },
  {
   "cell_type": "code",
   "execution_count": null,
   "metadata": {},
   "outputs": [],
   "source": []
  },
  {
   "cell_type": "code",
   "execution_count": null,
   "metadata": {},
   "outputs": [],
   "source": []
  },
  {
   "cell_type": "markdown",
   "metadata": {},
   "source": [
    "## By categories"
   ]
  },
  {
   "cell_type": "markdown",
   "metadata": {},
   "source": [
    "### Scientists (juste les femmes pour l'instant, run pour les hommes)"
   ]
  },
  {
   "cell_type": "code",
   "execution_count": 50,
   "metadata": {},
   "outputs": [],
   "source": [
    "# Separate the treatment and control groups\n",
    "treatment_df = speakers_once_female[speakers_once_female['label'] == 1]\n",
    "control_df = speakers_once_female[speakers_once_female['label'] == 0]\n",
    "\n",
    "# Create an empty undirected graph\n",
    "G = nx.Graph()\n",
    "\n",
    "# Loop through all the pairs of instances\n",
    "for control_id, control_row in control_df.iterrows():\n",
    "    for treatment_id, treatment_row in treatment_df.iterrows():\n",
    "\n",
    "        # Calculate the similarity \n",
    "        # Adds an edge only if the individuals have the same gender\n",
    "        if (control_row['gender'] == treatment_row['gender']) and (control_row['Scientist'] == treatment_row['Scientist']):\n",
    "            similarity = get_similarity(control_row['Propensity_score'],\n",
    "                                    treatment_row['Propensity_score'])\n",
    "\n",
    "        # Add an edge between the two instances weighted by the similarity between them\n",
    "            G.add_weighted_edges_from([(control_id, treatment_id, similarity)])\n",
    "\n",
    "# Generate and return the maximum weight matching on the generated graph\n",
    "matching = nx.max_weight_matching(G)"
   ]
  },
  {
   "cell_type": "code",
   "execution_count": 51,
   "metadata": {},
   "outputs": [],
   "source": [
    "matched = [i[0] for i in list(matching)] + [i[1] for i in list(matching)]"
   ]
  },
  {
   "cell_type": "code",
   "execution_count": 52,
   "metadata": {},
   "outputs": [],
   "source": [
    "balanced_speakers_once = speakers_once_female.loc[matched]"
   ]
  },
  {
   "cell_type": "code",
   "execution_count": 53,
   "metadata": {},
   "outputs": [],
   "source": [
    "balanced_scientist = pd.concat([balanced_speakers_once, speakers_twice[speakers_twice['gender'] == 'female']])"
   ]
  },
  {
   "cell_type": "code",
   "execution_count": 54,
   "metadata": {},
   "outputs": [],
   "source": [
    "non_scientists = balanced_scientist[balanced_scientist['Scientist'] == 0]\n",
    "scientists = balanced_scientist[balanced_scientist['Scientist'] == 1]"
   ]
  },
  {
   "cell_type": "markdown",
   "metadata": {},
   "source": [
    "## Results"
   ]
  },
  {
   "cell_type": "code",
   "execution_count": 55,
   "metadata": {},
   "outputs": [
    {
     "name": "stdout",
     "output_type": "stream",
     "text": [
      "Median quotes of female scientists before: 9.0\n",
      "Median quotes of female scientists after: 11.0\n"
     ]
    }
   ],
   "source": [
    "print('Median quotes of female scientists before:', scientists[scientists['label'] == 0]['nb_quotes'].median())\n",
    "print('Median quotes of female scientists after:', scientists[scientists['label'] == 1]['nb_quotes'].median())"
   ]
  },
  {
   "cell_type": "code",
   "execution_count": 56,
   "metadata": {},
   "outputs": [
    {
     "name": "stdout",
     "output_type": "stream",
     "text": [
      "Median quotes of female non scientists before: 7.0\n",
      "Median quotes of female non scientists after: 12.0\n"
     ]
    }
   ],
   "source": [
    "print('Median quotes of female non scientists before:', non_scientists[non_scientists['label'] == 0]['nb_quotes'].median())\n",
    "print('Median quotes of female non scientists after:', non_scientists[non_scientists['label'] == 1]['nb_quotes'].median())"
   ]
  },
  {
   "cell_type": "code",
   "execution_count": null,
   "metadata": {},
   "outputs": [],
   "source": []
  },
  {
   "cell_type": "code",
   "execution_count": null,
   "metadata": {},
   "outputs": [],
   "source": []
  },
  {
   "cell_type": "code",
   "execution_count": null,
   "metadata": {},
   "outputs": [],
   "source": []
  },
  {
   "cell_type": "code",
   "execution_count": null,
   "metadata": {},
   "outputs": [],
   "source": []
  },
  {
   "cell_type": "code",
   "execution_count": null,
   "metadata": {},
   "outputs": [],
   "source": []
  },
  {
   "cell_type": "markdown",
   "metadata": {},
   "source": [
    "# A checker au moment d'analyser les outcomes: je crois que nb_occurences et nb_quotes sont des heavy tailed distributions! Voir comment on peut les analyser."
   ]
  },
  {
   "cell_type": "code",
   "execution_count": 163,
   "metadata": {},
   "outputs": [
    {
     "data": {
      "text/plain": [
       "count    9.348000e+03\n",
       "mean     1.292966e+03\n",
       "std      3.148327e+04\n",
       "min      1.000000e+00\n",
       "25%      4.000000e+00\n",
       "50%      1.300000e+01\n",
       "75%      7.300000e+01\n",
       "max      2.802297e+06\n",
       "Name: nb_occurrences, dtype: float64"
      ]
     },
     "execution_count": 163,
     "metadata": {},
     "output_type": "execute_result"
    }
   ],
   "source": [
    "data_features['nb_occurrences'].describe()"
   ]
  },
  {
   "cell_type": "code",
   "execution_count": 164,
   "metadata": {},
   "outputs": [
    {
     "data": {
      "text/html": [
       "<div>\n",
       "<style scoped>\n",
       "    .dataframe tbody tr th:only-of-type {\n",
       "        vertical-align: middle;\n",
       "    }\n",
       "\n",
       "    .dataframe tbody tr th {\n",
       "        vertical-align: top;\n",
       "    }\n",
       "\n",
       "    .dataframe thead th {\n",
       "        text-align: right;\n",
       "    }\n",
       "</style>\n",
       "<table border=\"1\" class=\"dataframe\">\n",
       "  <thead>\n",
       "    <tr style=\"text-align: right;\">\n",
       "      <th></th>\n",
       "      <th>qids</th>\n",
       "      <th>label</th>\n",
       "      <th>speaker</th>\n",
       "      <th>gender</th>\n",
       "      <th>nb_quotes</th>\n",
       "      <th>nb_occurrences</th>\n",
       "      <th>age</th>\n",
       "      <th>Activist</th>\n",
       "      <th>Administrative</th>\n",
       "      <th>Artist</th>\n",
       "      <th>...</th>\n",
       "      <th>aggregation</th>\n",
       "      <th>bachelor</th>\n",
       "      <th>candidate</th>\n",
       "      <th>certificate</th>\n",
       "      <th>doctor</th>\n",
       "      <th>high_school_diploma</th>\n",
       "      <th>master</th>\n",
       "      <th>non_specified_degree</th>\n",
       "      <th>not_classified</th>\n",
       "      <th>professor</th>\n",
       "    </tr>\n",
       "  </thead>\n",
       "  <tbody>\n",
       "    <tr>\n",
       "      <th>7939</th>\n",
       "      <td>Q6294</td>\n",
       "      <td>0</td>\n",
       "      <td>Hillary Clinton</td>\n",
       "      <td>female</td>\n",
       "      <td>41261</td>\n",
       "      <td>274275</td>\n",
       "      <td>0.408650</td>\n",
       "      <td>0</td>\n",
       "      <td>0</td>\n",
       "      <td>0</td>\n",
       "      <td>...</td>\n",
       "      <td>0</td>\n",
       "      <td>1</td>\n",
       "      <td>0</td>\n",
       "      <td>0</td>\n",
       "      <td>1</td>\n",
       "      <td>0</td>\n",
       "      <td>0</td>\n",
       "      <td>0</td>\n",
       "      <td>0</td>\n",
       "      <td>0</td>\n",
       "    </tr>\n",
       "    <tr>\n",
       "      <th>7940</th>\n",
       "      <td>Q6294</td>\n",
       "      <td>1</td>\n",
       "      <td>Hillary Clinton</td>\n",
       "      <td>female</td>\n",
       "      <td>11137</td>\n",
       "      <td>60926</td>\n",
       "      <td>0.530135</td>\n",
       "      <td>0</td>\n",
       "      <td>0</td>\n",
       "      <td>0</td>\n",
       "      <td>...</td>\n",
       "      <td>0</td>\n",
       "      <td>1</td>\n",
       "      <td>0</td>\n",
       "      <td>0</td>\n",
       "      <td>1</td>\n",
       "      <td>0</td>\n",
       "      <td>0</td>\n",
       "      <td>0</td>\n",
       "      <td>0</td>\n",
       "      <td>0</td>\n",
       "    </tr>\n",
       "  </tbody>\n",
       "</table>\n",
       "<p>2 rows × 58 columns</p>\n",
       "</div>"
      ],
      "text/plain": [
       "       qids  label          speaker  gender  nb_quotes  nb_occurrences  \\\n",
       "7939  Q6294      0  Hillary Clinton  female      41261          274275   \n",
       "7940  Q6294      1  Hillary Clinton  female      11137           60926   \n",
       "\n",
       "           age  Activist  Administrative  Artist  ...  aggregation  bachelor  \\\n",
       "7939  0.408650         0               0       0  ...            0         1   \n",
       "7940  0.530135         0               0       0  ...            0         1   \n",
       "\n",
       "      candidate  certificate  doctor  high_school_diploma  master  \\\n",
       "7939          0            0       1                    0       0   \n",
       "7940          0            0       1                    0       0   \n",
       "\n",
       "      non_specified_degree  not_classified  professor  \n",
       "7939                     0               0          0  \n",
       "7940                     0               0          0  \n",
       "\n",
       "[2 rows x 58 columns]"
      ]
     },
     "execution_count": 164,
     "metadata": {},
     "output_type": "execute_result"
    }
   ],
   "source": [
    "data_features[data_features['qids'] == 'Q6294']"
   ]
  },
  {
   "cell_type": "markdown",
   "metadata": {},
   "source": [
    "Hillary Clinton a 274275 citations avant #MeToo. Seulement 60926 après (du aux éléctions)."
   ]
  },
  {
   "cell_type": "code",
   "execution_count": null,
   "metadata": {},
   "outputs": [],
   "source": []
  },
  {
   "cell_type": "code",
   "execution_count": null,
   "metadata": {},
   "outputs": [],
   "source": []
  },
  {
   "cell_type": "code",
   "execution_count": null,
   "metadata": {},
   "outputs": [],
   "source": []
  },
  {
   "cell_type": "code",
   "execution_count": null,
   "metadata": {},
   "outputs": [],
   "source": []
  },
  {
   "cell_type": "code",
   "execution_count": null,
   "metadata": {},
   "outputs": [],
   "source": []
  },
  {
   "cell_type": "code",
   "execution_count": null,
   "metadata": {},
   "outputs": [],
   "source": []
  },
  {
   "cell_type": "code",
   "execution_count": null,
   "metadata": {},
   "outputs": [],
   "source": []
  },
  {
   "cell_type": "code",
   "execution_count": null,
   "metadata": {},
   "outputs": [],
   "source": []
  }
 ],
 "metadata": {
  "kernelspec": {
   "display_name": "Python 3 (ipykernel)",
   "language": "python",
   "name": "python3"
  },
  "language_info": {
   "codemirror_mode": {
    "name": "ipython",
    "version": 3
   },
   "file_extension": ".py",
   "mimetype": "text/x-python",
   "name": "python",
   "nbconvert_exporter": "python",
   "pygments_lexer": "ipython3",
   "version": "3.8.11"
  }
 },
 "nbformat": 4,
 "nbformat_minor": 4
}
