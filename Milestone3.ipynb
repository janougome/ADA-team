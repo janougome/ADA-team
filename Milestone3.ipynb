{
 "cells": [
  {
   "cell_type": "code",
   "execution_count": 24,
   "metadata": {},
   "outputs": [],
   "source": [
    "import pandas as pd\n",
    "import bz2\n",
    "import json\n",
    "import seaborn as sns\n",
    "import matplotlib.pyplot as plt\n",
    "import numpy as np\n",
    "from utils import quotes_by_gender, unique_speaker_per_gender, get_champlex\n",
    "from collections import Counter\n",
    "import math\n",
    "from sklearn.preprocessing import MultiLabelBinarizer"
   ]
  },
  {
   "cell_type": "code",
   "execution_count": 25,
   "metadata": {},
   "outputs": [],
   "source": [
    "DATA_FOLDER = 'data/'\n",
    "QUOTES_DATA = DATA_FOLDER + 'data_observational.json.bz2'"
   ]
  },
  {
   "cell_type": "code",
   "execution_count": 26,
   "metadata": {},
   "outputs": [],
   "source": [
    "quotes = pd.read_json(QUOTES_DATA)"
   ]
  },
  {
   "cell_type": "code",
   "execution_count": 27,
   "metadata": {},
   "outputs": [],
   "source": [
    "#quotes"
   ]
  },
  {
   "cell_type": "code",
   "execution_count": 5,
   "metadata": {},
   "outputs": [],
   "source": [
    "#Transform all speakers to lower cases\n",
    "quotes['speaker'] = quotes['speaker'].str.lower()"
   ]
  },
  {
   "cell_type": "code",
   "execution_count": null,
   "metadata": {},
   "outputs": [],
   "source": []
  },
  {
   "cell_type": "code",
   "execution_count": 29,
   "metadata": {},
   "outputs": [
    {
     "data": {
      "text/plain": [
       "307122"
      ]
     },
     "execution_count": 29,
     "metadata": {},
     "output_type": "execute_result"
    }
   ],
   "source": [
    "#Keep only female speakers\n",
    "quotes_females = quotes.drop(quotes[quotes['gender'] != 'female'].index)\n",
    "quotes_females.reset_index(drop = True, inplace = True)\n",
    "quotes_females.shape[0]"
   ]
  },
  {
   "cell_type": "code",
   "execution_count": 35,
   "metadata": {},
   "outputs": [],
   "source": [
    "females_avant = quotes_females[quotes_females['label'] == 0]\n",
    "females_apres = quotes_females[quotes_females['label'] == 1]"
   ]
  },
  {
   "cell_type": "code",
   "execution_count": 36,
   "metadata": {},
   "outputs": [],
   "source": [
    "#Groupby speakers\n",
    "grouped_females_avant = females_avant.groupby(females_avant.speaker)['numOccurrences'].count().reset_index(name='count') \\\n",
    "            .sort_values(['count'], ascending=False)"
   ]
  },
  {
   "cell_type": "code",
   "execution_count": 37,
   "metadata": {},
   "outputs": [],
   "source": [
    "#Groupby speakers\n",
    "grouped_females_apres = females_apres.groupby(females_apres.speaker)['numOccurrences'].count().reset_index(name='count') \\\n",
    "            .sort_values(['count'], ascending=False)"
   ]
  },
  {
   "cell_type": "code",
   "execution_count": 38,
   "metadata": {},
   "outputs": [
    {
     "data": {
      "text/plain": [
       "1180"
      ]
     },
     "execution_count": 38,
     "metadata": {},
     "output_type": "execute_result"
    }
   ],
   "source": [
    "grouped_females_avant.shape[0]"
   ]
  },
  {
   "cell_type": "code",
   "execution_count": 39,
   "metadata": {},
   "outputs": [
    {
     "data": {
      "text/plain": [
       "1225"
      ]
     },
     "execution_count": 39,
     "metadata": {},
     "output_type": "execute_result"
    }
   ],
   "source": [
    "grouped_females_apres.shape[0]"
   ]
  },
  {
   "cell_type": "code",
   "execution_count": 41,
   "metadata": {},
   "outputs": [],
   "source": [
    "quotes_males = quotes[quotes['gender'] == 'male']\n"
   ]
  },
  {
   "cell_type": "code",
   "execution_count": 43,
   "metadata": {},
   "outputs": [],
   "source": [
    "chunk1 = quotes_males[0:333333]\n",
    "chunk2 = quotes_males[333334:666666]\n",
    "chunk3 = quotes_males[666667:1000000]\n",
    "chunk4 = quotes_males[1000001:1333333]\n",
    "chunk5 = quotes_males[1333333:]"
   ]
  },
  {
   "cell_type": "code",
   "execution_count": 45,
   "metadata": {},
   "outputs": [
    {
     "name": "stderr",
     "output_type": "stream",
     "text": [
      "/var/folders/n_/84v0r2b53yx61w33v8clz5500000gp/T/ipykernel_5844/1778519912.py:3: FutureWarning: Using the level keyword in DataFrame and Series aggregations is deprecated and will be removed in a future version. Use groupby instead. df.sum(level=1) should use df.groupby(level=1).sum().\n",
      "  dummies_occ = pd.get_dummies(chunk['occupation'].explode()).sum(level=0)\n"
     ]
    }
   ],
   "source": [
    "occupations_males = []\n",
    "for chunk in [chunk1, chunk2, chunk3, chunk4, chunk5]:\n",
    "    dummies_occ = pd.get_dummies(chunk['occupation'].explode()).sum(level=0)\n",
    "    occupations_males.append(dummies_occ.columns.to_list())"
   ]
  },
  {
   "cell_type": "code",
   "execution_count": null,
   "metadata": {},
   "outputs": [],
   "source": []
  },
  {
   "cell_type": "code",
   "execution_count": 46,
   "metadata": {},
   "outputs": [
    {
     "name": "stderr",
     "output_type": "stream",
     "text": [
      "/var/folders/n_/84v0r2b53yx61w33v8clz5500000gp/T/ipykernel_5844/3975266607.py:1: FutureWarning: Using the level keyword in DataFrame and Series aggregations is deprecated and will be removed in a future version. Use groupby instead. df.sum(level=1) should use df.groupby(level=1).sum().\n",
      "  dummies_occ_females = pd.get_dummies(quotes_females['occupation'].explode()).sum(level=0)\n"
     ]
    }
   ],
   "source": [
    "dummies_occ_females = pd.get_dummies(quotes_females['occupation'].explode()).sum(level=0)"
   ]
  },
  {
   "cell_type": "code",
   "execution_count": 47,
   "metadata": {},
   "outputs": [],
   "source": [
    "occupations_females = dummies_occ_females.columns.to_list()"
   ]
  },
  {
   "cell_type": "code",
   "execution_count": 48,
   "metadata": {},
   "outputs": [],
   "source": [
    "all_occupations_males = []\n",
    "for l in occupations_males:\n",
    "    all_occupations_males = all_occupations_males + l\n",
    "\n",
    "all_occupations = all_occupations_males + occupations_females\n",
    "all_occupations_without_duplicates = list(set(all_occupations))"
   ]
  },
  {
   "cell_type": "code",
   "execution_count": 50,
   "metadata": {},
   "outputs": [
    {
     "data": {
      "text/plain": [
       "958"
      ]
     },
     "execution_count": 50,
     "metadata": {},
     "output_type": "execute_result"
    }
   ],
   "source": [
    "len(all_occupations_without_duplicates)"
   ]
  },
  {
   "cell_type": "code",
   "execution_count": 51,
   "metadata": {},
   "outputs": [],
   "source": [
    "textfile = open(\"all_occupations_file.txt\", \"w\")\n",
    "for element in all_occupations_without_duplicates:\n",
    "    textfile.write(element + \"\\n\")\n",
    "textfile.close()"
   ]
  },
  {
   "cell_type": "code",
   "execution_count": 57,
   "metadata": {},
   "outputs": [
    {
     "name": "stderr",
     "output_type": "stream",
     "text": [
      "/var/folders/n_/84v0r2b53yx61w33v8clz5500000gp/T/ipykernel_5844/333431356.py:3: FutureWarning: Using the level keyword in DataFrame and Series aggregations is deprecated and will be removed in a future version. Use groupby instead. df.sum(level=1) should use df.groupby(level=1).sum().\n",
      "  dummies_academic = pd.get_dummies(chunk['academic_degree'].explode()).sum(level=0)\n"
     ]
    }
   ],
   "source": [
    "academic_degree_males = []\n",
    "for chunk in [chunk1, chunk2, chunk3, chunk4, chunk5]:\n",
    "    dummies_academic = pd.get_dummies(chunk['academic_degree'].explode()).sum(level=0)\n",
    "    academic_degree_males.append(dummies_academic.columns.to_list())"
   ]
  },
  {
   "cell_type": "code",
   "execution_count": 58,
   "metadata": {},
   "outputs": [
    {
     "name": "stderr",
     "output_type": "stream",
     "text": [
      "/var/folders/n_/84v0r2b53yx61w33v8clz5500000gp/T/ipykernel_5844/1796012728.py:1: FutureWarning: Using the level keyword in DataFrame and Series aggregations is deprecated and will be removed in a future version. Use groupby instead. df.sum(level=1) should use df.groupby(level=1).sum().\n",
      "  dummies_academic_degree = pd.get_dummies(quotes_females['academic_degree'].explode()).sum(level = 0)\n"
     ]
    }
   ],
   "source": [
    "dummies_academic_degree = pd.get_dummies(quotes_females['academic_degree'].explode()).sum(level = 0)"
   ]
  },
  {
   "cell_type": "code",
   "execution_count": 59,
   "metadata": {},
   "outputs": [],
   "source": [
    "academic_degree_females = dummies_academic_degree.columns.to_list()"
   ]
  },
  {
   "cell_type": "code",
   "execution_count": 60,
   "metadata": {},
   "outputs": [],
   "source": [
    "all_academic_males = []\n",
    "for l in academic_degree_males:\n",
    "    all_academic_males = all_academic_males + l\n",
    "\n",
    "all_academic = all_academic_males + academic_degree_females\n",
    "all_academic_without_duplicates = list(set(all_academic))"
   ]
  },
  {
   "cell_type": "code",
   "execution_count": 63,
   "metadata": {},
   "outputs": [],
   "source": [
    "textfile = open(\"all_academic_file.txt\", \"w\")\n",
    "for element in all_academic_without_duplicates:\n",
    "    textfile.write(element + \"\\n\")\n",
    "textfile.close()"
   ]
  },
  {
   "cell_type": "code",
   "execution_count": null,
   "metadata": {},
   "outputs": [],
   "source": [
    "#dummies_gender = pd.get_dummies(quotes['gender'])"
   ]
  },
  {
   "cell_type": "code",
   "execution_count": 13,
   "metadata": {},
   "outputs": [
    {
     "name": "stderr",
     "output_type": "stream",
     "text": [
      "/var/folders/n_/84v0r2b53yx61w33v8clz5500000gp/T/ipykernel_5844/3444282521.py:1: FutureWarning: Using the level keyword in DataFrame and Series aggregations is deprecated and will be removed in a future version. Use groupby instead. df.sum(level=1) should use df.groupby(level=1).sum().\n",
      "  dummies_academic_degree = pd.get_dummies(quotes['academic_degree'].explode()).sum(level = 0)\n"
     ]
    }
   ],
   "source": [
    "dummies_academic_degree = pd.get_dummies(quotes_females['academic_degree'].explode()).sum(level = 0)"
   ]
  },
  {
   "cell_type": "code",
   "execution_count": 22,
   "metadata": {},
   "outputs": [],
   "source": [
    "academic_degree = dummies_academic_degree.columns.to_list()"
   ]
  },
  {
   "cell_type": "code",
   "execution_count": 20,
   "metadata": {},
   "outputs": [],
   "source": []
  },
  {
   "cell_type": "code",
   "execution_count": 21,
   "metadata": {},
   "outputs": [],
   "source": [
    "textfile = open(\"occupation_file.txt\", \"w\")\n",
    "for element in occupations:\n",
    "    textfile.write(element + \"\\n\")\n",
    "textfile.close()"
   ]
  },
  {
   "cell_type": "code",
   "execution_count": 23,
   "metadata": {},
   "outputs": [],
   "source": [
    "textfile = open(\"academic_degree_file.txt\", \"w\")\n",
    "for element in academic_degree:\n",
    "    textfile.write(element + \"\\n\")\n",
    "textfile.close()"
   ]
  },
  {
   "cell_type": "code",
   "execution_count": null,
   "metadata": {},
   "outputs": [],
   "source": []
  }
 ],
 "metadata": {
  "kernelspec": {
   "display_name": "Python 3 (ipykernel)",
   "language": "python",
   "name": "python3"
  },
  "language_info": {
   "codemirror_mode": {
    "name": "ipython",
    "version": 3
   },
   "file_extension": ".py",
   "mimetype": "text/x-python",
   "name": "python",
   "nbconvert_exporter": "python",
   "pygments_lexer": "ipython3",
   "version": "3.8.11"
  }
 },
 "nbformat": 4,
 "nbformat_minor": 4
}
