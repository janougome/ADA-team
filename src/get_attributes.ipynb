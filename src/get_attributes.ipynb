{
 "cells": [
  {
   "cell_type": "code",
   "execution_count": 1,
   "id": "3f0c4aaa",
   "metadata": {},
   "outputs": [],
   "source": [
    "#Imports\n",
    "import pandas as pd\n",
    "import bz2\n",
    "import json\n",
    "import math\n",
    "import datetime"
   ]
  },
  {
   "cell_type": "code",
   "execution_count": 2,
   "id": "1b520e2e",
   "metadata": {},
   "outputs": [],
   "source": [
    "#Datasets\n",
    "DATA_FOLDER = '../data/'\n",
    "SPEAKER_ATTRIBUTES_DATA = DATA_FOLDER+\"speaker_attributes.parquet\"\n",
    "WIKIDATA_LABELS = DATA_FOLDER + \"wikidata_labels_descriptions_quotebank.csv.bz2\""
   ]
  },
  {
   "cell_type": "code",
   "execution_count": 3,
   "id": "256b80ab",
   "metadata": {},
   "outputs": [],
   "source": [
    "#Read the wikilabels dataframe\n",
    "wiki_labels = pd.read_csv(WIKIDATA_LABELS, compression='bz2', index_col='QID')"
   ]
  },
  {
   "cell_type": "code",
   "execution_count": 4,
   "id": "5a916fce",
   "metadata": {},
   "outputs": [],
   "source": [
    "#Read the attribute dataframe\n",
    "attributes = pd.read_parquet(SPEAKER_ATTRIBUTES_DATA)"
   ]
  },
  {
   "cell_type": "code",
   "execution_count": 5,
   "id": "bf7bc04d",
   "metadata": {},
   "outputs": [],
   "source": [
    "#Keep only what is of interest in the attributes\n",
    "attributes = attributes.get(['gender','date_of_birth','occupation','id', 'ethnic_group', 'academic_degree', 'religion'])\n",
    "attributes.rename(columns={'id':'qids'}, inplace=True)"
   ]
  },
  {
   "cell_type": "markdown",
   "id": "dde6ae5f",
   "metadata": {},
   "source": [
    "## TODO: \n",
    "Documenter ces fonctions et les mettres dans un fichier .py séparé."
   ]
  },
  {
   "cell_type": "code",
   "execution_count": 12,
   "id": "9e975cb7",
   "metadata": {},
   "outputs": [],
   "source": [
    "def merge_chunk_attributes(chunk):\n",
    "        #Keep only the first qids\n",
    "        chunk['qids'] = chunk['qids'].apply(lambda x: x[0])\n",
    "        #Merge the chunk with the parquet file\n",
    "        chunk_merged = chunk.merge(attributes)\n",
    "        return chunk_merged\n",
    "        \n",
    "def filter_gender(chunk):\n",
    "        #Drop rows with None as gender\n",
    "        chunk.dropna(axis = 0, subset = ['gender'], inplace = True)\n",
    "        #Keep only the first gender in the list \n",
    "        chunk['gender'] = chunk['gender'].apply(lambda x: x[0])\n",
    "        return chunk\n",
    "    \n",
    "def match_code_label(code):\n",
    "    if code == None:\n",
    "        return None\n",
    "    \n",
    "    if code in wiki_labels.index:\n",
    "        return wiki_labels.loc[code]['Label']\n",
    "    else:\n",
    "        return None\n",
    "\n",
    "def render_info_readable(chunk):\n",
    "    for col in ['gender', 'occupation', 'ethnic_group', 'academic_degree', 'religion']:\n",
    "        chunk[col] = chunk[col].apply(lambda x: [match_code_label(i) for i in x] if (x is not None) else (None))   \n",
    "    return chunk\n",
    "    \n",
    "def get_age(chunk, actual_year):\n",
    "    chunk.dropna(axis = 0, subset = ['date_of_birth'], inplace = True)\n",
    "    chunk['date_of_birth'] = chunk['date_of_birth'].apply(lambda x: x[0]) \n",
    "    chunk['date_of_birth'] = chunk['date_of_birth'].apply(lambda x: int(actual_year - float(x[1:5]))) \n",
    "    chunk.rename(columns={\"date_of_birth\": \"age\"}, inplace = True)\n",
    "    return chunk\n",
    "\n",
    "def create_sample_from_year(year):\n",
    "    sample = []\n",
    "    for k in range(3):\n",
    "        df_chunk = pd.read_json(DATA_FOLDER + f'chunk-{str(k+1)}-{str(year)}.json.bz2')\n",
    "        sample.append(df_chunk.sample(math.floor(100000/3)))\n",
    "    df_sample = pd.concat(sample, ignore_index=True)\n",
    "    df_sample.to_json(DATA_FOLDER + f'sample-{str(year)}.json.bz2')\n",
    "    \n",
    "          \n",
    "def preprocess_data(year):\n",
    "    DATA_TO_PROCESS = DATA_FOLDER + f'quotes-{str(year)}-reduced.json.bz2'\n",
    "    i = 0\n",
    "    with pd.read_json(DATA_TO_PROCESS, lines=True, compression='bz2', chunksize=1000000) as df_reader:\n",
    "        for chunk in df_reader:\n",
    "            i +=1\n",
    "            chunk_merged = merge_chunk_attributes(chunk)\n",
    "            chunk_readable = render_info_readable(chunk_merged)\n",
    "            chunk_filtered = filter_gender(chunk_readable)\n",
    "            chunk_aged = get_age(chunk_filtered, year)\n",
    "            chunk_aged.drop(columns = ['date'], inplace = True)\n",
    "            chunk_aged.to_json(DATA_FOLDER + f'chunk-{str(i)}-{str(year)}.json.bz2')"
   ]
  },
  {
   "cell_type": "code",
   "execution_count": 13,
   "id": "bf50a962",
   "metadata": {},
   "outputs": [],
   "source": [
    "year = 2017"
   ]
  },
  {
   "cell_type": "code",
   "execution_count": 14,
   "id": "c4cee63e",
   "metadata": {},
   "outputs": [],
   "source": [
    "preprocess_data(year)"
   ]
  },
  {
   "cell_type": "code",
   "execution_count": 15,
   "id": "10e61276",
   "metadata": {},
   "outputs": [],
   "source": [
    "create_sample_from_year(year)"
   ]
  },
  {
   "cell_type": "code",
   "execution_count": 16,
   "id": "b5c4f258",
   "metadata": {},
   "outputs": [],
   "source": [
    "new_sample = pd.read_json(DATA_FOLDER + f'sample-{str(year)}-after.json.bz2')"
   ]
  },
  {
   "cell_type": "code",
   "execution_count": 17,
   "id": "de0603b0",
   "metadata": {},
   "outputs": [
    {
     "data": {
      "text/html": [
       "<div>\n",
       "<style scoped>\n",
       "    .dataframe tbody tr th:only-of-type {\n",
       "        vertical-align: middle;\n",
       "    }\n",
       "\n",
       "    .dataframe tbody tr th {\n",
       "        vertical-align: top;\n",
       "    }\n",
       "\n",
       "    .dataframe thead th {\n",
       "        text-align: right;\n",
       "    }\n",
       "</style>\n",
       "<table border=\"1\" class=\"dataframe\">\n",
       "  <thead>\n",
       "    <tr style=\"text-align: right;\">\n",
       "      <th></th>\n",
       "      <th>quotation</th>\n",
       "      <th>speaker</th>\n",
       "      <th>qids</th>\n",
       "      <th>numOccurrences</th>\n",
       "      <th>gender</th>\n",
       "      <th>age</th>\n",
       "      <th>occupation</th>\n",
       "      <th>ethnic_group</th>\n",
       "      <th>academic_degree</th>\n",
       "      <th>religion</th>\n",
       "    </tr>\n",
       "  </thead>\n",
       "  <tbody>\n",
       "    <tr>\n",
       "      <th>0</th>\n",
       "      <td>Then I was invited by South Korea's answer to ...</td>\n",
       "      <td>Fraser Doherty</td>\n",
       "      <td>Q5493588</td>\n",
       "      <td>1</td>\n",
       "      <td>male</td>\n",
       "      <td>29</td>\n",
       "      <td>[businessperson]</td>\n",
       "      <td>None</td>\n",
       "      <td>None</td>\n",
       "      <td>None</td>\n",
       "    </tr>\n",
       "    <tr>\n",
       "      <th>1</th>\n",
       "      <td>It was a different moment of my career, a diff...</td>\n",
       "      <td>Massimo Donati</td>\n",
       "      <td>Q2067393</td>\n",
       "      <td>4</td>\n",
       "      <td>male</td>\n",
       "      <td>50</td>\n",
       "      <td>[sport cyclist]</td>\n",
       "      <td>None</td>\n",
       "      <td>None</td>\n",
       "      <td>None</td>\n",
       "    </tr>\n",
       "    <tr>\n",
       "      <th>2</th>\n",
       "      <td>David Lloyd George -- he was Prime Minister of...</td>\n",
       "      <td>Ralph Keyes</td>\n",
       "      <td>Q3418271</td>\n",
       "      <td>4</td>\n",
       "      <td>male</td>\n",
       "      <td>56</td>\n",
       "      <td>[rugby union player, pundit]</td>\n",
       "      <td>None</td>\n",
       "      <td>None</td>\n",
       "      <td>None</td>\n",
       "    </tr>\n",
       "    <tr>\n",
       "      <th>3</th>\n",
       "      <td>I actually wanted to be a wedding singer,</td>\n",
       "      <td>Jennifer Hyman</td>\n",
       "      <td>Q6178460</td>\n",
       "      <td>3</td>\n",
       "      <td>female</td>\n",
       "      <td>37</td>\n",
       "      <td>[entrepreneur]</td>\n",
       "      <td>None</td>\n",
       "      <td>None</td>\n",
       "      <td>None</td>\n",
       "    </tr>\n",
       "    <tr>\n",
       "      <th>4</th>\n",
       "      <td>We are and will remain a leading writer of cat...</td>\n",
       "      <td>Mike McGavick</td>\n",
       "      <td>Q6847922</td>\n",
       "      <td>1</td>\n",
       "      <td>male</td>\n",
       "      <td>59</td>\n",
       "      <td>[businessperson]</td>\n",
       "      <td>None</td>\n",
       "      <td>None</td>\n",
       "      <td>None</td>\n",
       "    </tr>\n",
       "  </tbody>\n",
       "</table>\n",
       "</div>"
      ],
      "text/plain": [
       "                                           quotation         speaker  \\\n",
       "0  Then I was invited by South Korea's answer to ...  Fraser Doherty   \n",
       "1  It was a different moment of my career, a diff...  Massimo Donati   \n",
       "2  David Lloyd George -- he was Prime Minister of...     Ralph Keyes   \n",
       "3          I actually wanted to be a wedding singer,  Jennifer Hyman   \n",
       "4  We are and will remain a leading writer of cat...   Mike McGavick   \n",
       "\n",
       "       qids  numOccurrences  gender  age                    occupation  \\\n",
       "0  Q5493588               1    male   29              [businessperson]   \n",
       "1  Q2067393               4    male   50               [sport cyclist]   \n",
       "2  Q3418271               4    male   56  [rugby union player, pundit]   \n",
       "3  Q6178460               3  female   37                [entrepreneur]   \n",
       "4  Q6847922               1    male   59              [businessperson]   \n",
       "\n",
       "  ethnic_group academic_degree religion  \n",
       "0         None            None     None  \n",
       "1         None            None     None  \n",
       "2         None            None     None  \n",
       "3         None            None     None  \n",
       "4         None            None     None  "
      ]
     },
     "execution_count": 17,
     "metadata": {},
     "output_type": "execute_result"
    }
   ],
   "source": [
    "new_sample.head()"
   ]
  },
  {
   "cell_type": "code",
   "execution_count": null,
   "id": "8c3d4c3f",
   "metadata": {},
   "outputs": [],
   "source": []
  }
 ],
 "metadata": {
  "kernelspec": {
   "display_name": "Python [conda env:ada] *",
   "language": "python",
   "name": "conda-env-ada-py"
  },
  "language_info": {
   "codemirror_mode": {
    "name": "ipython",
    "version": 3
   },
   "file_extension": ".py",
   "mimetype": "text/x-python",
   "name": "python",
   "nbconvert_exporter": "python",
   "pygments_lexer": "ipython3",
   "version": "3.8.11"
  }
 },
 "nbformat": 4,
 "nbformat_minor": 5
}
