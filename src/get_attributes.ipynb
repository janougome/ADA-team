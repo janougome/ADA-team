{
 "cells": [
  {
   "cell_type": "code",
   "execution_count": 1,
   "id": "3f0c4aaa",
   "metadata": {},
   "outputs": [],
   "source": [
    "#Imports\n",
    "import pandas as pd\n",
    "import bz2\n",
    "import json\n",
    "import math\n",
    "import datetime"
   ]
  },
  {
   "cell_type": "code",
   "execution_count": 2,
   "id": "1b520e2e",
   "metadata": {},
   "outputs": [],
   "source": [
    "#Datasets\n",
    "DATA_FOLDER = '../data/'\n",
    "SPEAKER_ATTRIBUTES_DATA = DATA_FOLDER+\"speaker_attributes.parquet\"\n",
    "WIKIDATA_LABELS = DATA_FOLDER + \"wikidata_labels_descriptions_quotebank.csv.bz2\""
   ]
  },
  {
   "cell_type": "code",
   "execution_count": 3,
   "id": "256b80ab",
   "metadata": {},
   "outputs": [],
   "source": [
    "#Read the wikilabels dataframe\n",
    "wiki_labels = pd.read_csv(WIKIDATA_LABELS, compression='bz2', index_col='QID')"
   ]
  },
  {
   "cell_type": "code",
   "execution_count": 5,
   "id": "5a916fce",
   "metadata": {},
   "outputs": [],
   "source": [
    "#Read the attribute dataframe\n",
    "attributes = pd.read_parquet(SPEAKER_ATTRIBUTES_DATA)"
   ]
  },
  {
   "cell_type": "code",
   "execution_count": 6,
   "id": "bf7bc04d",
   "metadata": {},
   "outputs": [],
   "source": [
    "#Keep only what is of interest in the attributes\n",
    "attributes = attributes.get(['gender','date_of_birth','occupation','id', 'ethnic_group', 'academic_degree', 'religion'])\n",
    "attributes.rename(columns={'id':'qids'}, inplace=True)"
   ]
  },
  {
   "cell_type": "markdown",
   "id": "dde6ae5f",
   "metadata": {},
   "source": [
    "## TODO: \n",
    "Documenter ces fonctions et les mettres dans un fichier .py séparé."
   ]
  },
  {
   "cell_type": "code",
   "execution_count": 7,
   "id": "9e975cb7",
   "metadata": {},
   "outputs": [],
   "source": [
    "def merge_chunk_attributes(chunk):\n",
    "        #Keep only the first qids\n",
    "        chunk['qids'] = chunk['qids'].apply(lambda x: x[0])\n",
    "        #Merge the chunk with the parquet file\n",
    "        chunk_merged = chunk.merge(attributes)\n",
    "        return chunk_merged\n",
    "        \n",
    "def filter_gender(chunk):\n",
    "        #Drop rows with None as gender\n",
    "        chunk.dropna(axis = 0, subset = ['gender'], inplace = True)\n",
    "        #Keep only the first gender in the list \n",
    "        chunk['gender'] = chunk['gender'].apply(lambda x: x[0])\n",
    "        return chunk\n",
    "    \n",
    "def match_code_label(code):\n",
    "    if code == None:\n",
    "        return None\n",
    "    \n",
    "    if code in wiki_labels.index:\n",
    "        return wiki_labels.loc[code]['Label']\n",
    "    else:\n",
    "        return None\n",
    "\n",
    "def render_info_readable(chunk):\n",
    "    for col in ['gender', 'occupation', 'ethnic_group', 'academic_degree', 'religion']:\n",
    "        chunk[col] = chunk[col].apply(lambda x: [match_code_label(i) for i in x] if (x is not None) else (None))   \n",
    "    return chunk\n",
    "    \n",
    "def get_age(chunk, actual_year):\n",
    "    chunk.dropna(axis = 0, subset = ['date_of_birth'], inplace = True)\n",
    "    chunk['date_of_birth'] = chunk['date_of_birth'].apply(lambda x: x[0]) \n",
    "    chunk['date_of_birth'] = chunk['date_of_birth'].apply(lambda x: int(actual_year - float(x[1:5]))) \n",
    "    chunk.rename(columns={\"date_of_birth\": \"age\"}, inplace = True)\n",
    "    return chunk\n",
    "\n",
    "def create_sample_from_year(year):\n",
    "    sample = []\n",
    "    for k in range(3):\n",
    "        df_chunk = pd.read_json(DATA_FOLDER + f'chunk-{str(k+1)}-{str(year)}.json.bz2')\n",
    "        sample.append(df_chunk.sample(math.floor(100000/3)))\n",
    "    df_sample = pd.concat(sample, ignore_index=True)\n",
    "    df_sample.to_json(DATA_FOLDER + f'sample-{str(year)}.json.bz2')\n",
    "          \n",
    "def preprocess_data(year):\n",
    "    DATA_TO_PROCESS = DATA_FOLDER + f'quotes-{str(year)}-reduced.json.bz2'\n",
    "    i = 0\n",
    "    with pd.read_json(DATA_TO_PROCESS, lines=True, compression='bz2', chunksize=1000000) as df_reader:\n",
    "        for chunk in df_reader:\n",
    "            i +=1\n",
    "            chunk_merged = merge_chunk_attributes(chunk)\n",
    "            chunk_readable = render_info_readable(chunk_merged)\n",
    "            chunk_filtered = filter_gender(chunk_readable)\n",
    "            chunk_aged = get_age(chunk_filtered, year)\n",
    "            chunk_filtered.to_json(DATA_FOLDER + f'chunk-{str(i)}-{str(year)}.json.bz2')"
   ]
  },
  {
   "cell_type": "code",
   "execution_count": null,
   "id": "bf50a962",
   "metadata": {},
   "outputs": [],
   "source": [
    "year = 2015"
   ]
  },
  {
   "cell_type": "code",
   "execution_count": null,
   "id": "c4cee63e",
   "metadata": {},
   "outputs": [],
   "source": [
    "preprocess_data(year)"
   ]
  },
  {
   "cell_type": "code",
   "execution_count": null,
   "id": "10e61276",
   "metadata": {},
   "outputs": [],
   "source": [
    "create_sample_from_year(year)"
   ]
  },
  {
   "cell_type": "code",
   "execution_count": null,
   "id": "b5c4f258",
   "metadata": {},
   "outputs": [],
   "source": [
    "new_sample = pd.read_json(DATA_FOLDER + f'sample-{str(year)}.json.bz2')"
   ]
  },
  {
   "cell_type": "code",
   "execution_count": null,
   "id": "de0603b0",
   "metadata": {},
   "outputs": [],
   "source": [
    "new_sample.head()"
   ]
  }
 ],
 "metadata": {
  "kernelspec": {
   "display_name": "Python [conda env:ada] *",
   "language": "python",
   "name": "conda-env-ada-py"
  },
  "language_info": {
   "codemirror_mode": {
    "name": "ipython",
    "version": 3
   },
   "file_extension": ".py",
   "mimetype": "text/x-python",
   "name": "python",
   "nbconvert_exporter": "python",
   "pygments_lexer": "ipython3",
   "version": "3.8.11"
  }
 },
 "nbformat": 4,
 "nbformat_minor": 5
}
