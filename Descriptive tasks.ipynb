{
 "cells": [
  {
   "cell_type": "markdown",
   "id": "d01869d9",
   "metadata": {},
   "source": [
    "**IMPORTS**"
   ]
  },
  {
   "cell_type": "code",
   "execution_count": 1,
   "id": "6e482427",
   "metadata": {},
   "outputs": [],
   "source": [
    "import pandas as pd\n",
    "import bz2\n",
    "import json\n",
    "import seaborn as sns\n",
    "import matplotlib.pyplot as plt\n",
    "import numpy as np\n",
    "from collections import Counter"
   ]
  },
  {
   "cell_type": "markdown",
   "id": "f26b9137",
   "metadata": {},
   "source": [
    "**DATASETS**"
   ]
  },
  {
   "cell_type": "code",
   "execution_count": 2,
   "id": "9bcb3fc6",
   "metadata": {},
   "outputs": [],
   "source": [
    "DATA_FOLDER = 'data/'\n",
    "SPEAKER_ATTRIBUTES_DATA = DATA_FOLDER+\"speaker_attributes.parquet\"\n",
    "\n",
    "KNOWN_SPEAKER = DATA_FOLDER+\"100000_knownspeakers_2019\"\n",
    "KNOWN_SPEAKER_DATA = KNOWN_SPEAKER+\".json.bz2\"\n",
    "RETURN_FILE_DATA = KNOWN_SPEAKER+\"_with_attributes.json.bz2\""
   ]
  },
  {
   "cell_type": "markdown",
   "id": "dee059d6",
   "metadata": {},
   "source": [
    "**DICTIONNARIES**"
   ]
  },
  {
   "cell_type": "code",
   "execution_count": 3,
   "id": "ab721d7b",
   "metadata": {},
   "outputs": [],
   "source": [
    "GENDER_DICT = DATA_FOLDER + \"dict_genders.json\""
   ]
  },
  {
   "cell_type": "markdown",
   "id": "9942d7f8",
   "metadata": {},
   "source": [
    "Load the data:"
   ]
  },
  {
   "cell_type": "code",
   "execution_count": 4,
   "id": "cdbf8e41",
   "metadata": {},
   "outputs": [],
   "source": [
    "with open(GENDER_DICT) as json_file:\n",
    "    gender_dict = json.load(json_file)"
   ]
  },
  {
   "cell_type": "code",
   "execution_count": 5,
   "id": "bdf9812a",
   "metadata": {},
   "outputs": [],
   "source": [
    "#Creation of a json file from df_new\n",
    "df_new = pd.read_json(RETURN_FILE_DATA)"
   ]
  },
  {
   "cell_type": "code",
   "execution_count": 6,
   "id": "930ee330",
   "metadata": {},
   "outputs": [
    {
     "data": {
      "text/html": [
       "<div>\n",
       "<style scoped>\n",
       "    .dataframe tbody tr th:only-of-type {\n",
       "        vertical-align: middle;\n",
       "    }\n",
       "\n",
       "    .dataframe tbody tr th {\n",
       "        vertical-align: top;\n",
       "    }\n",
       "\n",
       "    .dataframe thead th {\n",
       "        text-align: right;\n",
       "    }\n",
       "</style>\n",
       "<table border=\"1\" class=\"dataframe\">\n",
       "  <thead>\n",
       "    <tr style=\"text-align: right;\">\n",
       "      <th></th>\n",
       "      <th>quoteID</th>\n",
       "      <th>quotation</th>\n",
       "      <th>speaker</th>\n",
       "      <th>qids</th>\n",
       "      <th>date</th>\n",
       "      <th>numOccurrences</th>\n",
       "      <th>probas</th>\n",
       "      <th>urls</th>\n",
       "      <th>phase</th>\n",
       "      <th>gender</th>\n",
       "      <th>date_of_birth</th>\n",
       "      <th>occupation</th>\n",
       "    </tr>\n",
       "  </thead>\n",
       "  <tbody>\n",
       "    <tr>\n",
       "      <th>0</th>\n",
       "      <td>2019-04-08-048753</td>\n",
       "      <td>It is immoral. It is harmful. It is hurtful.</td>\n",
       "      <td>President Donald Trump</td>\n",
       "      <td>Q22686</td>\n",
       "      <td>2019-04-08 16:22:00</td>\n",
       "      <td>44</td>\n",
       "      <td>[[President Donald Trump, 0.5802], [None, 0.36...</td>\n",
       "      <td>[https://www.mercedsunstar.com/news/business/a...</td>\n",
       "      <td>E</td>\n",
       "      <td>[Q6581097]</td>\n",
       "      <td>[+1946-06-14T00:00:00Z]</td>\n",
       "      <td>[Q911554, Q557880, Q3427922, Q15980158, Q13152...</td>\n",
       "    </tr>\n",
       "    <tr>\n",
       "      <th>1</th>\n",
       "      <td>2019-05-26-025817</td>\n",
       "      <td>It is where they want to be and where they sho...</td>\n",
       "      <td>President Donald Trump</td>\n",
       "      <td>Q22686</td>\n",
       "      <td>2019-05-26 15:37:49</td>\n",
       "      <td>3</td>\n",
       "      <td>[[President Donald Trump, 0.6408], [None, 0.35...</td>\n",
       "      <td>[http://www.breitbart.com/news/trump-vows-roll...</td>\n",
       "      <td>E</td>\n",
       "      <td>[Q6581097]</td>\n",
       "      <td>[+1946-06-14T00:00:00Z]</td>\n",
       "      <td>[Q911554, Q557880, Q3427922, Q15980158, Q13152...</td>\n",
       "    </tr>\n",
       "    <tr>\n",
       "      <th>2</th>\n",
       "      <td>2019-03-20-001438</td>\n",
       "      <td>a horrible, disgraceful thing and a horrible act.</td>\n",
       "      <td>President Donald Trump</td>\n",
       "      <td>Q22686</td>\n",
       "      <td>2019-03-20 16:36:57</td>\n",
       "      <td>5</td>\n",
       "      <td>[[President Donald Trump, 0.871], [None, 0.129]]</td>\n",
       "      <td>[https://www.factcheck.org/2019/03/the-facts-o...</td>\n",
       "      <td>E</td>\n",
       "      <td>[Q6581097]</td>\n",
       "      <td>[+1946-06-14T00:00:00Z]</td>\n",
       "      <td>[Q911554, Q557880, Q3427922, Q15980158, Q13152...</td>\n",
       "    </tr>\n",
       "    <tr>\n",
       "      <th>3</th>\n",
       "      <td>2019-03-29-004685</td>\n",
       "      <td>Allies expressed their support for the secreta...</td>\n",
       "      <td>President Donald Trump</td>\n",
       "      <td>Q22686</td>\n",
       "      <td>2019-03-29 00:25:02</td>\n",
       "      <td>2</td>\n",
       "      <td>[[President Donald Trump, 0.6996], [None, 0.23...</td>\n",
       "      <td>[https://www.brecorder.com/2019/03/29/484053/n...</td>\n",
       "      <td>E</td>\n",
       "      <td>[Q6581097]</td>\n",
       "      <td>[+1946-06-14T00:00:00Z]</td>\n",
       "      <td>[Q911554, Q557880, Q3427922, Q15980158, Q13152...</td>\n",
       "    </tr>\n",
       "    <tr>\n",
       "      <th>4</th>\n",
       "      <td>2019-07-23-003672</td>\n",
       "      <td>And if I can help, I would love to be a mediator.</td>\n",
       "      <td>Donald Trump</td>\n",
       "      <td>Q22686</td>\n",
       "      <td>2019-07-23 14:52:24</td>\n",
       "      <td>1</td>\n",
       "      <td>[[Donald Trump, 0.8156], [None, 0.1516], [Imra...</td>\n",
       "      <td>[http://vanityfair.com/news/2019/07/trump-modi...</td>\n",
       "      <td>E</td>\n",
       "      <td>[Q6581097]</td>\n",
       "      <td>[+1946-06-14T00:00:00Z]</td>\n",
       "      <td>[Q911554, Q557880, Q3427922, Q15980158, Q13152...</td>\n",
       "    </tr>\n",
       "  </tbody>\n",
       "</table>\n",
       "</div>"
      ],
      "text/plain": [
       "             quoteID                                          quotation  \\\n",
       "0  2019-04-08-048753       It is immoral. It is harmful. It is hurtful.   \n",
       "1  2019-05-26-025817  It is where they want to be and where they sho...   \n",
       "2  2019-03-20-001438  a horrible, disgraceful thing and a horrible act.   \n",
       "3  2019-03-29-004685  Allies expressed their support for the secreta...   \n",
       "4  2019-07-23-003672  And if I can help, I would love to be a mediator.   \n",
       "\n",
       "                  speaker    qids                date  numOccurrences  \\\n",
       "0  President Donald Trump  Q22686 2019-04-08 16:22:00              44   \n",
       "1  President Donald Trump  Q22686 2019-05-26 15:37:49               3   \n",
       "2  President Donald Trump  Q22686 2019-03-20 16:36:57               5   \n",
       "3  President Donald Trump  Q22686 2019-03-29 00:25:02               2   \n",
       "4            Donald Trump  Q22686 2019-07-23 14:52:24               1   \n",
       "\n",
       "                                              probas  \\\n",
       "0  [[President Donald Trump, 0.5802], [None, 0.36...   \n",
       "1  [[President Donald Trump, 0.6408], [None, 0.35...   \n",
       "2   [[President Donald Trump, 0.871], [None, 0.129]]   \n",
       "3  [[President Donald Trump, 0.6996], [None, 0.23...   \n",
       "4  [[Donald Trump, 0.8156], [None, 0.1516], [Imra...   \n",
       "\n",
       "                                                urls phase      gender  \\\n",
       "0  [https://www.mercedsunstar.com/news/business/a...     E  [Q6581097]   \n",
       "1  [http://www.breitbart.com/news/trump-vows-roll...     E  [Q6581097]   \n",
       "2  [https://www.factcheck.org/2019/03/the-facts-o...     E  [Q6581097]   \n",
       "3  [https://www.brecorder.com/2019/03/29/484053/n...     E  [Q6581097]   \n",
       "4  [http://vanityfair.com/news/2019/07/trump-modi...     E  [Q6581097]   \n",
       "\n",
       "             date_of_birth                                         occupation  \n",
       "0  [+1946-06-14T00:00:00Z]  [Q911554, Q557880, Q3427922, Q15980158, Q13152...  \n",
       "1  [+1946-06-14T00:00:00Z]  [Q911554, Q557880, Q3427922, Q15980158, Q13152...  \n",
       "2  [+1946-06-14T00:00:00Z]  [Q911554, Q557880, Q3427922, Q15980158, Q13152...  \n",
       "3  [+1946-06-14T00:00:00Z]  [Q911554, Q557880, Q3427922, Q15980158, Q13152...  \n",
       "4  [+1946-06-14T00:00:00Z]  [Q911554, Q557880, Q3427922, Q15980158, Q13152...  "
      ]
     },
     "execution_count": 6,
     "metadata": {},
     "output_type": "execute_result"
    }
   ],
   "source": [
    "df_new.head()"
   ]
  },
  {
   "cell_type": "code",
   "execution_count": 7,
   "id": "be70a9a6",
   "metadata": {},
   "outputs": [],
   "source": [
    "#Drop rows with None as gender\n",
    "df_new.dropna(axis = 0, subset = ['gender'], inplace = True)"
   ]
  },
  {
   "cell_type": "code",
   "execution_count": 8,
   "id": "5de71590",
   "metadata": {},
   "outputs": [
    {
     "data": {
      "text/plain": [
       "98277"
      ]
     },
     "execution_count": 8,
     "metadata": {},
     "output_type": "execute_result"
    }
   ],
   "source": [
    "#Check if it has removed rows: it does\n",
    "df_new.shape[0]"
   ]
  },
  {
   "cell_type": "code",
   "execution_count": 9,
   "id": "de51f7ae",
   "metadata": {},
   "outputs": [],
   "source": [
    "#Keep only the first gender in the list \n",
    "df_new['gender'] = df_new['gender'].apply(lambda x: x[0])"
   ]
  },
  {
   "cell_type": "code",
   "execution_count": 10,
   "id": "381e28ac",
   "metadata": {},
   "outputs": [
    {
     "data": {
      "text/html": [
       "<div>\n",
       "<style scoped>\n",
       "    .dataframe tbody tr th:only-of-type {\n",
       "        vertical-align: middle;\n",
       "    }\n",
       "\n",
       "    .dataframe tbody tr th {\n",
       "        vertical-align: top;\n",
       "    }\n",
       "\n",
       "    .dataframe thead th {\n",
       "        text-align: right;\n",
       "    }\n",
       "</style>\n",
       "<table border=\"1\" class=\"dataframe\">\n",
       "  <thead>\n",
       "    <tr style=\"text-align: right;\">\n",
       "      <th></th>\n",
       "      <th>quoteID</th>\n",
       "      <th>quotation</th>\n",
       "      <th>speaker</th>\n",
       "      <th>qids</th>\n",
       "      <th>date</th>\n",
       "      <th>numOccurrences</th>\n",
       "      <th>probas</th>\n",
       "      <th>urls</th>\n",
       "      <th>phase</th>\n",
       "      <th>gender</th>\n",
       "      <th>date_of_birth</th>\n",
       "      <th>occupation</th>\n",
       "    </tr>\n",
       "  </thead>\n",
       "  <tbody>\n",
       "    <tr>\n",
       "      <th>2</th>\n",
       "      <td>2019-03-20-001438</td>\n",
       "      <td>a horrible, disgraceful thing and a horrible act.</td>\n",
       "      <td>President Donald Trump</td>\n",
       "      <td>Q22686</td>\n",
       "      <td>2019-03-20 16:36:57</td>\n",
       "      <td>5</td>\n",
       "      <td>0.8710</td>\n",
       "      <td>[https://www.factcheck.org/2019/03/the-facts-o...</td>\n",
       "      <td>E</td>\n",
       "      <td>Q6581097</td>\n",
       "      <td>[+1946-06-14T00:00:00Z]</td>\n",
       "      <td>[Q911554, Q557880, Q3427922, Q15980158, Q13152...</td>\n",
       "    </tr>\n",
       "    <tr>\n",
       "      <th>4</th>\n",
       "      <td>2019-07-23-003672</td>\n",
       "      <td>And if I can help, I would love to be a mediator.</td>\n",
       "      <td>Donald Trump</td>\n",
       "      <td>Q22686</td>\n",
       "      <td>2019-07-23 14:52:24</td>\n",
       "      <td>1</td>\n",
       "      <td>0.8156</td>\n",
       "      <td>[http://vanityfair.com/news/2019/07/trump-modi...</td>\n",
       "      <td>E</td>\n",
       "      <td>Q6581097</td>\n",
       "      <td>[+1946-06-14T00:00:00Z]</td>\n",
       "      <td>[Q911554, Q557880, Q3427922, Q15980158, Q13152...</td>\n",
       "    </tr>\n",
       "    <tr>\n",
       "      <th>6</th>\n",
       "      <td>2019-05-17-058726</td>\n",
       "      <td>It's probably more posturing but they will com...</td>\n",
       "      <td>President Donald Trump</td>\n",
       "      <td>Q22686</td>\n",
       "      <td>2019-05-17 03:35:00</td>\n",
       "      <td>1</td>\n",
       "      <td>0.8886</td>\n",
       "      <td>[http://ctvnews.ca/business/north-american-mar...</td>\n",
       "      <td>E</td>\n",
       "      <td>Q6581097</td>\n",
       "      <td>[+1946-06-14T00:00:00Z]</td>\n",
       "      <td>[Q911554, Q557880, Q3427922, Q15980158, Q13152...</td>\n",
       "    </tr>\n",
       "    <tr>\n",
       "      <th>8</th>\n",
       "      <td>2019-02-15-009152</td>\n",
       "      <td>Asylum seekers in Mexico face a heightened ris...</td>\n",
       "      <td>President Donald Trump</td>\n",
       "      <td>Q22686</td>\n",
       "      <td>2019-02-15 03:20:00</td>\n",
       "      <td>5</td>\n",
       "      <td>0.7752</td>\n",
       "      <td>[http://www.abajournal.com/news/article/lawsui...</td>\n",
       "      <td>E</td>\n",
       "      <td>Q6581097</td>\n",
       "      <td>[+1946-06-14T00:00:00Z]</td>\n",
       "      <td>[Q911554, Q557880, Q3427922, Q15980158, Q13152...</td>\n",
       "    </tr>\n",
       "    <tr>\n",
       "      <th>10</th>\n",
       "      <td>2019-01-28-054567</td>\n",
       "      <td>lack of support for and trust of American inte...</td>\n",
       "      <td>President Trump</td>\n",
       "      <td>Q22686</td>\n",
       "      <td>2019-01-28 20:39:06</td>\n",
       "      <td>1</td>\n",
       "      <td>0.8554</td>\n",
       "      <td>[https://www.theepochtimes.com/skepticism-of-t...</td>\n",
       "      <td>E</td>\n",
       "      <td>Q6581097</td>\n",
       "      <td>[+1946-06-14T00:00:00Z]</td>\n",
       "      <td>[Q911554, Q557880, Q3427922, Q15980158, Q13152...</td>\n",
       "    </tr>\n",
       "  </tbody>\n",
       "</table>\n",
       "</div>"
      ],
      "text/plain": [
       "              quoteID                                          quotation  \\\n",
       "2   2019-03-20-001438  a horrible, disgraceful thing and a horrible act.   \n",
       "4   2019-07-23-003672  And if I can help, I would love to be a mediator.   \n",
       "6   2019-05-17-058726  It's probably more posturing but they will com...   \n",
       "8   2019-02-15-009152  Asylum seekers in Mexico face a heightened ris...   \n",
       "10  2019-01-28-054567  lack of support for and trust of American inte...   \n",
       "\n",
       "                   speaker    qids                date  numOccurrences  \\\n",
       "2   President Donald Trump  Q22686 2019-03-20 16:36:57               5   \n",
       "4             Donald Trump  Q22686 2019-07-23 14:52:24               1   \n",
       "6   President Donald Trump  Q22686 2019-05-17 03:35:00               1   \n",
       "8   President Donald Trump  Q22686 2019-02-15 03:20:00               5   \n",
       "10         President Trump  Q22686 2019-01-28 20:39:06               1   \n",
       "\n",
       "    probas                                               urls phase    gender  \\\n",
       "2   0.8710  [https://www.factcheck.org/2019/03/the-facts-o...     E  Q6581097   \n",
       "4   0.8156  [http://vanityfair.com/news/2019/07/trump-modi...     E  Q6581097   \n",
       "6   0.8886  [http://ctvnews.ca/business/north-american-mar...     E  Q6581097   \n",
       "8   0.7752  [http://www.abajournal.com/news/article/lawsui...     E  Q6581097   \n",
       "10  0.8554  [https://www.theepochtimes.com/skepticism-of-t...     E  Q6581097   \n",
       "\n",
       "              date_of_birth                                         occupation  \n",
       "2   [+1946-06-14T00:00:00Z]  [Q911554, Q557880, Q3427922, Q15980158, Q13152...  \n",
       "4   [+1946-06-14T00:00:00Z]  [Q911554, Q557880, Q3427922, Q15980158, Q13152...  \n",
       "6   [+1946-06-14T00:00:00Z]  [Q911554, Q557880, Q3427922, Q15980158, Q13152...  \n",
       "8   [+1946-06-14T00:00:00Z]  [Q911554, Q557880, Q3427922, Q15980158, Q13152...  \n",
       "10  [+1946-06-14T00:00:00Z]  [Q911554, Q557880, Q3427922, Q15980158, Q13152...  "
      ]
     },
     "execution_count": 10,
     "metadata": {},
     "output_type": "execute_result"
    }
   ],
   "source": [
    "#only keeping the first probability corresponding to the speaker with the highest proba, associated as the speaker for the quotation.\n",
    "df_new['probas']= df_new['probas'].apply(lambda x: x[0][1])\n",
    "\n",
    "#convert this probability in a float number\n",
    "df_new['probas']= df_new['probas'].apply(lambda x: float(x))\n",
    "\n",
    "#drop the lines where the probability is lower than 0.7, considered as uncertainities.\n",
    "df_new = df_new.drop(df_new[df_new.probas < 0.7].index)\n",
    "df_new.head()"
   ]
  },
  {
   "cell_type": "code",
   "execution_count": 11,
   "id": "88d7e44b",
   "metadata": {},
   "outputs": [],
   "source": [
    "#Group the data by gender\n",
    "speaker_grouped = df_new.groupby(df_new.gender)"
   ]
  },
  {
   "cell_type": "code",
   "execution_count": 12,
   "id": "8f2a7280",
   "metadata": {},
   "outputs": [],
   "source": [
    "#Keep only the 2 most represented gender and group the other in \"others\"\n",
    "major_gender = speaker_grouped.speaker.count().sort_values(ascending = False)[0:2]\n",
    "others = speaker_grouped.speaker.count().sort_values(ascending = False)[2:]\n"
   ]
  },
  {
   "cell_type": "code",
   "execution_count": 13,
   "id": "40ac4547",
   "metadata": {},
   "outputs": [],
   "source": [
    "#Create a new serie for the barplot\n",
    "other_group = pd.Series([others.values.sum()], index=['Others'])\n",
    "major_gender_and_others = major_gender.append(other_group)"
   ]
  },
  {
   "cell_type": "code",
   "execution_count": 14,
   "id": "40df73f5",
   "metadata": {},
   "outputs": [
    {
     "data": {
      "text/plain": [
       "Q6581097    55934\n",
       "Q6581072    12193\n",
       "Others        116\n",
       "dtype: int64"
      ]
     },
     "execution_count": 14,
     "metadata": {},
     "output_type": "execute_result"
    }
   ],
   "source": [
    "major_gender_and_others"
   ]
  },
  {
   "cell_type": "markdown",
   "id": "1edc9284",
   "metadata": {},
   "source": [
    "##TODO: try to label with 'Male' and 'Female' (il fait wtf la il devrait les mettre je comprends pas ce qu'il fout...) "
   ]
  },
  {
   "cell_type": "code",
   "execution_count": 15,
   "id": "dfef2437",
   "metadata": {},
   "outputs": [
    {
     "data": {
      "image/png": "[encoded data removed]",
      "text/plain": [
       "<Figure size 720x288 with 1 Axes>"
      ]
     },
     "metadata": {},
     "output_type": "display_data"
    }
   ],
   "source": [
    "#Barplot to see how many quotations attributed to each gender\n",
    "sns.set(rc = {'figure.figsize':(10,4)})\n",
    "sns.set_palette('colorblind')\n",
    "ax = sns.barplot(x = major_gender_and_others.index, y = major_gender_and_others.values, data=major_gender_and_others)\n",
    "#ax.set_xticklabels(major_gender_and_others.index);\n",
    "ax.set_yscale(\"log\")\n",
    "plt.title('Number of citations by gender');\n",
    "plt.ylabel('Number of citations');\n",
    "plt.xlabel('Gender');"
   ]
  },
  {
   "cell_type": "markdown",
   "id": "685cea77",
   "metadata": {},
   "source": [
    "**Be careful, this plot has log scale in y-axis.**\n"
   ]
  },
  {
   "cell_type": "markdown",
   "id": "729317bb",
   "metadata": {},
   "source": [
    "We see that there is only a few citations linked to speaker with gender other than 'male' or 'female'. For this reason, we will focus only on male and female gender, in order to examine the differences between them."
   ]
  },
  {
   "cell_type": "code",
   "execution_count": 16,
   "id": "a0039d55",
   "metadata": {},
   "outputs": [],
   "source": [
    "#Drop the rows having a gender other than the 2 most represented\n",
    "df_MF = df_new.drop(df_new[\n",
    "        df_new['gender'].isin(major_gender.index) == False].index, inplace = False)"
   ]
  },
  {
   "cell_type": "code",
   "execution_count": 17,
   "id": "5ffa6382",
   "metadata": {},
   "outputs": [
    {
     "data": {
      "text/plain": [
       "68243"
      ]
     },
     "execution_count": 17,
     "metadata": {},
     "output_type": "execute_result"
    }
   ],
   "source": [
    "df_new.shape[0]"
   ]
  },
  {
   "cell_type": "code",
   "execution_count": 18,
   "id": "d9b64e69",
   "metadata": {},
   "outputs": [],
   "source": [
    "#Replace the code by the item 'male' or 'female' thanks to the dictionnary\n",
    "df_MF['gender'] = [gender_dict[x] for x in df_MF.gender.to_list()]"
   ]
  },
  {
   "cell_type": "code",
   "execution_count": 19,
   "id": "291f4c7c",
   "metadata": {},
   "outputs": [],
   "source": [
    "#Group again by gender, now that only 2 groups remains\n",
    "gender_groups = df_MF.groupby(df_MF.gender)"
   ]
  },
  {
   "cell_type": "code",
   "execution_count": 20,
   "id": "f2d48349",
   "metadata": {},
   "outputs": [
    {
     "data": {
      "text/plain": [
       "gender\n",
       "male      185378\n",
       "female     39008\n",
       "Name: numOccurrences, dtype: int64"
      ]
     },
     "execution_count": 20,
     "metadata": {},
     "output_type": "execute_result"
    }
   ],
   "source": [
    "#Count the number of occurences by gender (quotations*occurences)\n",
    "citations_by_gender = gender_groups.numOccurrences.sum().sort_values(ascending = False)\n",
    "citations_by_gender"
   ]
  },
  {
   "cell_type": "code",
   "execution_count": 21,
   "id": "19f5c680",
   "metadata": {},
   "outputs": [
    {
     "data": {
      "image/png": "[encoded data removed]",
      "text/plain": [
       "<Figure size 720x288 with 1 Axes>"
      ]
     },
     "metadata": {},
     "output_type": "display_data"
    }
   ],
   "source": [
    "#Barplot representing the number of occurences by gender \n",
    "ax = sns.barplot(x = citations_by_gender.index, y = citations_by_gender.values, data=citations_by_gender)\n",
    "plt.title('Number of occurences by gender');\n",
    "plt.ylabel('Number of occurences');\n",
    "plt.xlabel('Gender');"
   ]
  },
  {
   "cell_type": "code",
   "execution_count": 22,
   "id": "daf0e530",
   "metadata": {},
   "outputs": [],
   "source": [
    "#GroupBy qids in order to get unique speakers. We add gender in the groupBy, but since we already assigned one \n",
    "#gender per speaker, it is just to provide the information in the indexing. \n",
    "unique_speaker = df_MF.groupby(['qids','gender']).mean()"
   ]
  },
  {
   "cell_type": "code",
   "execution_count": 23,
   "id": "f4e1c1c5",
   "metadata": {},
   "outputs": [
    {
     "data": {
      "text/plain": [
       "True"
      ]
     },
     "execution_count": 23,
     "metadata": {},
     "output_type": "execute_result"
    }
   ],
   "source": [
    "#Let's check that the speakers are unique. \n",
    "unique_speaker.index.is_unique"
   ]
  },
  {
   "cell_type": "code",
   "execution_count": 24,
   "id": "e64529e7",
   "metadata": {},
   "outputs": [
    {
     "name": "stdout",
     "output_type": "stream",
     "text": [
      "There are 11 unique speakers in this dataset.\n"
     ]
    }
   ],
   "source": [
    "print('There are', speaker_grouped.ngroups, 'unique speakers in this dataset.')"
   ]
  },
  {
   "cell_type": "code",
   "execution_count": 25,
   "id": "95b7d851",
   "metadata": {},
   "outputs": [],
   "source": [
    "#Extract the list of genders among the unique speakers\n",
    "unique_speaker_gender = unique_speaker.index.to_list()"
   ]
  },
  {
   "cell_type": "code",
   "execution_count": 26,
   "id": "6cf5f5d2",
   "metadata": {},
   "outputs": [],
   "source": [
    "#Count the number of male speakers, and the number of female speakers\n",
    "speaker_HF = Counter([x[1] for x in unique_speaker_gender])"
   ]
  },
  {
   "cell_type": "code",
   "execution_count": 27,
   "id": "f7b8298b",
   "metadata": {},
   "outputs": [
    {
     "data": {
      "image/png": "[encoded data removed]",
      "text/plain": [
       "<Figure size 720x288 with 1 Axes>"
      ]
     },
     "metadata": {},
     "output_type": "display_data"
    }
   ],
   "source": [
    "ax = sns.barplot(x=list(speaker_HF.keys()), y=list(speaker_HF.values())) \n",
    "plt.title('Number of speakers by gender');\n",
    "plt.ylabel('Number of speakers');\n",
    "plt.xlabel('Gender');"
   ]
  }
 ],
 "metadata": {
  "kernelspec": {
   "display_name": "Python 3 (ipykernel)",
   "language": "python",
   "name": "python3"
  },
  "language_info": {
   "codemirror_mode": {
    "name": "ipython",
    "version": 3
   },
   "file_extension": ".py",
   "mimetype": "text/x-python",
   "name": "python",
   "nbconvert_exporter": "python",
   "pygments_lexer": "ipython3",
   "version": "3.8.11"
  }
 },
 "nbformat": 4,
 "nbformat_minor": 5
}
