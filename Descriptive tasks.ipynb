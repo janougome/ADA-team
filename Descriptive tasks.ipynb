{
 "cells": [
  {
   "cell_type": "markdown",
   "id": "ea40bee4",
   "metadata": {},
   "source": [
    "# Women's voices before and after #MeToo"
   ]
  },
  {
   "cell_type": "markdown",
   "id": "314aa219",
   "metadata": {},
   "source": [
    "## Introduction\n",
    "In this project, we will use the [Quotebank dataset](#https://dl.acm.org/doi/pdf/10.1145/3437963.3441760), an open corpus of 178 million quotations attributed to the speakers who uttered them, extracted from 162 million English news articles published between 2008 and 2020. We will here restrict our analysis to articles published between 2015 and 2020.\n"
   ]
  },
  {
   "cell_type": "markdown",
   "id": "093684f3",
   "metadata": {},
   "source": [
    "## Preprocessing\n",
    "We are provided with one dataset per year, which are pretty large (from 792,3Mo to 4,84Go). The datasets provided to us follow the pattern below: \n",
    "\n",
    "```\n",
    "root\n",
    " |-- quoteID: string \n",
    " |-- quotation: string \n",
    " |-- speaker: string \n",
    " |-- qids: list\n",
    " |-- date: string \n",
    " |-- numOccurrences: int\n",
    " |-- probas: list\n",
    " |-- urls: list\n",
    " |-- phase: string \n",
    "```\n",
    "\n",
    "1. Since our analysis will be based on the difference between male and female speakers, we need to keep only the quotations for which the speakers are known. We therefore dropped the quotations for which the speaker is unknown, and made the choice to keep only the quotations for which the probability that it is the correct speaker is greater than 0.7.\n",
    "\n",
    "\n",
    "2. To further reduce the datasets, we removed columns of no interest to our analysis: urls, probas, phase and quoteID. We kept the date columns only for the 2017 and 2018 datasets (years close to the #MeToo event). For other years, knowing only the year will be sufficient for our analysis. Steps 1 and 2 were performed using Google colab. \n",
    "The code for these two first steps is available [here](src/Reduce_data.ipynb).\n",
    "\n",
    "\n",
    "3. Next, in order to have useful information about the speakers, we used additional speaker metadata available for ~9M unique Wikidata entities (identified by their QID) in the form of a .parquet file named speaker_attributes.parquet. We decided to keep the following attributes: 'gender', 'date_of_birth', 'occupation', 'id', 'ethnic_group', 'academic_degree', 'occupation' and 'religion'. For each dataset, we computed the current age of the speaker at the time of the quotation, and thus transformed the column 'date_of_birth' by a column 'age'. Thus, after merging, the datasets follow the following pattern:\n",
    "```\n",
    "root\n",
    " |-- quotation: string \n",
    " |-- speaker: string \n",
    " |-- qids: list\n",
    " |-- numOccurrences: int\n",
    " |-- gender: ndarray\n",
    " |-- age: int\n",
    " |-- occupation: ndarray\n",
    " |-- ethnic_group: ndarray\n",
    " |-- academic_degree: ndarray\n",
    " |-- religion: ndarray\n",
    "```\n",
    "\n",
    "\n",
    "4. Then, we will drop the quotations for which the gender is not known, since we will build all our analyses on it. We will then replace all the wikicodes in the dataset with readable information, using a [dictionnary](data/wikidata_labels_descriptions_quotebank.csv.bz2) linking wikidata labels and descriptions. The speakers for which the year of birth is not known are also removed. \n",
    "\n",
    "The code for step 3 and 4 is available [here](src/get_attributes.ipynb)"
   ]
  },
  {
   "cell_type": "markdown",
   "id": "c9774f90",
   "metadata": {},
   "source": [
    "## Imports"
   ]
  },
  {
   "cell_type": "code",
   "execution_count": 1,
   "id": "77397873",
   "metadata": {},
   "outputs": [],
   "source": [
    "import pandas as pd\n",
    "import bz2\n",
    "import json\n",
    "import seaborn as sns\n",
    "import matplotlib.pyplot as plt\n",
    "import numpy as np\n",
    "from collections import Counter"
   ]
  },
  {
   "cell_type": "markdown",
   "id": "ae5b646d",
   "metadata": {},
   "source": [
    "## Datasets"
   ]
  },
  {
   "cell_type": "code",
   "execution_count": 2,
   "id": "50040e82",
   "metadata": {},
   "outputs": [],
   "source": [
    "DATA_FOLDER = 'data/'\n",
    "\n",
    "\n",
    "DATA_2015 = DATA_FOLDER+\"sample-2015.json.bz2\"\n",
    "DATA_2016 = DATA_FOLDER+\"sample-2016.json.bz2\"\n",
    "\n",
    "DATA_2018 = DATA_FOLDER+\"sample-2018.json.bz2\"\n",
    "DATA_2019 = DATA_FOLDER+\"sample-2019.json.bz2\"\n",
    "DATA_2020 = DATA_FOLDER+\"sample-2020.json.bz2\"\n"
   ]
  },
  {
   "cell_type": "markdown",
   "id": "4f596b05",
   "metadata": {},
   "source": [
    "## Wikidata attributes and dictionnary"
   ]
  },
  {
   "cell_type": "code",
   "execution_count": 3,
   "id": "893a743c",
   "metadata": {},
   "outputs": [],
   "source": [
    "WIKIDATA_LABELS = DATA_FOLDER + \"wikidata_labels_descriptions_quotebank.csv.bz2\"\n",
    "SPEAKER_ATTRIBUTES_DATA = DATA_FOLDER+\"speaker_attributes.parquet\""
   ]
  },
  {
   "cell_type": "markdown",
   "id": "20567701",
   "metadata": {},
   "source": [
    "Load the data:"
   ]
  },
  {
   "cell_type": "code",
   "execution_count": 4,
   "id": "550d6a75",
   "metadata": {},
   "outputs": [],
   "source": [
    "wiki_labels = pd.read_csv(WIKIDATA_LABELS, compression='bz2', index_col='QID')"
   ]
  },
  {
   "cell_type": "code",
   "execution_count": 5,
   "id": "d52bd04a",
   "metadata": {},
   "outputs": [],
   "source": [
    "quotes_2020 = pd.read_json(DATA_2020)"
   ]
  },
  {
   "cell_type": "code",
   "execution_count": 6,
   "id": "fdb6fbaf",
   "metadata": {},
   "outputs": [
    {
     "data": {
      "text/html": [
       "<div>\n",
       "<style scoped>\n",
       "    .dataframe tbody tr th:only-of-type {\n",
       "        vertical-align: middle;\n",
       "    }\n",
       "\n",
       "    .dataframe tbody tr th {\n",
       "        vertical-align: top;\n",
       "    }\n",
       "\n",
       "    .dataframe thead th {\n",
       "        text-align: right;\n",
       "    }\n",
       "</style>\n",
       "<table border=\"1\" class=\"dataframe\">\n",
       "  <thead>\n",
       "    <tr style=\"text-align: right;\">\n",
       "      <th></th>\n",
       "      <th>quotation</th>\n",
       "      <th>speaker</th>\n",
       "      <th>qids</th>\n",
       "      <th>numOccurrences</th>\n",
       "      <th>gender</th>\n",
       "      <th>age</th>\n",
       "      <th>occupation</th>\n",
       "      <th>ethnic_group</th>\n",
       "      <th>academic_degree</th>\n",
       "      <th>religion</th>\n",
       "    </tr>\n",
       "  </thead>\n",
       "  <tbody>\n",
       "    <tr>\n",
       "      <th>0</th>\n",
       "      <td>The job of the church organist is to help the ...</td>\n",
       "      <td>Donald Kennedy</td>\n",
       "      <td>Q1240022</td>\n",
       "      <td>1</td>\n",
       "      <td>male</td>\n",
       "      <td>89</td>\n",
       "      <td>[biologist, teacher, writer, academic]</td>\n",
       "      <td>None</td>\n",
       "      <td>[Doctor of Philosophy]</td>\n",
       "      <td>None</td>\n",
       "    </tr>\n",
       "    <tr>\n",
       "      <th>1</th>\n",
       "      <td>The only reason we come out to enforce the law...</td>\n",
       "      <td>Chris Tang</td>\n",
       "      <td>Q19646427</td>\n",
       "      <td>1</td>\n",
       "      <td>male</td>\n",
       "      <td>63</td>\n",
       "      <td>[academic, economist]</td>\n",
       "      <td>None</td>\n",
       "      <td>None</td>\n",
       "      <td>None</td>\n",
       "    </tr>\n",
       "    <tr>\n",
       "      <th>2</th>\n",
       "      <td>We remain in the `contain' phase of the outbre...</td>\n",
       "      <td>Boris Johnson</td>\n",
       "      <td>Q180589</td>\n",
       "      <td>1</td>\n",
       "      <td>male</td>\n",
       "      <td>56</td>\n",
       "      <td>[journalist, politician, editor, writer, essay...</td>\n",
       "      <td>[White British]</td>\n",
       "      <td>None</td>\n",
       "      <td>[Anglicanism]</td>\n",
       "    </tr>\n",
       "    <tr>\n",
       "      <th>3</th>\n",
       "      <td>Egypt is the biggest single-point-of-failure i...</td>\n",
       "      <td>Sunil Tagare</td>\n",
       "      <td>Q7640351</td>\n",
       "      <td>1</td>\n",
       "      <td>male</td>\n",
       "      <td>60</td>\n",
       "      <td>None</td>\n",
       "      <td>None</td>\n",
       "      <td>None</td>\n",
       "      <td>None</td>\n",
       "    </tr>\n",
       "    <tr>\n",
       "      <th>4</th>\n",
       "      <td>I remember writing a petition to pray to St Th...</td>\n",
       "      <td>Peter Wood</td>\n",
       "      <td>Q19518683</td>\n",
       "      <td>1</td>\n",
       "      <td>male</td>\n",
       "      <td>74</td>\n",
       "      <td>[Australian rules football player]</td>\n",
       "      <td>None</td>\n",
       "      <td>None</td>\n",
       "      <td>None</td>\n",
       "    </tr>\n",
       "  </tbody>\n",
       "</table>\n",
       "</div>"
      ],
      "text/plain": [
       "                                           quotation         speaker  \\\n",
       "0  The job of the church organist is to help the ...  Donald Kennedy   \n",
       "1  The only reason we come out to enforce the law...      Chris Tang   \n",
       "2  We remain in the `contain' phase of the outbre...   Boris Johnson   \n",
       "3  Egypt is the biggest single-point-of-failure i...    Sunil Tagare   \n",
       "4  I remember writing a petition to pray to St Th...      Peter Wood   \n",
       "\n",
       "        qids  numOccurrences gender  age  \\\n",
       "0   Q1240022               1   male   89   \n",
       "1  Q19646427               1   male   63   \n",
       "2    Q180589               1   male   56   \n",
       "3   Q7640351               1   male   60   \n",
       "4  Q19518683               1   male   74   \n",
       "\n",
       "                                          occupation     ethnic_group  \\\n",
       "0             [biologist, teacher, writer, academic]             None   \n",
       "1                              [academic, economist]             None   \n",
       "2  [journalist, politician, editor, writer, essay...  [White British]   \n",
       "3                                               None             None   \n",
       "4                 [Australian rules football player]             None   \n",
       "\n",
       "          academic_degree       religion  \n",
       "0  [Doctor of Philosophy]           None  \n",
       "1                    None           None  \n",
       "2                    None  [Anglicanism]  \n",
       "3                    None           None  \n",
       "4                    None           None  "
      ]
     },
     "execution_count": 6,
     "metadata": {},
     "output_type": "execute_result"
    }
   ],
   "source": [
    "quotes_2020.head()"
   ]
  },
  {
   "cell_type": "code",
   "execution_count": 7,
   "id": "c636787a",
   "metadata": {},
   "outputs": [],
   "source": [
    "#Group the data by gender\n",
    "speaker_grouped = quotes_2020.groupby(quotes_2020.gender)"
   ]
  },
  {
   "cell_type": "code",
   "execution_count": 8,
   "id": "146cbfe0",
   "metadata": {
    "scrolled": true
   },
   "outputs": [
    {
     "data": {
      "text/plain": [
       "gender\n",
       "cisgender female          5\n",
       "cisgender male            3\n",
       "female                18368\n",
       "genderfluid              23\n",
       "genderqueer               2\n",
       "intersex                  1\n",
       "male                  81427\n",
       "non-binary               66\n",
       "shemale                   4\n",
       "transgender female       89\n",
       "transgender male         11\n",
       "Name: numOccurrences, dtype: int64"
      ]
     },
     "execution_count": 8,
     "metadata": {},
     "output_type": "execute_result"
    }
   ],
   "source": [
    "speaker_grouped.numOccurrences.count()"
   ]
  },
  {
   "cell_type": "code",
   "execution_count": 9,
   "id": "bf96ea49",
   "metadata": {},
   "outputs": [],
   "source": [
    "#Keep only the 2 most represented gender and group the other in \"others\"\n",
    "major_gender = speaker_grouped.speaker.count().sort_values(ascending = False)[0:2]\n",
    "others = speaker_grouped.speaker.count().sort_values(ascending = False)[2:]"
   ]
  },
  {
   "cell_type": "code",
   "execution_count": 10,
   "id": "b9ac9aa8",
   "metadata": {},
   "outputs": [],
   "source": [
    "#Create a new serie for the barplot\n",
    "other_group = pd.Series([others.values.sum()], index=['Others'])\n",
    "major_gender_and_others = major_gender.append(other_group)"
   ]
  },
  {
   "cell_type": "code",
   "execution_count": 11,
   "id": "d4954e90",
   "metadata": {},
   "outputs": [
    {
     "data": {
      "text/plain": [
       "male      81427\n",
       "female    18368\n",
       "Others      204\n",
       "dtype: int64"
      ]
     },
     "execution_count": 11,
     "metadata": {},
     "output_type": "execute_result"
    }
   ],
   "source": [
    "major_gender_and_others"
   ]
  },
  {
   "cell_type": "markdown",
   "id": "fd23d0b2",
   "metadata": {},
   "source": [
    "##TODO: try to label with 'Male' and 'Female' (il fait wtf la il devrait les mettre je comprends pas ce qu'il fout...) "
   ]
  },
  {
   "cell_type": "code",
   "execution_count": 12,
   "id": "54abb8c8",
   "metadata": {},
   "outputs": [
    {
     "data": {
      "image/png": "[encoded data removed]",
      "text/plain": [
       "<Figure size 720x360 with 1 Axes>"
      ]
     },
     "metadata": {
      "needs_background": "light"
     },
     "output_type": "display_data"
    }
   ],
   "source": [
    "pl = major_gender_and_others.plot(kind=\"bar\", x=major_gender_and_others.index, y=major_gender_and_others.values, figsize=(10, 5), log=True, \\\n",
    "                        alpha=0.5, rot=0, color=\"blue\")\n",
    "pl.set_xlabel(\"Gender\")\n",
    "pl.set_ylabel(\"Number of quotations\")\n",
    "pl.set_title(\"Number of quotations by gender\");"
   ]
  },
  {
   "cell_type": "markdown",
   "id": "41421d65",
   "metadata": {},
   "source": [
    "**Be careful, this plot has log scale in y-axis.**\n"
   ]
  },
  {
   "cell_type": "markdown",
   "id": "bc810975",
   "metadata": {},
   "source": [
    "We see that there is only a few citations linked to speaker with gender other than 'male' or 'female'. For this reason, we will focus only on male and female gender, in order to examine the differences between them."
   ]
  },
  {
   "cell_type": "code",
   "execution_count": 13,
   "id": "a84fae84",
   "metadata": {},
   "outputs": [],
   "source": [
    "#Drop the rows having a gender other than the 2 most represented\n",
    "df_MF = quotes_2020.drop(quotes_2020[\n",
    "        quotes_2020['gender'].isin(major_gender.index) == False].index, inplace = False)"
   ]
  },
  {
   "cell_type": "code",
   "execution_count": 14,
   "id": "0fbd68cc",
   "metadata": {},
   "outputs": [
    {
     "data": {
      "text/plain": [
       "99795"
      ]
     },
     "execution_count": 14,
     "metadata": {},
     "output_type": "execute_result"
    }
   ],
   "source": [
    "df_MF.shape[0]"
   ]
  },
  {
   "cell_type": "code",
   "execution_count": 15,
   "id": "939d37ec",
   "metadata": {},
   "outputs": [],
   "source": [
    "#Group again by gender, now that only 2 groups remains\n",
    "gender_groups = df_MF.groupby(df_MF.gender)"
   ]
  },
  {
   "cell_type": "code",
   "execution_count": 16,
   "id": "657a9b92",
   "metadata": {},
   "outputs": [
    {
     "data": {
      "text/plain": [
       "gender\n",
       "male      270685\n",
       "female     62856\n",
       "Name: numOccurrences, dtype: int64"
      ]
     },
     "execution_count": 16,
     "metadata": {},
     "output_type": "execute_result"
    }
   ],
   "source": [
    "#Count the number of occurences by gender (quotations*occurences)\n",
    "citations_by_gender = gender_groups.numOccurrences.sum().sort_values(ascending = False)\n",
    "citations_by_gender"
   ]
  },
  {
   "cell_type": "code",
   "execution_count": 17,
   "id": "090eebf9",
   "metadata": {},
   "outputs": [
    {
     "data": {
      "image/png": "[encoded data removed]",
      "text/plain": [
       "<Figure size 720x360 with 1 Axes>"
      ]
     },
     "metadata": {
      "needs_background": "light"
     },
     "output_type": "display_data"
    }
   ],
   "source": [
    "pl = citations_by_gender.plot(kind=\"bar\", x=citations_by_gender.index, y=citations_by_gender.values, figsize=(10, 5), log=False, \\\n",
    "                        alpha=0.5, rot=0,color=\"blue\")\n",
    "pl.set_xlabel(\"Gender\")\n",
    "pl.set_ylabel(\"Number of occurences\")\n",
    "pl.set_title('Number of occurences by gender');"
   ]
  },
  {
   "cell_type": "code",
   "execution_count": 18,
   "id": "d801fcf1",
   "metadata": {},
   "outputs": [],
   "source": [
    "#GroupBy qids in order to get unique speakers. We add gender in the groupBy, but since we already assigned one \n",
    "#gender per speaker, it is just to provide the information in the indexing. \n",
    "unique_speaker = df_MF.groupby(['qids','gender']).mean()"
   ]
  },
  {
   "cell_type": "code",
   "execution_count": 19,
   "id": "316eb502",
   "metadata": {},
   "outputs": [
    {
     "data": {
      "text/plain": [
       "True"
      ]
     },
     "execution_count": 19,
     "metadata": {},
     "output_type": "execute_result"
    }
   ],
   "source": [
    "#Let's check that the speakers are unique. \n",
    "unique_speaker.index.is_unique"
   ]
  },
  {
   "cell_type": "code",
   "execution_count": 20,
   "id": "7b00eca4",
   "metadata": {},
   "outputs": [
    {
     "name": "stdout",
     "output_type": "stream",
     "text": [
      "There are 11 unique speakers in this dataset.\n"
     ]
    }
   ],
   "source": [
    "print('There are', speaker_grouped.ngroups, 'unique speakers in this dataset.')"
   ]
  },
  {
   "cell_type": "code",
   "execution_count": 21,
   "id": "0ac97f0a",
   "metadata": {},
   "outputs": [],
   "source": [
    "#Extract the list of genders among the unique speakers\n",
    "unique_speaker_gender = unique_speaker.index.to_list()"
   ]
  },
  {
   "cell_type": "code",
   "execution_count": 22,
   "id": "accb03c5",
   "metadata": {},
   "outputs": [],
   "source": [
    "#Count the number of male speakers, and the number of female speakers\n",
    "speaker_HF = Counter([x[1] for x in unique_speaker_gender])"
   ]
  },
  {
   "cell_type": "code",
   "execution_count": 23,
   "id": "72599a43",
   "metadata": {},
   "outputs": [
    {
     "data": {
      "image/png": "[encoded data removed]",
      "text/plain": [
       "<Figure size 432x288 with 1 Axes>"
      ]
     },
     "metadata": {
      "needs_background": "light"
     },
     "output_type": "display_data"
    }
   ],
   "source": [
    "ax = sns.barplot(x=list(speaker_HF.keys()), y=list(speaker_HF.values()),alpha=0.5,color=\"blue\")\n",
    "plt.title('Number of speakers by gender');\n",
    "plt.ylabel('Number of speakers');\n",
    "plt.xlabel('Gender');"
   ]
  }
 ],
 "metadata": {
  "kernelspec": {
   "display_name": "Python 3 (ipykernel)",
   "language": "python",
   "name": "python3"
  },
  "language_info": {
   "codemirror_mode": {
    "name": "ipython",
    "version": 3
   },
   "file_extension": ".py",
   "mimetype": "text/x-python",
   "name": "python",
   "nbconvert_exporter": "python",
   "pygments_lexer": "ipython3",
   "version": "3.8.11"
  }
 },
 "nbformat": 4,
 "nbformat_minor": 5
}
