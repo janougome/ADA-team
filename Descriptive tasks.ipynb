{
 "cells": [
  {
   "cell_type": "code",
   "execution_count": 1,
   "id": "6e482427",
   "metadata": {},
   "outputs": [],
   "source": [
    "import pandas as pd\n",
    "import bz2\n",
    "import json\n",
    "import seaborn as sns\n",
    "import matplotlib.pyplot as plt"
   ]
  },
  {
   "cell_type": "code",
   "execution_count": 2,
   "id": "9bcb3fc6",
   "metadata": {},
   "outputs": [],
   "source": [
    "DATA_FOLDER = 'data/'\n",
    "SPEAKER_ATTRIBUTES_DATA = DATA_FOLDER+\"speaker_attributes.parquet\"\n",
    "\n",
    "KNOWN_SPEAKER = DATA_FOLDER+\"100000_knownspeakers_2019\"\n",
    "KNOWN_SPEAKER_DATA = KNOWN_SPEAKER+\".json.bz2\"\n",
    "RETURN_FILE_DATA = KNOWN_SPEAKER+\"_with_attributes.json.bz2\""
   ]
  },
  {
   "cell_type": "code",
   "execution_count": 3,
   "id": "bdf9812a",
   "metadata": {},
   "outputs": [],
   "source": [
    "#Creation of a json file from df_new\n",
    "df_new = pd.read_json(RETURN_FILE_DATA)"
   ]
  },
  {
   "cell_type": "code",
   "execution_count": 4,
   "id": "be70a9a6",
   "metadata": {},
   "outputs": [],
   "source": [
    "#Drop rows with None as gender\n",
    "df_new.dropna(axis = 0, subset = ['gender'], inplace = True)"
   ]
  },
  {
   "cell_type": "code",
   "execution_count": 5,
   "id": "5de71590",
   "metadata": {},
   "outputs": [
    {
     "data": {
      "text/plain": [
       "98277"
      ]
     },
     "execution_count": 5,
     "metadata": {},
     "output_type": "execute_result"
    }
   ],
   "source": [
    "#Check if it has removed rows: it does\n",
    "df_new.shape[0]"
   ]
  },
  {
   "cell_type": "code",
   "execution_count": 6,
   "id": "de51f7ae",
   "metadata": {},
   "outputs": [],
   "source": [
    "#Keep only the first gender in the list \n",
    "df_new['gender'] = df_new['gender'].apply(lambda x: x[0])"
   ]
  },
  {
   "cell_type": "code",
   "execution_count": null,
   "metadata": {},
   "outputs": [],
   "source": [
    "#only keeping the first probability corresponding to the speaker with the highest proba, associated as the speaker for the quotation.\n",
    "df_new['probas']= df_new['probas'].apply(lambda x: x[0][1])\n",
    "\n",
    "#convert this probability in a float number\n",
    "df_new['probas']= df_new['probas'].apply(lambda x: float(x))\n",
    "\n",
    "#drop the lines where the probability is lower than 0.7, considered as uncertainities.\n",
    "df_new = df_new.drop(df_new[df_new.probas < 0.7].index)\n",
    "df_new"
   ]
  },
  {
   "cell_type": "code",
   "execution_count": 7,
   "id": "88d7e44b",
   "metadata": {},
   "outputs": [],
   "source": [
    "#Group the data by gender\n",
    "speaker_grouped = df_new.groupby(df_new.gender)"
   ]
  },
  {
   "cell_type": "code",
   "execution_count": 8,
   "id": "fd099a6c",
   "metadata": {},
   "outputs": [
    {
     "data": {
      "text/plain": [
       "gender\n",
       "Q6581097     79839\n",
       "Q6581072     18251\n",
       "Q1052281        61\n",
       "Q48270          56\n",
       "Q18116794       41\n",
       "Q15145779        9\n",
       "Q2449503         9\n",
       "Q12964198        3\n",
       "Q1097630         2\n",
       "Q15145778        2\n",
       "Q1984232         2\n",
       "Q27679766        1\n",
       "Q505371          1\n",
       "Name: speaker, dtype: int64"
      ]
     },
     "execution_count": 8,
     "metadata": {},
     "output_type": "execute_result"
    }
   ],
   "source": [
    "#Look at the number of quotations per gender\n",
    "speaker_grouped.speaker.count().sort_values(ascending = False)"
   ]
  },
  {
   "cell_type": "code",
   "execution_count": 9,
   "id": "8f2a7280",
   "metadata": {},
   "outputs": [],
   "source": [
    "#Keep only the 2 most represented gender and group the other in \"others\"\n",
    "major_gender = speaker_grouped.speaker.count().sort_values(ascending = False)[0:2]\n",
    "others = speaker_grouped.speaker.count().sort_values(ascending = False)[2:]"
   ]
  },
  {
   "cell_type": "code",
   "execution_count": 10,
   "id": "40ac4547",
   "metadata": {},
   "outputs": [],
   "source": [
    "#Create a new serie for the barplot\n",
    "other_group = pd.Series([others.values.sum()], index=['Others'])\n",
    "major_gender_and_others = major_gender.append(other_group)"
   ]
  },
  {
   "cell_type": "markdown",
   "id": "1edc9284",
   "metadata": {},
   "source": [
    "##TODO: try to label with 'Male' and 'Female' not manually! (use the wiki code to get the name) "
   ]
  },
  {
   "cell_type": "code",
   "execution_count": 11,
   "id": "dfef2437",
   "metadata": {},
   "outputs": [
    {
     "data": {
      "image/png": "[encoded data removed]",
      "text/plain": [
       "<Figure size 720x288 with 1 Axes>"
      ]
     },
     "metadata": {},
     "output_type": "display_data"
    }
   ],
   "source": [
    "#Barplot to see how many quotations attributed to each gender\n",
    "sns.set(rc = {'figure.figsize':(10,4)})\n",
    "sns.set_palette('colorblind')\n",
    "labels = ['Others', 'Female', 'Male']\n",
    "ax = sns.barplot(x = major_gender_and_others.index, y = major_gender_and_others.values, data=major_gender_and_others)\n",
    "ax.set_xticklabels(labels);\n",
    "ax.set_yscale(\"log\")\n",
    "plt.title('Number of citations by gender');\n",
    "plt.ylabel('Number of citations');\n",
    "plt.xlabel('Gender');"
   ]
  },
  {
   "cell_type": "markdown",
   "id": "685cea77",
   "metadata": {},
   "source": [
    "**Be careful, this plot has log scale in y-axis.**\n"
   ]
  },
  {
   "cell_type": "markdown",
   "id": "729317bb",
   "metadata": {},
   "source": [
    "We see that there is only a few citations linked to speaker with gender other than 'male' or 'female'. For this reason, we will focus only on male and female gender, in order to examine the differences between them."
   ]
  },
  {
   "cell_type": "code",
   "execution_count": 12,
   "id": "a0039d55",
   "metadata": {},
   "outputs": [],
   "source": [
    "#Drop the rows having a gender other than the 2 most represented\n",
    "df_new.drop(df_new[\n",
    "        df_new['gender'].isin(major_gender.index) == False].index, inplace = True)"
   ]
  },
  {
   "cell_type": "code",
   "execution_count": 13,
   "id": "d9b64e69",
   "metadata": {},
   "outputs": [
    {
     "data": {
      "text/plain": [
       "98090"
      ]
     },
     "execution_count": 13,
     "metadata": {},
     "output_type": "execute_result"
    }
   ],
   "source": [
    "df_new.shape[0]"
   ]
  },
  {
   "cell_type": "code",
   "execution_count": 14,
   "id": "291f4c7c",
   "metadata": {},
   "outputs": [],
   "source": [
    "#Group again by gender, now that only 2 groups remains\n",
    "speakers_MF = df_new.groupby(df_new.gender)"
   ]
  },
  {
   "cell_type": "code",
   "execution_count": 15,
   "id": "f2d48349",
   "metadata": {},
   "outputs": [],
   "source": [
    "#Count the number of occurences by gender (quotations*occurences)\n",
    "citations_by_gender = speakers_MF.numOccurrences.sum().sort_values(ascending = False)"
   ]
  },
  {
   "cell_type": "markdown",
   "id": "cdb5c007",
   "metadata": {},
   "source": [
    "##TODO: try to label with 'Male' and 'Female' not manually! (use the wiki code to get the name) \n"
   ]
  },
  {
   "cell_type": "code",
   "execution_count": 16,
   "id": "19f5c680",
   "metadata": {},
   "outputs": [
    {
     "data": {
      "image/png": "[encoded data removed]",
      "text/plain": [
       "<Figure size 720x288 with 1 Axes>"
      ]
     },
     "metadata": {},
     "output_type": "display_data"
    }
   ],
   "source": [
    "#Barplot representing the number of occurences by gender \n",
    "sns.set(rc = {'figure.figsize':(10,4)})\n",
    "sns.set_palette('colorblind')\n",
    "labels = ['Female', 'Male']\n",
    "ax = sns.barplot(x = citations_by_gender.index, y = citations_by_gender.values, data=citations_by_gender)\n",
    "ax.set_xticklabels(labels);\n",
    "plt.title('Number of occurences by gender');\n",
    "plt.ylabel('Number of occurences');\n",
    "plt.xlabel('Gender');"
   ]
  }
 ],
 "metadata": {
  "kernelspec": {
   "display_name": "Python 3 (ipykernel)",
   "language": "python",
   "name": "python3"
  },
  "language_info": {
   "codemirror_mode": {
    "name": "ipython",
    "version": 3
   },
   "file_extension": ".py",
   "mimetype": "text/x-python",
   "name": "python",
   "nbconvert_exporter": "python",
   "pygments_lexer": "ipython3",
   "version": "3.8.11"
  }
 },
 "nbformat": 4,
 "nbformat_minor": 5
}
