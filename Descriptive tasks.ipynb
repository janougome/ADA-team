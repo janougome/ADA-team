{
 "cells": [
  {
   "cell_type": "markdown",
   "metadata": {},
   "source": [
    "# Women's voices before and after #MeToo"
   ]
  },
  {
   "cell_type": "markdown",
   "metadata": {},
   "source": [
    "## Introduction\n",
    "In this project, we will use the [Quotebank dataset](#https://dl.acm.org/doi/pdf/10.1145/3437963.3441760), an open corpus of 178 million quotations attributed to the speakers who uttered them, extracted from 162 million English news articles published between 2008 and 2020. We will here restrict our analysis to articles published between 2015 and 2020.\n"
   ]
  },
  {
   "cell_type": "markdown",
   "metadata": {},
   "source": [
    "## Preprocessing\n",
    "We are provided with one dataset per year, which are pretty large (from 792,3Mo to 4,84Go). The datasets provided to us follow the pattern below: \n",
    "\n",
    "```\n",
    "root\n",
    " |-- quoteID: string \n",
    " |-- quotation: string \n",
    " |-- speaker: string \n",
    " |-- qids: list\n",
    " |-- date: string \n",
    " |-- numOccurrences: int\n",
    " |-- probas: list\n",
    " |-- urls: list\n",
    " |-- phase: string \n",
    "```\n",
    "\n",
    "1. Since our analysis will be based on the difference between male and female speakers, we need to keep only the quotations for which the speakers are known. We therefore dropped the quotations for which the speaker is unknown, and made the choice to keep only the quotations for which the probability that it is the correct speaker is greater than 0.7.\n",
    "\n",
    "\n",
    "2. To further reduce the datasets, we removed columns of no interest to our analysis: urls, probas, phase and quoteID. We splitted the dataset of 2017 in two: January-October (date of the emergence of the movement) and October-December. After that, we removed the date, still only knowing the year of the dataset will be enough for our analysis. Steps 1 and 2 were performed using Google colab. \n",
    "The code for these two first steps is available [here](src/Reduce_data.ipynb).\n",
    "\n",
    "\n",
    "3. Next, in order to have useful information about the speakers, we used additional speaker metadata available for ~9M unique Wikidata entities (identified by their QID) in the form of a .parquet file named speaker_attributes.parquet. We decided to keep the following attributes: 'gender', 'date_of_birth', 'occupation', 'id', 'ethnic_group', 'academic_degree', 'occupation' and 'religion'. For each dataset, we computed the current age of the speaker the year of the quotation, and thus transformed the column 'date_of_birth' by a column 'age'. Thus, after merging, the datasets follow the following pattern:\n",
    "```\n",
    "root\n",
    " |-- quotation: string \n",
    " |-- speaker: string \n",
    " |-- qids: list\n",
    " |-- numOccurrences: int\n",
    " |-- gender: ndarray\n",
    " |-- age: int\n",
    " |-- occupation: ndarray\n",
    " |-- ethnic_group: ndarray\n",
    " |-- academic_degree: ndarray\n",
    " |-- religion: ndarray\n",
    "```\n",
    "\n",
    "\n",
    "4. Then, we dropped the quotations for which the gender is not known, since we will build all our analyses on it. We then replaced all the wikicodes in the dataset with readable information, using a [dictionnary](data/wikidata_labels_descriptions_quotebank.csv.bz2) linking wikidata labels and descriptions. The speakers for which the year of birth is not known are also removed. \n",
    "\n",
    "The code for step 3 and 4 is available [here](src/get_attributes.ipynb)\n",
    "\n",
    "5. The datasets are now reduced. In order to compute some primary descriptive tasks, we took only samples of this reduced datasets. In particular, we took 100'000 quotations per year. "
   ]
  },
  {
   "cell_type": "markdown",
   "metadata": {},
   "source": [
    "## Imports"
   ]
  },
  {
   "cell_type": "code",
   "execution_count": 1,
   "metadata": {},
   "outputs": [],
   "source": [
    "import pandas as pd\n",
    "import bz2\n",
    "import json\n",
    "import seaborn as sns\n",
    "import matplotlib.pyplot as plt\n",
    "import numpy as np\n",
    "from utils import quotes_by_gender, unique_speaker_per_gender\n"
   ]
  },
  {
   "cell_type": "markdown",
   "metadata": {},
   "source": [
    "## Datasets"
   ]
  },
  {
   "cell_type": "code",
   "execution_count": 2,
   "metadata": {},
   "outputs": [],
   "source": [
    "DATA_FOLDER = 'data/'\n",
    "\n",
    "\n",
    "DATA_2015 = DATA_FOLDER+\"sample-2015.json.bz2\"\n",
    "DATA_2016 = DATA_FOLDER+\"sample-2016.json.bz2\"\n",
    "DATA_2017_BEFORE = DATA_FOLDER + \"sample-2017-before.json.bz2\"\n",
    "DATA_2017_AFTER = DATA_FOLDER + \"sample-2017-after.json.bz2\"\n",
    "DATA_2018 = DATA_FOLDER+\"sample-2018.json.bz2\"\n",
    "DATA_2019 = DATA_FOLDER+\"sample-2019.json.bz2\"\n",
    "DATA_2020 = DATA_FOLDER+\"sample-2020.json.bz2\"\n"
   ]
  },
  {
   "cell_type": "markdown",
   "metadata": {},
   "source": [
    "## Wikidata attributes and dictionnary"
   ]
  },
  {
   "cell_type": "code",
   "execution_count": 3,
   "metadata": {},
   "outputs": [],
   "source": [
    "WIKIDATA_LABELS = DATA_FOLDER + \"wikidata_labels_descriptions_quotebank.csv.bz2\"\n",
    "SPEAKER_ATTRIBUTES_DATA = DATA_FOLDER+\"speaker_attributes.parquet\""
   ]
  },
  {
   "cell_type": "markdown",
   "metadata": {},
   "source": [
    "Load the data:"
   ]
  },
  {
   "cell_type": "code",
   "execution_count": 4,
   "metadata": {},
   "outputs": [],
   "source": [
    "wiki_labels = pd.read_csv(WIKIDATA_LABELS, compression='bz2', index_col='QID')"
   ]
  },
  {
   "cell_type": "code",
   "execution_count": 5,
   "metadata": {},
   "outputs": [],
   "source": [
    "quotes_2015 = pd.read_json(DATA_2015)\n",
    "quotes_2016 = pd.read_json(DATA_2016)\n",
    "quotes_2017_before = pd.read_json(DATA_2017_BEFORE)\n",
    "quotes_2017_after = pd.read_json(DATA_2017_AFTER)\n",
    "quotes_2018 = pd.read_json(DATA_2018)\n",
    "quotes_2019 = pd.read_json(DATA_2019)\n",
    "quotes_2020 = pd.read_json(DATA_2020)"
   ]
  },
  {
   "cell_type": "code",
   "execution_count": 6,
   "metadata": {},
   "outputs": [],
   "source": [
    "quotes_2017 = pd.concat([quotes_2017_before, quotes_2017_after])"
   ]
  },
  {
   "cell_type": "code",
   "execution_count": 7,
   "metadata": {},
   "outputs": [],
   "source": [
    "years = [2015, 2016, 2017, 2018, 2019, 2020]\n",
    "quotes_years = [quotes_2015, quotes_2016, quotes_2017, quotes_2018, quotes_2019, quotes_2020]"
   ]
  },
  {
   "cell_type": "code",
   "execution_count": 8,
   "metadata": {},
   "outputs": [],
   "source": [
    "quotes_before = pd.concat([quotes_2015, quotes_2016, quotes_2017_before], ignore_index=True)\n",
    "quotes_after_shortterm = pd.concat([quotes_2017_after, quotes_2018], ignore_index=True)\n",
    "quotes_after_longterm = pd.concat([quotes_2019, quotes_2020], ignore_index=True)\n",
    "quotes_after = pd.concat([quotes_after_shortterm, quotes_after_longterm], ignore_index=True)"
   ]
  },
  {
   "cell_type": "code",
   "execution_count": 9,
   "metadata": {},
   "outputs": [],
   "source": [
    "periods = ['Before #MeToo', 'After #MeToo (short term)', 'After #MeToo (long term)']\n",
    "quotes_periods = [quotes_before, quotes_after_shortterm, quotes_after_longterm]"
   ]
  },
  {
   "cell_type": "code",
   "execution_count": 10,
   "metadata": {},
   "outputs": [
    {
     "data": {
      "text/html": [
       "<div>\n",
       "<style scoped>\n",
       "    .dataframe tbody tr th:only-of-type {\n",
       "        vertical-align: middle;\n",
       "    }\n",
       "\n",
       "    .dataframe tbody tr th {\n",
       "        vertical-align: top;\n",
       "    }\n",
       "\n",
       "    .dataframe thead th {\n",
       "        text-align: right;\n",
       "    }\n",
       "</style>\n",
       "<table border=\"1\" class=\"dataframe\">\n",
       "  <thead>\n",
       "    <tr style=\"text-align: right;\">\n",
       "      <th></th>\n",
       "      <th>quotation</th>\n",
       "      <th>speaker</th>\n",
       "      <th>qids</th>\n",
       "      <th>numOccurrences</th>\n",
       "      <th>gender</th>\n",
       "      <th>age</th>\n",
       "      <th>occupation</th>\n",
       "      <th>ethnic_group</th>\n",
       "      <th>academic_degree</th>\n",
       "      <th>religion</th>\n",
       "    </tr>\n",
       "  </thead>\n",
       "  <tbody>\n",
       "    <tr>\n",
       "      <th>0</th>\n",
       "      <td>Once you're at Triple-A, you're an injury away...</td>\n",
       "      <td>Theo Epstein</td>\n",
       "      <td>Q1057736</td>\n",
       "      <td>1</td>\n",
       "      <td>male</td>\n",
       "      <td>42</td>\n",
       "      <td>[executive, president, businessperson]</td>\n",
       "      <td>None</td>\n",
       "      <td>None</td>\n",
       "      <td>None</td>\n",
       "    </tr>\n",
       "    <tr>\n",
       "      <th>1</th>\n",
       "      <td>This enhances the interaction between the ligh...</td>\n",
       "      <td>David Hunger</td>\n",
       "      <td>Q42419043</td>\n",
       "      <td>1</td>\n",
       "      <td>male</td>\n",
       "      <td>38</td>\n",
       "      <td>[researcher]</td>\n",
       "      <td>None</td>\n",
       "      <td>None</td>\n",
       "      <td>None</td>\n",
       "    </tr>\n",
       "    <tr>\n",
       "      <th>2</th>\n",
       "      <td>These events certainly do help Hong Kong to ma...</td>\n",
       "      <td>Allan Zeman</td>\n",
       "      <td>Q2837795</td>\n",
       "      <td>1</td>\n",
       "      <td>male</td>\n",
       "      <td>66</td>\n",
       "      <td>[fashion designer, justice of the peace, busin...</td>\n",
       "      <td>None</td>\n",
       "      <td>None</td>\n",
       "      <td>None</td>\n",
       "    </tr>\n",
       "    <tr>\n",
       "      <th>3</th>\n",
       "      <td>One of the joys of living in Corpus Christi is...</td>\n",
       "      <td>Craig Henderson</td>\n",
       "      <td>Q1138558</td>\n",
       "      <td>1</td>\n",
       "      <td>male</td>\n",
       "      <td>28</td>\n",
       "      <td>[association football player]</td>\n",
       "      <td>None</td>\n",
       "      <td>None</td>\n",
       "      <td>None</td>\n",
       "    </tr>\n",
       "    <tr>\n",
       "      <th>4</th>\n",
       "      <td>We must deduct points, relegate a team [ to a ...</td>\n",
       "      <td>Sepp Blatter</td>\n",
       "      <td>Q483437</td>\n",
       "      <td>33</td>\n",
       "      <td>male</td>\n",
       "      <td>79</td>\n",
       "      <td>[sports official, economist, politician, ice h...</td>\n",
       "      <td>[Swiss]</td>\n",
       "      <td>None</td>\n",
       "      <td>None</td>\n",
       "    </tr>\n",
       "  </tbody>\n",
       "</table>\n",
       "</div>"
      ],
      "text/plain": [
       "                                           quotation          speaker  \\\n",
       "0  Once you're at Triple-A, you're an injury away...     Theo Epstein   \n",
       "1  This enhances the interaction between the ligh...     David Hunger   \n",
       "2  These events certainly do help Hong Kong to ma...      Allan Zeman   \n",
       "3  One of the joys of living in Corpus Christi is...  Craig Henderson   \n",
       "4  We must deduct points, relegate a team [ to a ...     Sepp Blatter   \n",
       "\n",
       "        qids  numOccurrences gender  age  \\\n",
       "0   Q1057736               1   male   42   \n",
       "1  Q42419043               1   male   38   \n",
       "2   Q2837795               1   male   66   \n",
       "3   Q1138558               1   male   28   \n",
       "4    Q483437              33   male   79   \n",
       "\n",
       "                                          occupation ethnic_group  \\\n",
       "0             [executive, president, businessperson]         None   \n",
       "1                                       [researcher]         None   \n",
       "2  [fashion designer, justice of the peace, busin...         None   \n",
       "3                      [association football player]         None   \n",
       "4  [sports official, economist, politician, ice h...      [Swiss]   \n",
       "\n",
       "  academic_degree religion  \n",
       "0            None     None  \n",
       "1            None     None  \n",
       "2            None     None  \n",
       "3            None     None  \n",
       "4            None     None  "
      ]
     },
     "execution_count": 10,
     "metadata": {},
     "output_type": "execute_result"
    }
   ],
   "source": [
    "quotes_before.head()"
   ]
  },
  {
   "cell_type": "markdown",
   "metadata": {},
   "source": [
    "# Gender representations in the news\n",
    "## Number of quotations by gender from 2015 to 2020"
   ]
  },
  {
   "cell_type": "code",
   "execution_count": 11,
   "metadata": {},
   "outputs": [],
   "source": [
    "by_gender_years = []\n",
    "for year, quotes in zip(years, quotes_years):\n",
    "    by_gender_years.append(quotes_by_gender(quotes, year, major_only = False, others_grouped = True))\n",
    "\n",
    "quotes_by_gender_years = pd.concat(by_gender_years, ignore_index = True)"
   ]
  },
  {
   "cell_type": "code",
   "execution_count": 12,
   "metadata": {},
   "outputs": [
    {
     "data": {
      "image/png": "[encoded data removed]",
      "text/plain": [
       "<Figure size 720x288 with 1 Axes>"
      ]
     },
     "metadata": {},
     "output_type": "display_data"
    }
   ],
   "source": [
    "sns.set(rc = {'figure.figsize':(10,4)})\n",
    "sns.set_palette('colorblind')\n",
    "\n",
    "ax = sns.barplot(x = quotes_by_gender_years['time'], y = quotes_by_gender_years['count']*100, hue = quotes_by_gender_years['gender'], data = quotes_by_gender_years)\n",
    "ax.set(yscale=\"log\");\n",
    "ax.set(ylabel='Percentage of quotations [%]')\n",
    "ax.set_title('Percentage of quotations by gender and by year');"
   ]
  },
  {
   "cell_type": "markdown",
   "metadata": {},
   "source": [
    "**Be careful, this plot has log scale in y-axis.**"
   ]
  },
  {
   "cell_type": "markdown",
   "metadata": {},
   "source": [
    "By plotting the percentage of quotes by gender for every year from 2015 to 2020, we clearly see that the 'male' gender is the most represented and is the one for which most of the quotes are related.\n",
    "We can also see the proportion of speakers having a different gender than 'male' or 'female' is really low. For this reason, and since our analysis will mainly focus of the 'female' gender and its differences with the 'male' gender, we will discard these speakers for further analysis."
   ]
  },
  {
   "cell_type": "code",
   "execution_count": 13,
   "metadata": {},
   "outputs": [],
   "source": [
    "#Drop the rows having a gender other than the 2 most represented\n",
    "for year, quotes in zip(years, quotes_years):\n",
    "    quotes.drop(quotes[\n",
    "        quotes['gender'].isin(quotes_by_gender(quotes, major_only = True)['gender']) == False].index, inplace = True)"
   ]
  },
  {
   "cell_type": "code",
   "execution_count": 14,
   "metadata": {},
   "outputs": [],
   "source": [
    "for period, quotes in zip(periods, quotes_periods):\n",
    "    quotes.drop(quotes[\n",
    "        quotes['gender'].isin(quotes_by_gender(quotes, major_only = True)['gender']) == False].index, inplace = True)"
   ]
  },
  {
   "cell_type": "markdown",
   "metadata": {},
   "source": [
    "Let's look at the percentage of quotations by gender for every year, now that we have only 'male' and 'female' genders."
   ]
  },
  {
   "cell_type": "code",
   "execution_count": 15,
   "metadata": {},
   "outputs": [],
   "source": [
    "by_gender_years = []\n",
    "for year, quotes in zip(years, quotes_years):\n",
    "    by_gender_years.append(quotes_by_gender(quotes, year, major_only = True))\n",
    "\n",
    "quotes_by_gender_years = pd.concat(by_gender_years, ignore_index = True)"
   ]
  },
  {
   "cell_type": "code",
   "execution_count": 16,
   "metadata": {},
   "outputs": [
    {
     "data": {
      "image/png": "[encoded data removed]",
      "text/plain": [
       "<Figure size 720x288 with 1 Axes>"
      ]
     },
     "metadata": {},
     "output_type": "display_data"
    }
   ],
   "source": [
    "sns.set(rc = {'figure.figsize':(10,4)})\n",
    "sns.set_palette('colorblind')\n",
    "\n",
    "ax = sns.barplot(x = quotes_by_gender_years['time'], y = quotes_by_gender_years['count']*100, hue = quotes_by_gender_years['gender'], data = quotes_by_gender_years)\n",
    "ax.set(ylabel='Percentage of quotations [%]')\n",
    "ax.set_title('Percentage of quotations by gender and by year');"
   ]
  },
  {
   "cell_type": "markdown",
   "metadata": {},
   "source": [
    "Looking at this plot, we observe a clear difference between male and female percentage of quotations. Indeed, around 80% of all reported quotations are told by males. However, looking at the females, we can observe a little increase of their percentage of quotations during time. \n",
    "\n",
    "Let's now take a look a little bit closer at the impact of the #MeToo movement by separating time into 3 categories:\n",
    "\n",
    "-before #MeToo: from January 2015 to October 2017\n",
    "\n",
    "-after #MeToo (short term): from October 2017 to December 2018\n",
    "\n",
    "-after #MeToo (longterm): from January 2019 to December 2020\n"
   ]
  },
  {
   "cell_type": "code",
   "execution_count": 17,
   "metadata": {},
   "outputs": [],
   "source": [
    "by_gender_periods = []\n",
    "for period, quotes in zip(periods, quotes_periods):\n",
    "    by_gender_periods.append(quotes_by_gender(quotes, period, major_only = True))\n",
    "\n",
    "quotes_by_gender_periods = pd.concat(by_gender_periods, ignore_index = True)"
   ]
  },
  {
   "cell_type": "code",
   "execution_count": 18,
   "metadata": {},
   "outputs": [
    {
     "data": {
      "text/html": [
       "<div>\n",
       "<style scoped>\n",
       "    .dataframe tbody tr th:only-of-type {\n",
       "        vertical-align: middle;\n",
       "    }\n",
       "\n",
       "    .dataframe tbody tr th {\n",
       "        vertical-align: top;\n",
       "    }\n",
       "\n",
       "    .dataframe thead th {\n",
       "        text-align: right;\n",
       "    }\n",
       "</style>\n",
       "<table border=\"1\" class=\"dataframe\">\n",
       "  <thead>\n",
       "    <tr style=\"text-align: right;\">\n",
       "      <th></th>\n",
       "      <th>gender</th>\n",
       "      <th>count</th>\n",
       "      <th>Occurrences</th>\n",
       "      <th>time</th>\n",
       "    </tr>\n",
       "  </thead>\n",
       "  <tbody>\n",
       "    <tr>\n",
       "      <th>0</th>\n",
       "      <td>male</td>\n",
       "      <td>0.850526</td>\n",
       "      <td>0.847414</td>\n",
       "      <td>Before #MeToo</td>\n",
       "    </tr>\n",
       "    <tr>\n",
       "      <th>1</th>\n",
       "      <td>female</td>\n",
       "      <td>0.149474</td>\n",
       "      <td>0.152586</td>\n",
       "      <td>Before #MeToo</td>\n",
       "    </tr>\n",
       "    <tr>\n",
       "      <th>2</th>\n",
       "      <td>male</td>\n",
       "      <td>0.838579</td>\n",
       "      <td>0.839697</td>\n",
       "      <td>After #MeToo (short term)</td>\n",
       "    </tr>\n",
       "    <tr>\n",
       "      <th>3</th>\n",
       "      <td>female</td>\n",
       "      <td>0.161421</td>\n",
       "      <td>0.160303</td>\n",
       "      <td>After #MeToo (short term)</td>\n",
       "    </tr>\n",
       "    <tr>\n",
       "      <th>4</th>\n",
       "      <td>male</td>\n",
       "      <td>0.818454</td>\n",
       "      <td>0.814626</td>\n",
       "      <td>After #MeToo (long term)</td>\n",
       "    </tr>\n",
       "    <tr>\n",
       "      <th>5</th>\n",
       "      <td>female</td>\n",
       "      <td>0.181546</td>\n",
       "      <td>0.185374</td>\n",
       "      <td>After #MeToo (long term)</td>\n",
       "    </tr>\n",
       "  </tbody>\n",
       "</table>\n",
       "</div>"
      ],
      "text/plain": [
       "   gender     count  Occurrences                       time\n",
       "0    male  0.850526     0.847414              Before #MeToo\n",
       "1  female  0.149474     0.152586              Before #MeToo\n",
       "2    male  0.838579     0.839697  After #MeToo (short term)\n",
       "3  female  0.161421     0.160303  After #MeToo (short term)\n",
       "4    male  0.818454     0.814626   After #MeToo (long term)\n",
       "5  female  0.181546     0.185374   After #MeToo (long term)"
      ]
     },
     "execution_count": 18,
     "metadata": {},
     "output_type": "execute_result"
    }
   ],
   "source": [
    "quotes_by_gender_periods"
   ]
  },
  {
   "cell_type": "code",
   "execution_count": 19,
   "metadata": {},
   "outputs": [
    {
     "data": {
      "image/png": "[encoded data removed]",
      "text/plain": [
       "<Figure size 720x288 with 1 Axes>"
      ]
     },
     "metadata": {},
     "output_type": "display_data"
    }
   ],
   "source": [
    "ax = sns.barplot(x = quotes_by_gender_periods['time'], y = quotes_by_gender_periods['count']*100, hue = quotes_by_gender_periods['gender'], data = quotes_by_gender_periods)\n",
    "#ax.set(yscale=\"log\");\n",
    "ax.set(ylabel='Percentage of quotations [%]')\n",
    "ax.set_title('Percentage of quotations by gender and by period');"
   ]
  },
  {
   "cell_type": "markdown",
   "metadata": {},
   "source": [
    "Here again we can observe a little increase in the percentage of female quotations: before the movement the percentage was around 15%, and it lies around 18% long after the movement."
   ]
  },
  {
   "cell_type": "markdown",
   "metadata": {},
   "source": [
    "## Number of occurences by gender from 2015 to 2020"
   ]
  },
  {
   "cell_type": "markdown",
   "metadata": {},
   "source": [
    "In the previous part, we focused on the number of unique quotation per gender. We will now explore the total number of occurrences per gender to see if we observe any difference."
   ]
  },
  {
   "cell_type": "code",
   "execution_count": 20,
   "metadata": {},
   "outputs": [
    {
     "data": {
      "image/png": "[encoded data removed]",
      "text/plain": [
       "<Figure size 720x288 with 1 Axes>"
      ]
     },
     "metadata": {},
     "output_type": "display_data"
    }
   ],
   "source": [
    "ax = sns.barplot(x = quotes_by_gender_years['time'], y = quotes_by_gender_years['Occurrences']*100, hue = quotes_by_gender_years['gender'], data = quotes_by_gender_years)\n",
    "ax.set(ylabel='Percentage of total occurrences [%]')\n",
    "ax.set_title('Percentage of total occurrences by gender and by year');"
   ]
  },
  {
   "cell_type": "code",
   "execution_count": 21,
   "metadata": {},
   "outputs": [
    {
     "data": {
      "image/png": "[encoded data removed]",
      "text/plain": [
       "<Figure size 720x288 with 1 Axes>"
      ]
     },
     "metadata": {},
     "output_type": "display_data"
    }
   ],
   "source": [
    "ax = sns.barplot(x = quotes_by_gender_periods['time'], y = quotes_by_gender_periods['Occurrences']*100, hue = quotes_by_gender_periods['gender'], data = quotes_by_gender_periods)\n",
    "ax.set(ylabel='Percentage of total occurrences [%]')\n",
    "ax.set_title('Percentage of total occurrences by gender and by period');"
   ]
  },
  {
   "cell_type": "markdown",
   "metadata": {},
   "source": [
    "We see that these graphs are sensibly the same than the above ones. Taking the number of unique quotes or the total number of occurences per gender lead to the same proportions."
   ]
  },
  {
   "cell_type": "markdown",
   "metadata": {},
   "source": [
    "## Number of speakers by gender from 2015 to 2020"
   ]
  },
  {
   "cell_type": "markdown",
   "metadata": {},
   "source": [
    "Previously, we have looked at the proportions of unique quotations by gender, as well as the proportion of total occurences attributed to each gender. In this last part, let's take a look at the proportion of unique speakers of each gender over the time."
   ]
  },
  {
   "cell_type": "code",
   "execution_count": 22,
   "metadata": {},
   "outputs": [],
   "source": [
    "by_speaker_years = []\n",
    "for year, quotes in zip(years, quotes_years):\n",
    "    by_speaker_years.append(unique_speaker_per_gender(quotes, year))\n",
    "\n",
    "quotes_by_speaker_years = pd.concat(by_speaker_years, ignore_index = True)"
   ]
  },
  {
   "cell_type": "code",
   "execution_count": 23,
   "metadata": {},
   "outputs": [
    {
     "data": {
      "text/html": [
       "<div>\n",
       "<style scoped>\n",
       "    .dataframe tbody tr th:only-of-type {\n",
       "        vertical-align: middle;\n",
       "    }\n",
       "\n",
       "    .dataframe tbody tr th {\n",
       "        vertical-align: top;\n",
       "    }\n",
       "\n",
       "    .dataframe thead th {\n",
       "        text-align: right;\n",
       "    }\n",
       "</style>\n",
       "<table border=\"1\" class=\"dataframe\">\n",
       "  <thead>\n",
       "    <tr style=\"text-align: right;\">\n",
       "      <th></th>\n",
       "      <th>gender</th>\n",
       "      <th>count</th>\n",
       "      <th>time</th>\n",
       "    </tr>\n",
       "  </thead>\n",
       "  <tbody>\n",
       "    <tr>\n",
       "      <th>0</th>\n",
       "      <td>male</td>\n",
       "      <td>0.829249</td>\n",
       "      <td>2015</td>\n",
       "    </tr>\n",
       "    <tr>\n",
       "      <th>1</th>\n",
       "      <td>female</td>\n",
       "      <td>0.170751</td>\n",
       "      <td>2015</td>\n",
       "    </tr>\n",
       "    <tr>\n",
       "      <th>2</th>\n",
       "      <td>male</td>\n",
       "      <td>0.821708</td>\n",
       "      <td>2016</td>\n",
       "    </tr>\n",
       "    <tr>\n",
       "      <th>3</th>\n",
       "      <td>female</td>\n",
       "      <td>0.178292</td>\n",
       "      <td>2016</td>\n",
       "    </tr>\n",
       "    <tr>\n",
       "      <th>4</th>\n",
       "      <td>male</td>\n",
       "      <td>0.810816</td>\n",
       "      <td>2017</td>\n",
       "    </tr>\n",
       "    <tr>\n",
       "      <th>5</th>\n",
       "      <td>female</td>\n",
       "      <td>0.189184</td>\n",
       "      <td>2017</td>\n",
       "    </tr>\n",
       "    <tr>\n",
       "      <th>6</th>\n",
       "      <td>male</td>\n",
       "      <td>0.808158</td>\n",
       "      <td>2018</td>\n",
       "    </tr>\n",
       "    <tr>\n",
       "      <th>7</th>\n",
       "      <td>female</td>\n",
       "      <td>0.191842</td>\n",
       "      <td>2018</td>\n",
       "    </tr>\n",
       "    <tr>\n",
       "      <th>8</th>\n",
       "      <td>male</td>\n",
       "      <td>0.801912</td>\n",
       "      <td>2019</td>\n",
       "    </tr>\n",
       "    <tr>\n",
       "      <th>9</th>\n",
       "      <td>female</td>\n",
       "      <td>0.198088</td>\n",
       "      <td>2019</td>\n",
       "    </tr>\n",
       "    <tr>\n",
       "      <th>10</th>\n",
       "      <td>male</td>\n",
       "      <td>0.799826</td>\n",
       "      <td>2020</td>\n",
       "    </tr>\n",
       "    <tr>\n",
       "      <th>11</th>\n",
       "      <td>female</td>\n",
       "      <td>0.200174</td>\n",
       "      <td>2020</td>\n",
       "    </tr>\n",
       "  </tbody>\n",
       "</table>\n",
       "</div>"
      ],
      "text/plain": [
       "    gender     count  time\n",
       "0     male  0.829249  2015\n",
       "1   female  0.170751  2015\n",
       "2     male  0.821708  2016\n",
       "3   female  0.178292  2016\n",
       "4     male  0.810816  2017\n",
       "5   female  0.189184  2017\n",
       "6     male  0.808158  2018\n",
       "7   female  0.191842  2018\n",
       "8     male  0.801912  2019\n",
       "9   female  0.198088  2019\n",
       "10    male  0.799826  2020\n",
       "11  female  0.200174  2020"
      ]
     },
     "execution_count": 23,
     "metadata": {},
     "output_type": "execute_result"
    }
   ],
   "source": [
    "quotes_by_speaker_years"
   ]
  },
  {
   "cell_type": "code",
   "execution_count": 24,
   "metadata": {},
   "outputs": [
    {
     "data": {
      "image/png": "[encoded data removed]",
      "text/plain": [
       "<Figure size 720x288 with 1 Axes>"
      ]
     },
     "metadata": {},
     "output_type": "display_data"
    }
   ],
   "source": [
    "ax = sns.barplot(x = quotes_by_speaker_years['time'], y = quotes_by_speaker_years['count']*100, hue = quotes_by_speaker_years['gender'], data = quotes_by_speaker_years)\n",
    "ax.set(ylabel='Percentage of quotations [%]')\n",
    "ax.set_title('Percentage of quotations by gender and by year');"
   ]
  },
  {
   "cell_type": "markdown",
   "metadata": {},
   "source": [
    "Here again, we can see that the proportion of male speakers is largely bigger than female speakers since they represent 80% of all speakers. However, in this plot we observe a linear increase of female speakers over the years from 2015 to 2020. Particularly, in 2020, the proportion of female speaker hits the 20%. It was not the case when looking at the graph of occurences and quotations: it seems that a unique male speaker has more quotations and occurences attributed to him than does a female speaker."
   ]
  },
  {
   "cell_type": "code",
   "execution_count": 25,
   "metadata": {},
   "outputs": [],
   "source": [
    "by_speaker_periods = []\n",
    "for period, quotes in zip(periods, quotes_years):\n",
    "    by_speaker_periods.append(unique_speaker_per_gender(quotes, period))\n",
    "\n",
    "quotes_by_speaker_periods = pd.concat(by_speaker_periods, ignore_index = True)"
   ]
  },
  {
   "cell_type": "code",
   "execution_count": 26,
   "metadata": {},
   "outputs": [
    {
     "data": {
      "image/png": "[encoded data removed]",
      "text/plain": [
       "<Figure size 720x288 with 1 Axes>"
      ]
     },
     "metadata": {},
     "output_type": "display_data"
    }
   ],
   "source": [
    "ax = sns.barplot(x = quotes_by_speaker_periods['time'], y = quotes_by_speaker_periods['count']*100, hue = quotes_by_speaker_periods['gender'], data = quotes_by_speaker_periods)\n",
    "ax.set(ylabel='Percentage of quotations [%]')\n",
    "ax.set_title('Percentage of quotations by gender and by year');"
   ]
  },
  {
   "cell_type": "markdown",
   "metadata": {},
   "source": [
    "Looking at this plot, we can see the same trend than above: it seems to be a little bit more female speakers compared to male speaker as time increase. However, we do not know for now if it is really related to the #MeToo movement or by an overall mentality change."
   ]
  }
 ],
 "metadata": {
  "kernelspec": {
   "display_name": "Python 3",
   "language": "python",
   "name": "python3"
  },
  "language_info": {
   "codemirror_mode": {
    "name": "ipython",
    "version": 3
   },
   "file_extension": ".py",
   "mimetype": "text/x-python",
   "name": "python",
   "nbconvert_exporter": "python",
   "pygments_lexer": "ipython3",
   "version": "3.8.5"
  }
 },
 "nbformat": 4,
 "nbformat_minor": 5
}
